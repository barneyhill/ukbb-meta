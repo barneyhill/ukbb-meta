{
 "cells": [
  {
   "cell_type": "markdown",
   "id": "147bc503",
   "metadata": {},
   "source": [
    "### Compare results of test input T2D vs UKB T2D"
   ]
  },
  {
   "cell_type": "code",
   "execution_count": 17,
   "id": "c4d79c79",
   "metadata": {},
   "outputs": [
    {
     "name": "stdout",
     "output_type": "stream",
     "text": [
      "     CHR     GENE      Pval  Pval_0.00  Pval_0.01  Pval_0.04  Pval_0.09  \\\n",
      "0      7     AASS  0.510414   0.529440   0.527758   0.522038   0.510045   \n",
      "1      7   ABCA13  0.188158   0.296202   0.270620   0.225666   0.193205   \n",
      "2      7    ABCB1  0.192382   0.110369   0.110528   0.111638   0.115302   \n",
      "3      7    ABCB4  0.641855   0.702366   0.702648   0.702473   0.698818   \n",
      "4      7    ABCB5  0.655681   0.440409   0.451979   0.485342   0.531072   \n",
      "..   ...      ...       ...        ...        ...        ...        ...   \n",
      "869    7      ZP3  0.209248   0.122559   0.123164   0.125455   0.130552   \n",
      "870    7     ZPBP  0.158681   0.294497   0.289051   0.273460   0.249830   \n",
      "871    7  ZSCAN21  0.214376   0.356323   0.346662   0.318806   0.276362   \n",
      "872    7  ZSCAN25  1.000000   1.000000   1.000000   1.000000   1.000000   \n",
      "873    7      ZYX  0.116912   0.615056   0.581026   0.488547   0.365363   \n",
      "\n",
      "     Pval_0.025  Pval_0.50  Pval_1.00  \n",
      "0      0.454854   0.378288   0.323491  \n",
      "1      0.163613   0.152719   0.146803  \n",
      "2      0.133642   0.163900   0.213618  \n",
      "3      0.662048   0.566454   0.448908  \n",
      "4      0.624308   0.746166   0.857871  \n",
      "..          ...        ...        ...  \n",
      "869    0.150730   0.182762   0.238796  \n",
      "870    0.191306   0.138426   0.100454  \n",
      "871    0.184534   0.138241   0.123758  \n",
      "872    1.000000   1.000000   1.000000  \n",
      "873    0.164177   0.090328   0.065865  \n",
      "\n",
      "[874 rows x 10 columns]\n",
      "        Gene Name          Gene Id  P‑Value SKATO  P‑Value Burden  \\\n",
      "0             GCK  ENSG00000106633   7.566589e-13    5.607485e-13   \n",
      "1            ANKH  ENSG00000154122   1.122092e-10    5.389459e-05   \n",
      "2         MAP3K15  ENSG00000180815   1.957281e-05    1.544252e-05   \n",
      "3          ZNF771  ENSG00000179965   6.850809e-05    1.418554e-04   \n",
      "4          ANTKMT  ENSG00000103254   9.821107e-05    8.182425e-03   \n",
      "...           ...              ...            ...             ...   \n",
      "19398  AC011455.2  ENSG00000269547            NaN             NaN   \n",
      "19399     GPIHBP1  ENSG00000277494            NaN             NaN   \n",
      "19400    C11orf98  ENSG00000278615            NaN             NaN   \n",
      "19401  AC068547.1  ENSG00000283228            NaN             NaN   \n",
      "19402  AC018362.3  ENSG00000285942            NaN             NaN   \n",
      "\n",
      "       P‑Value SKAT  BETA Burden   Burden Set  Chrom : Position Chrom  \\\n",
      "0      8.440242e-06     0.046521  missense|LC      7.044139e+09     7   \n",
      "1      1.602988e-11    -0.008101  missense|LC      5.014711e+09     5   \n",
      "2      4.762145e-04    -0.004243  missense|LC      2.301936e+10     X   \n",
      "3      7.150907e-05     0.009750  missense|LC      1.603041e+10    16   \n",
      "4      7.028536e-05     0.013038  missense|LC      1.600072e+10    16   \n",
      "...             ...          ...          ...               ...   ...   \n",
      "19398           NaN          NaN  missense|LC               NaN   NaN   \n",
      "19399           NaN          NaN  missense|LC               NaN   NaN   \n",
      "19400           NaN          NaN  missense|LC               NaN   NaN   \n",
      "19401           NaN          NaN  missense|LC               NaN   NaN   \n",
      "19402           NaN          NaN  missense|LC               NaN   NaN   \n",
      "\n",
      "         Position  Details  \n",
      "0      44139451.0      NaN  \n",
      "1      14711150.0      NaN  \n",
      "2      19355683.0      NaN  \n",
      "3      30408021.0      NaN  \n",
      "4        716147.0      NaN  \n",
      "...           ...      ...  \n",
      "19398         NaN      NaN  \n",
      "19399         NaN      NaN  \n",
      "19400         NaN      NaN  \n",
      "19401         NaN      NaN  \n",
      "19402         NaN      NaN  \n",
      "\n",
      "[19403 rows x 11 columns]\n",
      "838\n",
      "874\n",
      "GCK\n"
     ]
    },
    {
     "name": "stderr",
     "output_type": "stream",
     "text": [
      "No artists with labels found to put in legend.  Note that artists whose label start with an underscore are ignored when legend() is called with no argument.\n"
     ]
    },
    {
     "data": {
      "image/png": "[encoded data removed]",
      "text/plain": [
       "<Figure size 432x288 with 1 Axes>"
      ]
     },
     "metadata": {
      "needs_background": "light"
     },
     "output_type": "display_data"
    }
   ],
   "source": [
    "import sys\n",
    "import pandas as pd\n",
    "import matplotlib.pyplot as plt\n",
    "import math\n",
    "import numpy as np\n",
    "\n",
    "chr20 = pd.read_csv(\"07_10_data/associations_output_chr20.txt\", sep=' ')\n",
    "chr21 = pd.read_csv(\"07_10_data/associations_output_chr21.txt\", sep=' ')\n",
    "#gene_bass = pd.read_csv(\"T2D_EUR_genebass_missense.csv\", sep=\",\")\n",
    "\n",
    "meta = pd.concat([chr20, chr21])\n",
    "#meta = pd.read_csv(\"~/brava/Rare_Variant_Meta/test_output/t2d_chr7_0.01_missense_lof_res.txt\", sep=' ')\n",
    "\n",
    "chr20 = pd.read_csv(\"07_10_data/gene_associations/.txt\", sep=' ')\n",
    "chr21 = pd.read_csv(\"07_10_data/associations_output_chr21.txt\", sep=' ')\n",
    "gene_associations = pd.concat([chr20, chr21])\n",
    "\n",
    "\n",
    "print(meta)\n",
    "\n",
    "print(gene_bass)\n",
    "\n",
    "gene_list = list(set(gene_bass[\"Gene Name\"]) & set(meta[\"GENE\"]))\n",
    "\n",
    "print(len(gene_list))\n",
    "\n",
    "#assocs_afr = assocs_afr.loc[assocs_afr[\"Region\"].isin(gene_list)] \n",
    "#assocs_sas = assocs_sas.loc[assocs_sas[\"Region\"].isin(gene_list)]\n",
    "\n",
    "fig, ax = plt.subplots()\n",
    "\n",
    "print(len(meta))\n",
    "\n",
    "for gene in gene_list:\n",
    "\tif -math.log10(float(meta.loc[meta[\"GENE\"] == gene][\"Pval\"])) > 10:\n",
    "\t\tprint(gene)\n",
    "\t#print(meta.loc[meta[\"GENE\"] == gene],gene_bass.loc[gene_bass[\"Gene Name\"] == gene])\n",
    "\tax.scatter(-math.log10(float(meta.loc[meta[\"GENE\"] == gene][\"Pval\"])),\n",
    "\t\t       -math.log10(float(gene_bass.loc[gene_bass[\"Gene Name\"] == gene][\"P‑Value SKATO\"])), color=\"red\")\n",
    "\t#print(gene,p,assocs_meta[assocs_meta[\"GENE\"] == gene][\"Pval\"], assocs_afr[assocs_afr[\"Region\"] == gene][\"Pvalue_SKAT\"],assocs_sas[assocs_sas[\"Region\"] == gene][\"Pvalue_SKAT\"])\n",
    "\t#ax.scatter(-math.log(p), -math.log(float(assocs_meta.loc[assocs_meta[\"GENE\"] == gene][\"Pval\"])), color=\"blue\",s=10)\n",
    "\t#ax.scatter(-math.log(p), -math.log(float(assocs_afr.loc[assocs_afr[\"Region\"] == gene][\"Pvalue\"])), color=\"red\",s=10)\n",
    "\t#ax.scatter(-math.log(p), assocs_meta.loc[assocs_sas[\"Region\"] == gene][\"Pvalue_SKAT\"], label=\"SAS\",s=10)\n",
    "\n",
    "ax.set_xlabel(\"Meta-analysis Pvalue\")\n",
    "ax.set_ylabel(\"Genebass SKAT-O Pvalue\")\n",
    "ax.axline((0, 0), slope=1)\n",
    "ax.set_aspect('equal', adjustable='box')\n",
    "\n",
    "ax.legend()\n",
    "\n",
    "plt.show()"
   ]
  },
  {
   "cell_type": "code",
   "execution_count": 16,
   "id": "b6da79c3",
   "metadata": {},
   "outputs": [
    {
     "data": {
      "text/html": [
       "<div>\n",
       "<style scoped>\n",
       "    .dataframe tbody tr th:only-of-type {\n",
       "        vertical-align: middle;\n",
       "    }\n",
       "\n",
       "    .dataframe tbody tr th {\n",
       "        vertical-align: top;\n",
       "    }\n",
       "\n",
       "    .dataframe thead th {\n",
       "        text-align: right;\n",
       "    }\n",
       "</style>\n",
       "<table border=\"1\" class=\"dataframe\">\n",
       "  <thead>\n",
       "    <tr style=\"text-align: right;\">\n",
       "      <th></th>\n",
       "      <th>Gene Name</th>\n",
       "      <th>Gene Id</th>\n",
       "      <th>P‑Value SKATO</th>\n",
       "      <th>P‑Value Burden</th>\n",
       "      <th>P‑Value SKAT</th>\n",
       "      <th>BETA Burden</th>\n",
       "      <th>Burden Set</th>\n",
       "      <th>Chrom : Position</th>\n",
       "      <th>Chrom</th>\n",
       "      <th>Position</th>\n",
       "      <th>Details</th>\n",
       "    </tr>\n",
       "  </thead>\n",
       "  <tbody>\n",
       "    <tr>\n",
       "      <th>7338</th>\n",
       "      <td>GCK</td>\n",
       "      <td>ENSG00000106633</td>\n",
       "      <td>0.402846</td>\n",
       "      <td>0.488677</td>\n",
       "      <td>0.279626</td>\n",
       "      <td>-0.001607</td>\n",
       "      <td>synonymous</td>\n",
       "      <td>7.044139e+09</td>\n",
       "      <td>7</td>\n",
       "      <td>44139451.0</td>\n",
       "      <td>NaN</td>\n",
       "    </tr>\n",
       "  </tbody>\n",
       "</table>\n",
       "</div>"
      ],
      "text/plain": [
       "     Gene Name          Gene Id  P‑Value SKATO  P‑Value Burden  P‑Value SKAT  \\\n",
       "7338       GCK  ENSG00000106633       0.402846        0.488677      0.279626   \n",
       "\n",
       "      BETA Burden  Burden Set  Chrom : Position Chrom    Position  Details  \n",
       "7338    -0.001607  synonymous      7.044139e+09     7  44139451.0      NaN  "
      ]
     },
     "execution_count": 16,
     "metadata": {},
     "output_type": "execute_result"
    }
   ],
   "source": [
    "gene_bass.loc[gene_bass[\"Gene Name\"] == \"GCK\"]"
   ]
  },
  {
   "cell_type": "code",
   "execution_count": 33,
   "id": "857b3838",
   "metadata": {},
   "outputs": [
    {
     "name": "stderr",
     "output_type": "stream",
     "text": [
      "100%|██████████████████████████████████| 36926/36926 [00:00<00:00, 40290.51it/s]\n"
     ]
    }
   ],
   "source": [
    "# Calculate proportion of GWAS_summary 'in' gene file\n",
    "\n",
    "import tqdm\n",
    "\n",
    "gwas = pd.read_csv(\"07_10_data/saige/EUR_associations.txt\", sep='\\t')\n",
    "gene_file = open('07_10_data/combined_UKB_exome_annos.txt', 'r')\n",
    "genes = gene_file.readlines()\n",
    "  \n",
    "count = 0\n",
    "\n",
    "all_gene_variants = []\n",
    "\n",
    "for gene in tqdm.tqdm(genes):\n",
    "    if count % 2 == 0:\n",
    "        all_gene_variants.extend(gene.split(\" \")[2:])\n",
    "    count+=1"
   ]
  },
  {
   "cell_type": "code",
   "execution_count": 39,
   "id": "bade20cd",
   "metadata": {},
   "outputs": [
    {
     "name": "stderr",
     "output_type": "stream",
     "text": [
      "100%|██████████████████████████| 10906409/10906409 [00:05<00:00, 2027175.70it/s]\n"
     ]
    }
   ],
   "source": [
    "tmp = []\n",
    "\n",
    "for variant in tqdm.tqdm(all_gene_variants):\n",
    "    if variant[0:2] == \"20\":\n",
    "        tmp.append(variant)\n",
    "all_gene_variants = tmp"
   ]
  },
  {
   "cell_type": "code",
   "execution_count": 43,
   "id": "7fb4263d",
   "metadata": {},
   "outputs": [
    {
     "name": "stderr",
     "output_type": "stream",
     "text": [
      "100%|████████████████████████████████████| 44077/44077 [01:42<00:00, 430.20it/s]"
     ]
    },
    {
     "name": "stdout",
     "output_type": "stream",
     "text": [
      "24992 44077\n"
     ]
    },
    {
     "name": "stderr",
     "output_type": "stream",
     "text": [
      "\n"
     ]
    }
   ],
   "source": [
    "found = 0\n",
    "for var in tqdm.tqdm(gwas[\"MarkerID\"]):\n",
    "    if var[3:] in all_gene_variants:\n",
    "        found += 1\n",
    "        \n",
    "print(found, len(gwas[\"MarkerID\"]))"
   ]
  },
  {
   "cell_type": "code",
   "execution_count": 105,
   "id": "5ce324ac",
   "metadata": {
    "scrolled": true
   },
   "outputs": [
    {
     "name": "stdout",
     "output_type": "stream",
     "text": [
      "       CHR      GENE      Pval  Pval_0.00  Pval_0.01  Pval_0.04  Pval_0.09  \\\n",
      "0    chr20   DEFB126  0.207908   0.133448   0.136275   0.145190   0.161384   \n",
      "1    chr20   DEFB127  0.441428   0.309563   0.309829   0.310395   0.310407   \n",
      "2    chr20   DEFB128  0.093801   0.212902   0.207165   0.190838   0.166555   \n",
      "3    chr20   DEFB129  0.682723   0.557074   0.558559   0.562235   0.566140   \n",
      "4    chr20   DEFB132  0.556246   0.387306   0.392883   0.409374   0.435854   \n",
      "..     ...       ...       ...        ...        ...        ...        ...   \n",
      "133  chr21    MCM3AP  0.368016   1.000000   1.000000   1.000000   1.000000   \n",
      "134  chr21  C21orf58  0.632357   0.416810   0.409640   0.446003   0.495087   \n",
      "135  chr21      PCNT  0.140969   1.000000   1.000000   1.000000   1.000000   \n",
      "136  chr21     DIP2A  0.682618   0.613982   0.599565   0.745782   0.637009   \n",
      "137  chr21     PRMT2  0.923539   1.000000   1.000000   1.000000   1.000000   \n",
      "\n",
      "     Pval_0.025  Pval_0.50  Pval_1.00  \n",
      "0      0.221497   0.326765   0.541005  \n",
      "1      0.303523   0.292743   0.299442  \n",
      "2      0.111897   0.074598   0.056678  \n",
      "3      0.567272   0.556066   0.532040  \n",
      "4      0.512375   0.613756   0.752322  \n",
      "..          ...        ...        ...  \n",
      "133    1.000000   0.986973   0.082762  \n",
      "134    0.595340   0.716923   0.837201  \n",
      "135    1.000000   0.558062   0.169698  \n",
      "136    1.000000   1.000000   1.000000  \n",
      "137    1.000000   1.000000   0.754433  \n",
      "\n",
      "[511 rows x 10 columns]\n",
      "        Gene Name          Gene Id  P‑Value SKATO  P‑Value Burden  \\\n",
      "0           RPS3A  ENSG00000145425       0.000006        0.000003   \n",
      "1         DEFB115  ENSG00000215547       0.000013        0.000013   \n",
      "2        C19orf84  ENSG00000262874       0.000051        0.004356   \n",
      "3           ZFP37  ENSG00000136866       0.000069        0.000060   \n",
      "4         ZNF280C  ENSG00000056277       0.000077        0.000139   \n",
      "...           ...              ...            ...             ...   \n",
      "19367  AC011455.2  ENSG00000269547            NaN             NaN   \n",
      "19368     GPIHBP1  ENSG00000277494            NaN             NaN   \n",
      "19369    C11orf98  ENSG00000278615            NaN             NaN   \n",
      "19370  AC068547.1  ENSG00000283228            NaN             NaN   \n",
      "19371  AC018362.3  ENSG00000285942            NaN             NaN   \n",
      "\n",
      "       P‑Value SKAT  BETA Burden  Burden Set  Chrom : Position Chrom  \\\n",
      "0          0.001866     0.035507  synonymous      4.151100e+09     4   \n",
      "1          0.000341     0.029998  synonymous      2.003126e+10    20   \n",
      "2          0.000033     0.028248  synonymous      1.905139e+10    19   \n",
      "3          0.002330     0.022138  synonymous      9.113043e+09     9   \n",
      "4          0.000101     0.010536  synonymous      2.313020e+10     X   \n",
      "...             ...          ...         ...               ...   ...   \n",
      "19367           NaN          NaN  synonymous               NaN   NaN   \n",
      "19368           NaN          NaN  synonymous               NaN   NaN   \n",
      "19369           NaN          NaN  synonymous               NaN   NaN   \n",
      "19370           NaN          NaN  synonymous               NaN   NaN   \n",
      "19371           NaN          NaN  synonymous               NaN   NaN   \n",
      "\n",
      "          Position  Details  \n",
      "0      151099582.0      NaN  \n",
      "1       31257607.0      NaN  \n",
      "2       51387118.0      NaN  \n",
      "3      113042706.0      NaN  \n",
      "4      130204915.0      NaN  \n",
      "...            ...      ...  \n",
      "19367          NaN      NaN  \n",
      "19368          NaN      NaN  \n",
      "19369          NaN      NaN  \n",
      "19370          NaN      NaN  \n",
      "19371          NaN      NaN  \n",
      "\n",
      "[19372 rows x 11 columns]\n",
      "511\n",
      "511\n"
     ]
    },
    {
     "name": "stderr",
     "output_type": "stream",
     "text": [
      "No artists with labels found to put in legend.  Note that artists whose label start with an underscore are ignored when legend() is called with no argument.\n"
     ]
    },
    {
     "data": {
      "image/png": "[encoded data removed]",
      "text/plain": [
       "<Figure size 432x288 with 1 Axes>"
      ]
     },
     "metadata": {
      "needs_background": "light"
     },
     "output_type": "display_data"
    }
   ],
   "source": [
    "import sys\n",
    "import pandas as pd\n",
    "import matplotlib.pyplot as plt\n",
    "import math\n",
    "import numpy as np\n",
    "\n",
    "chr20 = pd.read_csv(\"07_10_data/associations_output_chr20.txt\", sep=' ')\n",
    "chr21 = pd.read_csv(\"07_10_data/associations_output_chr21.txt\", sep=' ')\n",
    "\n",
    "meta = pd.concat([chr20, chr21])\n",
    "#meta = pd.read_csv(\"~/brava/Rare_Variant_Meta/test_output/t2d_chr7_0.01_missense_lof_res.txt\", sep=' ')\n",
    "\n",
    "chr20 = pd.read_csv(\"07_10_data/saige/gene_associations/chr20.txt\", sep='\\t')\n",
    "chr21 = pd.read_csv(\"07_10_data/saige/gene_associations/chr21.txt\", sep='\\t')\n",
    "gene_associations = pd.concat([chr20, chr21])\n",
    "\n",
    "\n",
    "print(meta)\n",
    "\n",
    "print(gene_bass)\n",
    "\n",
    "gene_list = list(set(gene_associations[\"Region\"]) & set(meta[\"GENE\"]))\n",
    "\n",
    "print(len(gene_list))\n",
    "\n",
    "#assocs_afr = assocs_afr.loc[assocs_afr[\"Region\"].isin(gene_list)] \n",
    "#assocs_sas = assocs_sas.loc[assocs_sas[\"Region\"].isin(gene_list)]\n",
    "\n",
    "fig, ax = plt.subplots()\n",
    "\n",
    "print(len(meta))\n",
    "\n",
    "for gene in gene_list:\n",
    "\tif -math.log10(float(meta.loc[meta[\"GENE\"] == gene][\"Pval\"])) > 10:\n",
    "\t\tprint(gene)\n",
    "\t#print(meta.loc[meta[\"GENE\"] == gene],gene_bass.loc[gene_bass[\"Gene Name\"] == gene])\n",
    "\tax.scatter(-math.log10(float(meta.loc[meta[\"GENE\"] == gene][\"Pval\"])),\n",
    "\t\t       -math.log10(float(gene_associations.loc[(gene_associations[\"Region\"] == gene) & (gene_associations[\"Group\"]==\"missense;lof\") & (gene_associations[\"max_MAF\"]==0.0001)][\"Pvalue\"])), color=\"red\")\n",
    "\t#print(gene,p,assocs_meta[assocs_meta[\"GENE\"] == gene][\"Pval\"], assocs_afr[assocs_afr[\"Region\"] == gene][\"Pvalue_SKAT\"],assocs_sas[assocs_sas[\"Region\"] == gene][\"Pvalue_SKAT\"])\n",
    "\t#ax.scatter(-math.log(p), -math.log(float(assocs_meta.loc[assocs_meta[\"GENE\"] == gene][\"Pval\"])), color=\"blue\",s=10)\n",
    "\t#ax.scatter(-math.log(p), -math.log(float(assocs_afr.loc[assocs_afr[\"Region\"] == gene][\"Pvalue\"])), color=\"red\",s=10)\n",
    "\t#ax.scatter(-math.log(p), assocs_meta.loc[assocs_sas[\"Region\"] == gene][\"Pvalue_SKAT\"], label=\"SAS\",s=10)\n",
    "\n",
    "ax.set_xlabel(\"Meta-analysis Pvalue\")\n",
    "ax.set_ylabel(\"SAIGE-GENE (missense;lof;synonymous) Pval's\")\n",
    "ax.axline((0, 0), slope=1)\n",
    "ax.set_aspect('equal', adjustable='box')\n",
    "\n",
    "ax.legend()\n",
    "\n",
    "plt.show()"
   ]
  },
  {
   "cell_type": "code",
   "execution_count": 70,
   "id": "dec28659",
   "metadata": {},
   "outputs": [
    {
     "data": {
      "text/html": [
       "<div>\n",
       "<style scoped>\n",
       "    .dataframe tbody tr th:only-of-type {\n",
       "        vertical-align: middle;\n",
       "    }\n",
       "\n",
       "    .dataframe tbody tr th {\n",
       "        vertical-align: top;\n",
       "    }\n",
       "\n",
       "    .dataframe thead th {\n",
       "        text-align: right;\n",
       "    }\n",
       "</style>\n",
       "<table border=\"1\" class=\"dataframe\">\n",
       "  <thead>\n",
       "    <tr style=\"text-align: right;\">\n",
       "      <th></th>\n",
       "      <th>Region</th>\n",
       "      <th>Group</th>\n",
       "      <th>max_MAF</th>\n",
       "      <th>Pvalue</th>\n",
       "      <th>Pvalue_Burden</th>\n",
       "      <th>Pvalue_SKAT</th>\n",
       "      <th>BETA_Burden</th>\n",
       "      <th>SE_Burden</th>\n",
       "      <th>MAC</th>\n",
       "      <th>MAC_case</th>\n",
       "      <th>MAC_control</th>\n",
       "      <th>Number_rare</th>\n",
       "      <th>Number_ultra_rare</th>\n",
       "    </tr>\n",
       "  </thead>\n",
       "  <tbody>\n",
       "    <tr>\n",
       "      <th>7</th>\n",
       "      <td>DEFB125</td>\n",
       "      <td>missense;lof;synonymous</td>\n",
       "      <td>0.001</td>\n",
       "      <td>0.725789</td>\n",
       "      <td>0.508798</td>\n",
       "      <td>0.704198</td>\n",
       "      <td>0.003204</td>\n",
       "      <td>0.00485</td>\n",
       "      <td>1037.0</td>\n",
       "      <td>82.0</td>\n",
       "      <td>955.0</td>\n",
       "      <td>16.0</td>\n",
       "      <td>0.0</td>\n",
       "    </tr>\n",
       "  </tbody>\n",
       "</table>\n",
       "</div>"
      ],
      "text/plain": [
       "    Region                    Group  max_MAF    Pvalue  Pvalue_Burden  \\\n",
       "7  DEFB125  missense;lof;synonymous    0.001  0.725789       0.508798   \n",
       "\n",
       "   Pvalue_SKAT  BETA_Burden  SE_Burden     MAC  MAC_case  MAC_control  \\\n",
       "7     0.704198     0.003204    0.00485  1037.0      82.0        955.0   \n",
       "\n",
       "   Number_rare  Number_ultra_rare  \n",
       "7         16.0                0.0  "
      ]
     },
     "execution_count": 70,
     "metadata": {},
     "output_type": "execute_result"
    }
   ],
   "source": []
  },
  {
   "cell_type": "code",
   "execution_count": 132,
   "id": "d1202777",
   "metadata": {},
   "outputs": [
    {
     "name": "stdout",
     "output_type": "stream",
     "text": [
      "        Gene Name          Gene Id  P‑Value SKATO  P‑Value Burden  \\\n",
      "0             GCK  ENSG00000106633   7.566589e-13    5.607485e-13   \n",
      "1            ANKH  ENSG00000154122   1.122092e-10    5.389459e-05   \n",
      "2         MAP3K15  ENSG00000180815   1.957281e-05    1.544252e-05   \n",
      "3          ZNF771  ENSG00000179965   6.850809e-05    1.418554e-04   \n",
      "4          ANTKMT  ENSG00000103254   9.821107e-05    8.182425e-03   \n",
      "...           ...              ...            ...             ...   \n",
      "19398  AC011455.2  ENSG00000269547            NaN             NaN   \n",
      "19399     GPIHBP1  ENSG00000277494            NaN             NaN   \n",
      "19400    C11orf98  ENSG00000278615            NaN             NaN   \n",
      "19401  AC068547.1  ENSG00000283228            NaN             NaN   \n",
      "19402  AC018362.3  ENSG00000285942            NaN             NaN   \n",
      "\n",
      "       P‑Value SKAT  BETA Burden   Burden Set  Chrom : Position Chrom  \\\n",
      "0      8.440242e-06     0.046521  missense|LC      7.044139e+09     7   \n",
      "1      1.602988e-11    -0.008101  missense|LC      5.014711e+09     5   \n",
      "2      4.762145e-04    -0.004243  missense|LC      2.301936e+10     X   \n",
      "3      7.150907e-05     0.009750  missense|LC      1.603041e+10    16   \n",
      "4      7.028536e-05     0.013038  missense|LC      1.600072e+10    16   \n",
      "...             ...          ...          ...               ...   ...   \n",
      "19398           NaN          NaN  missense|LC               NaN   NaN   \n",
      "19399           NaN          NaN  missense|LC               NaN   NaN   \n",
      "19400           NaN          NaN  missense|LC               NaN   NaN   \n",
      "19401           NaN          NaN  missense|LC               NaN   NaN   \n",
      "19402           NaN          NaN  missense|LC               NaN   NaN   \n",
      "\n",
      "         Position  Details  \n",
      "0      44139451.0      NaN  \n",
      "1      14711150.0      NaN  \n",
      "2      19355683.0      NaN  \n",
      "3      30408021.0      NaN  \n",
      "4        716147.0      NaN  \n",
      "...           ...      ...  \n",
      "19398         NaN      NaN  \n",
      "19399         NaN      NaN  \n",
      "19400         NaN      NaN  \n",
      "19401         NaN      NaN  \n",
      "19402         NaN      NaN  \n",
      "\n",
      "[19403 rows x 11 columns]\n",
      "684\n",
      "511\n"
     ]
    },
    {
     "name": "stderr",
     "output_type": "stream",
     "text": [
      "No artists with labels found to put in legend.  Note that artists whose label start with an underscore are ignored when legend() is called with no argument.\n"
     ]
    },
    {
     "name": "stdout",
     "output_type": "stream",
     "text": [
      "(0.18019693379956192, 2.2169586421385016e-06)\n"
     ]
    },
    {
     "data": {
      "image/png": "[encoded data removed]",
      "text/plain": [
       "<Figure size 432x288 with 1 Axes>"
      ]
     },
     "metadata": {
      "needs_background": "light"
     },
     "output_type": "display_data"
    }
   ],
   "source": [
    "# Comparing genebass vs saige gene\n",
    "\n",
    "import sys\n",
    "import pandas as pd\n",
    "import matplotlib.pyplot as plt\n",
    "import math\n",
    "import numpy as np\n",
    "from scipy.stats.stats import pearsonr   \n",
    "\n",
    "#chr20 = pd.read_csv(\"07_10_data/associations_output_chr20.txt\", sep=' ')\n",
    "#chr21 = pd.read_csv(\"07_10_data/associations_output_chr21.txt\", sep=' ')\n",
    "gene_bass = pd.read_csv(\"T2D_EUR_genebass_missense.csv\", sep=\",\")\n",
    "\n",
    "#meta = pd.concat([chr20, chr21])\n",
    "#meta = pd.read_csv(\"~/brava/Rare_Variant_Meta/test_output/t2d_chr7_0.01_missense_lof_res.txt\", sep=' ')\n",
    "\n",
    "chr20 = pd.read_csv(\"07_10_data/saige/gene_associations/chr20.txt\", sep='\\t')\n",
    "chr21 = pd.read_csv(\"07_10_data/saige/gene_associations/chr21.txt\", sep='\\t')\n",
    "gene_associations = pd.concat([chr20, chr21])\n",
    "\n",
    "print(gene_bass)\n",
    "\n",
    "gene_list = list(set(gene_bass[\"Gene Name\"]) & set(gene_associations[\"Region\"]))\n",
    "\n",
    "print(len(gene_list))\n",
    "\n",
    "#assocs_afr = assocs_afr.loc[assocs_afr[\"Region\"].isin(gene_list)] \n",
    "#assocs_sas = assocs_sas.loc[assocs_sas[\"Region\"].isin(gene_list)]\n",
    "\n",
    "fig, ax = plt.subplots()\n",
    "\n",
    "print(len(meta))\n",
    "\n",
    "a = []\n",
    "b = []\n",
    "\n",
    "for gene in gene_list:\n",
    "    try:\n",
    "        ax.scatter(-math.log10(float(gene_bass.loc[gene_bass[\"Gene Name\"] == gene][\"P‑Value SKAT\"])),\n",
    "                 -math.log10(float(gene_associations.loc[(gene_associations[\"Region\"] == gene) & (gene_associations[\"Group\"]==\"missense;lof\") & (gene_associations[\"max_MAF\"]==0.01)][\"Pvalue\"])), color=\"red\")\n",
    "        a.append(float(gene_bass.loc[gene_bass[\"Gene Name\"] == gene][\"P‑Value SKAT\"]))\n",
    "        b.append(float(gene_associations.loc[(gene_associations[\"Region\"] == gene) & (gene_associations[\"Group\"]==\"missense;lof\") & (gene_associations[\"max_MAF\"]==0.01)][\"Pvalue\"]))\n",
    "    except:pass\n",
    "    \n",
    "ax.set_ylabel(\"SAIGE gene associations\")\n",
    "ax.set_xlabel(\"Genebass SKAT-O Pvalue\")\n",
    "ax.axline((0, 0), slope=1)\n",
    "ax.set_aspect('equal', adjustable='box')\n",
    "\n",
    "ax.legend()\n",
    "\n",
    "print(pearsonr(a,b))\n",
    "\n",
    "plt.show()"
   ]
  },
  {
   "cell_type": "code",
   "execution_count": 131,
   "id": "89356571",
   "metadata": {},
   "outputs": [
    {
     "name": "stdout",
     "output_type": "stream",
     "text": [
      "511\n",
      "511\n"
     ]
    },
    {
     "name": "stderr",
     "output_type": "stream",
     "text": [
      "No artists with labels found to put in legend.  Note that artists whose label start with an underscore are ignored when legend() is called with no argument.\n"
     ]
    },
    {
     "data": {
      "image/png": "[encoded data removed]",
      "text/plain": [
       "<Figure size 432x288 with 1 Axes>"
      ]
     },
     "metadata": {
      "needs_background": "light"
     },
     "output_type": "display_data"
    }
   ],
   "source": [
    "# Comparing SAIGE gene vs meta analysis\n",
    "\n",
    "import sys\n",
    "import pandas as pd\n",
    "import matplotlib.pyplot as plt\n",
    "import math\n",
    "import numpy as np\n",
    "\n",
    "chr20 = pd.read_csv(\"07_10_data/associations_output_chr20.txt\", sep=' ')\n",
    "chr21 = pd.read_csv(\"07_10_data/associations_output_chr21.txt\", sep=' ')\n",
    "\n",
    "meta = pd.concat([chr20, chr21])\n",
    "\n",
    "chr20 = pd.read_csv(\"07_10_data/saige/gene_associations/chr20.txt\", sep='\\t')\n",
    "chr21 = pd.read_csv(\"07_10_data/saige/gene_associations/chr21.txt\", sep='\\t')\n",
    "gene_associations = pd.concat([chr20, chr21])\n",
    "\n",
    "gene_list = list(set(meta[\"GENE\"]) & set(gene_associations[\"Region\"]))\n",
    "\n",
    "print(len(gene_list))\n",
    "\n",
    "#assocs_afr = assocs_afr.loc[assocs_afr[\"Region\"].isin(gene_list)] \n",
    "#assocs_sas = assocs_sas.loc[assocs_sas[\"Region\"].isin(gene_list)]\n",
    "\n",
    "fig, ax = plt.subplots()\n",
    "\n",
    "print(len(meta))\n",
    "\n",
    "for gene in gene_list:\n",
    "    ax.scatter(-math.log10(float(meta.loc[meta[\"GENE\"] == gene][\"Pval\"])),\n",
    "               -math.log10(float(gene_associations.loc[(gene_associations[\"Region\"] == gene) & (gene_associations[\"Group\"]==\"missense;lof;synonymous\") & (gene_associations[\"max_MAF\"]==0.0001)][\"Pvalue\"])), color=\"red\")\n",
    "\n",
    "ax.set_ylabel(\"SAIGE gene associations\")\n",
    "ax.set_xlabel(\"Meta analysis\")\n",
    "ax.axline((0, 0), slope=1)\n",
    "ax.set_aspect('equal', adjustable='box')\n",
    "\n",
    "ax.legend()\n",
    "\n",
    "plt.show()"
   ]
  },
  {
   "cell_type": "code",
   "execution_count": 128,
   "id": "b1a85503",
   "metadata": {},
   "outputs": [
    {
     "name": "stdout",
     "output_type": "stream",
     "text": [
      "     Region                    Group  max_MAF    Pvalue  Pvalue_Burden  \\\n",
      "100   TRIB3  missense;lof;synonymous   0.0001  0.585028       0.370824   \n",
      "101   TRIB3  missense;lof;synonymous   0.0010  0.805298       0.857799   \n",
      "102   TRIB3  missense;lof;synonymous   0.0100  0.438263       0.409433   \n",
      "103   TRIB3                   Cauchy      NaN  0.650423       0.572963   \n",
      "104   RBCK1             missense;lof   0.0001  0.133027       0.071525   \n",
      "...     ...                      ...      ...       ...            ...   \n",
      "1725  PRMT2             missense;lof   0.0100  0.867712       0.713380   \n",
      "1726  PRMT2  missense;lof;synonymous   0.0001  0.770938       0.924275   \n",
      "1727  PRMT2  missense;lof;synonymous   0.0010  0.817967       0.653412   \n",
      "1728  PRMT2  missense;lof;synonymous   0.0100  0.846544       0.645650   \n",
      "1729  PRMT2                   Cauchy      NaN  1.000000       0.851696   \n",
      "\n",
      "      Pvalue_SKAT  BETA_Burden  SE_Burden      MAC  MAC_case  MAC_control  \\\n",
      "100      0.970634    -0.003523   0.003937   1601.0     106.0       1495.0   \n",
      "101      0.583229    -0.000378   0.002108   5616.0     403.0       5213.0   \n",
      "102      0.280044     0.000978   0.001186  23902.0    1770.0      22132.0   \n",
      "103      0.873584          NaN        NaN      NaN       NaN          NaN   \n",
      "104      0.683578    -0.009347   0.005187    883.0      53.0        830.0   \n",
      "...           ...          ...        ...      ...       ...          ...   \n",
      "1725     0.951933     0.000744   0.002026   6785.0     495.0       6290.0   \n",
      "1726     0.542067    -0.000433   0.004560   1205.0      85.0       1120.0   \n",
      "1727     0.598503     0.001093   0.002433   4258.0     312.0       3946.0   \n",
      "1728     0.879934     0.000721   0.001567  10943.0     794.0      10149.0   \n",
      "1729     0.817898          NaN        NaN      NaN       NaN          NaN   \n",
      "\n",
      "      Number_rare  Number_ultra_rare  \n",
      "100          45.0                0.0  \n",
      "101          59.0                0.0  \n",
      "102          64.0                0.0  \n",
      "103           NaN                NaN  \n",
      "104          26.0                0.0  \n",
      "...           ...                ...  \n",
      "1725         28.0                0.0  \n",
      "1726         34.0                0.0  \n",
      "1727         48.0                0.0  \n",
      "1728         52.0                0.0  \n",
      "1729          NaN                NaN  \n",
      "\n",
      "[6278 rows x 13 columns]\n"
     ]
    }
   ],
   "source": [
    "print(gene_associations[100:])"
   ]
  },
  {
   "cell_type": "code",
   "execution_count": 4,
   "id": "54b87b32",
   "metadata": {},
   "outputs": [
    {
     "name": "stderr",
     "output_type": "stream",
     "text": [
      "100%|██████████████████████████████████| 36926/36926 [00:03<00:00, 10203.42it/s]\n"
     ]
    }
   ],
   "source": [
    "import tqdm\n",
    "import pandas as pd\n",
    "\n",
    "gene_file = open('07_10_data/combined_UKB_exome_annos.txt', 'r')\n",
    "genes = gene_file.readlines()\n",
    "  \n",
    "count = 0\n",
    "\n",
    "all_gene_variants = []\n",
    "plof_vars = []\n",
    "\n",
    "new_annos_full = \"\"\n",
    "new_annos = \"\"\n",
    "for gene in tqdm.tqdm(genes):\n",
    "    if count % 2 == 1:\n",
    "\n",
    "        new_annos = \"\"\n",
    "        new_annos += gene.split(\" \")[0]\n",
    "        new_annos += \" \"\n",
    "        new_annos += \"var\"\n",
    "        \n",
    "        n = 0\n",
    "        \n",
    "        for anno, var in zip(gene.split(\" \")[2:], all_gene_variants):\n",
    "            if anno == \"lof\":\n",
    "                n += 1\n",
    "                new_annos += \" \"\n",
    "                new_annos += var\n",
    "        if n == 0: continue\n",
    "        new_annos += \"\\n\"\n",
    "        new_annos += gene.split(\" \")[0]\n",
    "        new_annos += \" anno\"\n",
    "        new_annos += \" lof\" * n\n",
    "        new_annos += \"\\n\"\n",
    "        \n",
    "        new_annos_full += new_annos\n",
    "        \n",
    "    if count % 2 == 0:\n",
    "        all_gene_variants = gene.split(\" \")[2:]\n",
    "    count+=1"
   ]
  },
  {
   "cell_type": "code",
   "execution_count": 140,
   "id": "17b885b9",
   "metadata": {},
   "outputs": [],
   "source": [
    "with open('lof.txt', 'w') as f:\n",
    "    for line in plof_vars:\n",
    "        f.write(f\"{line}\\n\")"
   ]
  },
  {
   "cell_type": "code",
   "execution_count": 5,
   "id": "b08bc368",
   "metadata": {},
   "outputs": [],
   "source": [
    "with open('lof_annos.txt', 'w') as f:\n",
    "    f.write(new_annos_full)"
   ]
  },
  {
   "cell_type": "code",
   "execution_count": 1,
   "id": "109d4237",
   "metadata": {},
   "outputs": [
    {
     "name": "stderr",
     "output_type": "stream",
     "text": [
      "100%|██████████████████████████████████| 36926/36926 [00:02<00:00, 14051.06it/s]\n"
     ]
    }
   ],
   "source": [
    "import tqdm\n",
    "import pandas as pd\n",
    "\n",
    "gene_file = open('07_10_data/combined_UKB_exome_annos.txt', 'r')\n",
    "genes = gene_file.readlines()\n",
    "  \n",
    "count = 0\n",
    "\n",
    "all_gene_variants = []\n",
    "synonymous_vars = []\n",
    "\n",
    "for gene in tqdm.tqdm(genes):\n",
    "    if count % 2 == 1:\n",
    "        for anno, var in zip(gene.split(\" \")[2:], all_gene_variants):\n",
    "            if anno == \"synonymous\":\n",
    "                synonymous_vars.append(\"chr\" + var)\n",
    "\n",
    "    if count % 2 == 0:\n",
    "        all_gene_variants = gene.split(\" \")[2:]\n",
    "    \n",
    "    count+=1"
   ]
  },
  {
   "cell_type": "code",
   "execution_count": 7,
   "id": "58a4ade9",
   "metadata": {},
   "outputs": [
    {
     "data": {
      "text/plain": [
       "['10:47064:ACCTCCTCCTCGGCATACTCCTCATCCT:A',\n",
       " '10:47065:CCTCCTCCTCGGCATA:C',\n",
       " '10:47080:ACTC:A',\n",
       " '10:47085:T:TC',\n",
       " '10:47087:A:ATCC',\n",
       " '10:47087:ATCC:A',\n",
       " '10:47116:G:A',\n",
       " '10:47122:G:A',\n",
       " '10:47190:T:TC',\n",
       " '10:47202:C:CA']"
      ]
     },
     "execution_count": 7,
     "metadata": {},
     "output_type": "execute_result"
    }
   ],
   "source": [
    "plof_vars[0:10]"
   ]
  },
  {
   "cell_type": "code",
   "execution_count": 2,
   "id": "cb4f1f14",
   "metadata": {},
   "outputs": [],
   "source": [
    "with open('synonymous.txt', 'w') as f:\n",
    "    for line in synonymous_vars:\n",
    "        f.write(f\"{line}\\n\")"
   ]
  },
  {
   "cell_type": "code",
   "execution_count": 8,
   "id": "c6b46ef3",
   "metadata": {
    "scrolled": true
   },
   "outputs": [
    {
     "name": "stderr",
     "output_type": "stream",
     "text": [
      "/var/folders/ks/4xyv63yj03zgqh2vxrfmg6hrb4lqvc/T/ipykernel_20399/1034958258.py:8: DeprecationWarning: Please use `pearsonr` from the `scipy.stats` namespace, the `scipy.stats.stats` namespace is deprecated.\n",
      "  from scipy.stats.stats import pearsonr\n"
     ]
    },
    {
     "name": "stdout",
     "output_type": "stream",
     "text": [
      "643\n"
     ]
    },
    {
     "name": "stderr",
     "output_type": "stream",
     "text": [
      "No artists with labels found to put in legend.  Note that artists whose label start with an underscore are ignored when legend() is called with no argument.\n"
     ]
    },
    {
     "data": {
      "image/png": "[encoded data removed]",
      "text/plain": [
       "<Figure size 640x480 with 1 Axes>"
      ]
     },
     "metadata": {},
     "output_type": "display_data"
    },
    {
     "name": "stdout",
     "output_type": "stream",
     "text": [
      "pearson: PearsonRResult(statistic=0.24503403931127143, pvalue=6.680572897309264e-10)\n",
      "287\n"
     ]
    },
    {
     "name": "stderr",
     "output_type": "stream",
     "text": [
      "No artists with labels found to put in legend.  Note that artists whose label start with an underscore are ignored when legend() is called with no argument.\n"
     ]
    },
    {
     "data": {
      "image/png": "[encoded data removed]",
      "text/plain": [
       "<Figure size 640x480 with 1 Axes>"
      ]
     },
     "metadata": {},
     "output_type": "display_data"
    },
    {
     "name": "stdout",
     "output_type": "stream",
     "text": [
      "pearson: PearsonRResult(statistic=0.24428719383147934, pvalue=3.3677155844641184e-05)\n",
      "300\n"
     ]
    },
    {
     "name": "stderr",
     "output_type": "stream",
     "text": [
      "No artists with labels found to put in legend.  Note that artists whose label start with an underscore are ignored when legend() is called with no argument.\n"
     ]
    },
    {
     "data": {
      "image/png": "[encoded data removed]",
      "text/plain": [
       "<Figure size 640x480 with 1 Axes>"
      ]
     },
     "metadata": {},
     "output_type": "display_data"
    },
    {
     "name": "stdout",
     "output_type": "stream",
     "text": [
      "pearson: PearsonRResult(statistic=0.7904885616346519, pvalue=2.0817152360946734e-65)\n"
     ]
    }
   ],
   "source": [
    "# Analysis of SAIGE, META results with lof-annotations\n",
    "import sys\n",
    "import pandas as pd\n",
    "import matplotlib.pyplot as plt\n",
    "import math\n",
    "import numpy as np\n",
    "import tqdm\n",
    "from scipy.stats.stats import pearsonr   \n",
    "\n",
    "gene_bass = pd.read_csv(\"14_11_data/genebass/pLoF.csv\", sep=\",\")\n",
    "\n",
    "## SAIGE-gene vs genebass\n",
    "\n",
    "chr20 = pd.read_csv(\"14_11_data/saige-gene/chr20.txt\", sep='\\t')\n",
    "chr21 = pd.read_csv(\"14_11_data/saige-gene/chr21.txt\", sep='\\t')\n",
    "\n",
    "gene_associations = pd.concat([chr20, chr21])\n",
    "\n",
    "gene_list = list(set(gene_bass[\"Gene Name\"]) & set(gene_associations[\"Region\"]))\n",
    "\n",
    "print(len(gene_list))\n",
    "\n",
    "fig, ax = plt.subplots()\n",
    "\n",
    "x=[]\n",
    "y=[]\n",
    "\n",
    "for gene in gene_list:\n",
    "    x.append(-math.log10(float(gene_bass.loc[gene_bass[\"Gene Name\"] == gene][\"P‑Value Burden\"])))\n",
    "    y.append(-math.log10(float(gene_associations.loc[(gene_associations[\"Region\"] == gene) & (gene_associations[\"Group\"]==\"lof\") & (gene_associations[\"max_MAF\"]==0.0100)][\"Pvalue_Burden\"])))\n",
    "    \n",
    "    ax.scatter(-math.log10(float(gene_bass.loc[gene_bass[\"Gene Name\"] == gene][\"P‑Value Burden\"])),\n",
    "               -math.log10(float(gene_associations.loc[(gene_associations[\"Region\"] == gene) & (gene_associations[\"Group\"]==\"lof\") & (gene_associations[\"max_MAF\"]==0.0100)][\"Pvalue_Burden\"])), color=\"red\")\n",
    "\n",
    "\n",
    "ax.set_ylabel(\"GENEbass\")\n",
    "ax.set_xlabel(\"SAIGE-gene\")\n",
    "ax.axline((0, 0), slope=1)\n",
    "ax.set_aspect('equal', adjustable='box')\n",
    "\n",
    "ax.legend()\n",
    "\n",
    "plt.show()\n",
    "\n",
    "x,y=np.array(x),np.array(y)\n",
    "good = ~np.logical_or(np.isnan(x), np.isnan(y))\n",
    "print(\"pearson:\", pearsonr(x[good],y[good]))\n",
    "\n",
    "## genebass vs meta-analysis\n",
    "\n",
    "chr20 = pd.read_csv(\"14_11_data/meta-analysis/chr20.txt\", sep=' ')\n",
    "chr21 = pd.read_csv(\"14_11_data/meta-analysis/chr21.txt\", sep=' ')\n",
    "\n",
    "meta = pd.concat([chr20, chr21])\n",
    "\n",
    "gene_list = list(set(gene_bass[\"Gene Name\"]) & set(meta[\"GENE\"]))\n",
    "\n",
    "print(len(gene_list))\n",
    "\n",
    "#assocs_afr = assocs_afr.loc[assocs_afr[\"Region\"].isin(gene_list)] \n",
    "#assocs_sas = assocs_sas.loc[assocs_sas[\"Region\"].isin(gene_list)]\n",
    "\n",
    "fig, ax = plt.subplots()\n",
    "\n",
    "x,y=[],[]\n",
    "\n",
    "for gene in gene_list:\n",
    "    x.append(-math.log10(float(gene_bass.loc[gene_bass[\"Gene Name\"] == gene][\"P‑Value SKAT\"])))\n",
    "    y.append(-math.log10(float(meta.loc[meta[\"GENE\"] == gene][\"Pval\"])))\n",
    "\n",
    "    ax.scatter(-math.log10(float(gene_bass.loc[gene_bass[\"Gene Name\"] == gene][\"P‑Value SKAT\"])),\n",
    "               -math.log10(float(meta.loc[meta[\"GENE\"] == gene][\"Pval\"])), color=\"red\")\n",
    "\n",
    "ax.set_ylabel(\"GENEbass\")\n",
    "ax.set_xlabel(\"Meta-analysis\")\n",
    "ax.axline((0, 0), slope=1)\n",
    "ax.set_aspect('equal', adjustable='box')\n",
    "\n",
    "ax.legend()\n",
    "\n",
    "plt.show()\n",
    "x,y=np.array(x),np.array(y)\n",
    "good = ~np.logical_or(np.isnan(x), np.isnan(y))\n",
    "print(\"pearson:\", pearsonr(x[good],y[good]))\n",
    "\n",
    "## SAIGE-gene vs META analysis\n",
    "\n",
    "gene_list = list(set(gene_associations[\"Region\"]) & set(meta[\"GENE\"]))\n",
    "\n",
    "print(len(gene_list))\n",
    "\n",
    "fig, ax = plt.subplots()\n",
    "\n",
    "x,y=[],[]\n",
    "\n",
    "for gene in gene_list:\n",
    "    x.append(-math.log10(float(gene_associations.loc[(gene_associations[\"Region\"] == gene) & (gene_associations[\"Group\"]==\"lof\") & (gene_associations[\"max_MAF\"]==0.0100)][\"Pvalue_Burden\"])))\n",
    "    y.append(-math.log10(float(meta.loc[meta[\"GENE\"] == gene][\"Pval\"])))\n",
    "\n",
    "    ax.scatter(-math.log10(float(gene_associations.loc[(gene_associations[\"Region\"] == gene) & (gene_associations[\"Group\"]==\"lof\") & (gene_associations[\"max_MAF\"]==0.0100)][\"Pvalue_Burden\"])),\n",
    "               -math.log10(float(meta.loc[meta[\"GENE\"] == gene][\"Pval\"])), color=\"red\")\n",
    "\n",
    "ax.set_ylabel(\"SAIGE-GENE\")\n",
    "ax.set_xlabel(\"Meta-analysis\")\n",
    "ax.axline((0, 0), slope=1)\n",
    "ax.set_aspect('equal', adjustable='box')\n",
    "\n",
    "ax.legend()\n",
    "\n",
    "plt.show()\n",
    "x,y=np.array(x),np.array(y)\n",
    "good = ~np.logical_or(np.isnan(x), np.isnan(y))\n",
    "print(\"pearson:\", pearsonr(x[good],y[good]))"
   ]
  },
  {
   "cell_type": "code",
   "execution_count": 1,
   "id": "652d1b8d",
   "metadata": {},
   "outputs": [
    {
     "name": "stderr",
     "output_type": "stream",
     "text": [
      "/var/folders/ks/4xyv63yj03zgqh2vxrfmg6hrb4lqvc/T/ipykernel_98785/3766678067.py:9: DeprecationWarning: Please use `pearsonr` from the `scipy.stats` namespace, the `scipy.stats.stats` namespace is deprecated.\n",
      "  from scipy.stats.stats import pearsonr\n",
      "100%|█████████████████████████████████████████████████████████████████████████████████████████████████████████████████████████████████████████████████████████████████| 11306/11306 [07:16<00:00, 25.88it/s]\n"
     ]
    },
    {
     "name": "stdout",
     "output_type": "stream",
     "text": [
      "       Region                              Group  max_MAF    Pvalue  \\\n",
      "0     DEFB125                  damaging_missense   0.0001  0.661004   \n",
      "1     DEFB125                  damaging_missense   0.0010  0.661004   \n",
      "2     DEFB125                  damaging_missense   0.0100  0.661004   \n",
      "3     DEFB125                               pLoF   0.0001  0.769940   \n",
      "4     DEFB125                               pLoF   0.0010  0.769940   \n",
      "...       ...                                ...      ...       ...   \n",
      "2967    PRMT2             pLoF;damaging_missense   0.0100  0.578344   \n",
      "2968    PRMT2  damaging_missense;pLoF;synonymous   0.0001  0.617118   \n",
      "2969    PRMT2  damaging_missense;pLoF;synonymous   0.0010  1.000000   \n",
      "2970    PRMT2  damaging_missense;pLoF;synonymous   0.0100  0.921582   \n",
      "2971    PRMT2                             Cauchy      NaN  1.000000   \n",
      "\n",
      "      Pvalue_Burden  Pvalue_SKAT  BETA_Burden  SE_Burden     MAC  MAC_case  \\\n",
      "0          0.661004     0.661004    -0.047716   0.108809     1.0       0.0   \n",
      "1          0.661004     0.661004    -0.047716   0.108809     1.0       0.0   \n",
      "2          0.661004     0.661004    -0.047716   0.108809     1.0       0.0   \n",
      "3          0.937565     0.584285     0.000863   0.011016   205.0      15.0   \n",
      "4          0.937565     0.584285     0.000863   0.011016   205.0      15.0   \n",
      "...             ...          ...          ...        ...     ...       ...   \n",
      "2967       0.578344     0.578344     0.009771   0.017580    84.0       7.0   \n",
      "2968       0.493367     0.394981     0.003458   0.005048   960.0      75.0   \n",
      "2969       1.000000     0.843803    -0.000050        inf  2344.0     167.0   \n",
      "2970       0.945556     0.761848     0.000175   0.002567  4087.0     290.0   \n",
      "2971       1.000000     0.678109          NaN        NaN     NaN       NaN   \n",
      "\n",
      "      MAC_control  Number_rare  Number_ultra_rare  \n",
      "0             1.0          0.0                1.0  \n",
      "1             1.0          0.0                1.0  \n",
      "2             1.0          0.0                1.0  \n",
      "3           190.0          5.0                4.0  \n",
      "4           190.0          5.0                4.0  \n",
      "...           ...          ...                ...  \n",
      "2967         77.0          0.0               36.0  \n",
      "2968        885.0         26.0              113.0  \n",
      "2969       2177.0         32.0              113.0  \n",
      "2970       3797.0         34.0              113.0  \n",
      "2971          NaN          NaN                NaN  \n",
      "\n",
      "[11306 rows x 13 columns]\n",
      "670\n"
     ]
    },
    {
     "name": "stderr",
     "output_type": "stream",
     "text": [
      "No artists with labels found to put in legend.  Note that artists whose label start with an underscore are ignored when legend() is called with no argument.\n"
     ]
    },
    {
     "data": {
      "image/png": "[encoded data removed]",
      "text/plain": [
       "<Figure size 640x480 with 1 Axes>"
      ]
     },
     "metadata": {},
     "output_type": "display_data"
    },
    {
     "name": "stdout",
     "output_type": "stream",
     "text": [
      "pearson: PearsonRResult(statistic=0.37340365102500683, pvalue=1.4216160393904977e-22)\n"
     ]
    }
   ],
   "source": [
    "## SAIGE-gene VEP vs genebass\n",
    "\n",
    "import pandas as pd\n",
    "import numpy as np\n",
    "import matplotlib.pyplot as plt\n",
    "import tqdm\n",
    "import math\n",
    "import mygene\n",
    "from scipy.stats.stats import pearsonr   \n",
    "\n",
    "#gene_bass = pd.read_csv(\"T2D_EUR_genebass_missense.csv\", sep=\",\")\n",
    "gene_bass = pd.read_csv(\"14_11_data/genebass/pLoF.csv\", sep=\",\")\n",
    "\n",
    "chr20 = pd.read_csv(\"18_11_data/chr20.txt\", sep='\\t')\n",
    "chr21 = pd.read_csv(\"18_11_data/chr21.txt\", sep='\\t')\n",
    "\n",
    "gene_associations = pd.concat([chr20, chr21])\n",
    "\n",
    "if not 'gene_map' in locals():\n",
    "\n",
    "    mg = mygene.MyGeneInfo()\n",
    "    gene_map = {}\n",
    "    for gene in tqdm.tqdm(gene_associations[\"Region\"]):\n",
    "        if gene in gene_map: continue\n",
    "        try: gene_map[gene] = mg.getgene(gene)[\"symbol\"]\n",
    "        except: pass\n",
    "\n",
    "gene_associations['Region'] = gene_associations['Region'].map(gene_map)\n",
    "\n",
    "print(gene_associations)\n",
    "\n",
    "gene_list = list(set(gene_bass[\"Gene Name\"]) & set(gene_associations[\"Region\"]))\n",
    "\n",
    "print(len(gene_list))\n",
    "\n",
    "fig, ax = plt.subplots()\n",
    "\n",
    "x=[]\n",
    "y=[]\n",
    "\n",
    "for gene in gene_list:\n",
    "    x.append(-math.log10(float(gene_bass.loc[gene_bass[\"Gene Name\"] == gene][\"P‑Value SKAT\"])))\n",
    "    try:y.append(-math.log10(float(gene_associations.loc[(gene_associations[\"Region\"] == gene) & (gene_associations[\"Group\"]==\"pLoF\") & (gene_associations[\"max_MAF\"]==0.01)][\"Pvalue_SKAT\"])))\n",
    "    except:\n",
    "        x.pop()\n",
    "        continue\n",
    "    ax.scatter(-math.log10(float(gene_bass.loc[gene_bass[\"Gene Name\"] == gene][\"P‑Value SKAT\"])),\n",
    "               -math.log10(float(gene_associations.loc[(gene_associations[\"Region\"] == gene) & (gene_associations[\"Group\"]==\"pLoF\") & (gene_associations[\"max_MAF\"]==0.01)][\"Pvalue_SKAT\"])), color=\"red\")\n",
    "\n",
    "\n",
    "ax.set_ylabel(\"GENEbass\")\n",
    "ax.set_xlabel(\"SAIGE-gene\")\n",
    "ax.axline((0, 0), slope=1)\n",
    "ax.set_aspect('equal', adjustable='box')\n",
    "\n",
    "ax.legend()\n",
    "\n",
    "plt.show()\n",
    "\n",
    "x,y=np.array(x),np.array(y)\n",
    "good = ~np.logical_or(np.isnan(x), np.isnan(y))\n",
    "print(\"pearson:\", pearsonr(x[good],y[good]))"
   ]
  },
  {
   "cell_type": "code",
   "execution_count": 2,
   "id": "78659d62",
   "metadata": {},
   "outputs": [
    {
     "data": {
      "text/plain": [
       "True"
      ]
     },
     "execution_count": 2,
     "metadata": {},
     "output_type": "execute_result"
    }
   ],
   "source": [
    "'gene_map' in locals()\n"
   ]
  },
  {
   "cell_type": "code",
   "execution_count": 9,
   "id": "1276944c",
   "metadata": {},
   "outputs": [
    {
     "name": "stderr",
     "output_type": "stream",
     "text": [
      "\r",
      "  0%|                                                                                          | 0/11306 [00:00<?, ?it/s]"
     ]
    },
    {
     "name": "stdout",
     "output_type": "stream",
     "text": [
      "nan\n"
     ]
    },
    {
     "name": "stderr",
     "output_type": "stream",
     "text": [
      "\r",
      "  0%|                                                                                | 1/11306 [00:00<1:12:18,  2.61it/s]"
     ]
    },
    {
     "name": "stdout",
     "output_type": "stream",
     "text": [
      "nan\n"
     ]
    },
    {
     "name": "stderr",
     "output_type": "stream",
     "text": [
      "\r",
      "  0%|                                                                                | 2/11306 [00:00<1:11:41,  2.63it/s]"
     ]
    },
    {
     "name": "stdout",
     "output_type": "stream",
     "text": [
      "nan\n"
     ]
    },
    {
     "name": "stderr",
     "output_type": "stream",
     "text": [
      "\r",
      "  0%|                                                                                | 3/11306 [00:01<1:12:53,  2.58it/s]"
     ]
    },
    {
     "name": "stdout",
     "output_type": "stream",
     "text": [
      "nan\n"
     ]
    },
    {
     "name": "stderr",
     "output_type": "stream",
     "text": [
      "\r",
      "  0%|                                                                                | 4/11306 [00:01<1:12:32,  2.60it/s]"
     ]
    },
    {
     "name": "stdout",
     "output_type": "stream",
     "text": [
      "nan\n"
     ]
    },
    {
     "name": "stderr",
     "output_type": "stream",
     "text": [
      "\r",
      "  0%|                                                                                | 5/11306 [00:01<1:11:47,  2.62it/s]"
     ]
    },
    {
     "name": "stdout",
     "output_type": "stream",
     "text": [
      "nan\n"
     ]
    },
    {
     "name": "stderr",
     "output_type": "stream",
     "text": [
      "\r",
      "  0%|                                                                                | 6/11306 [00:02<1:11:11,  2.65it/s]"
     ]
    },
    {
     "name": "stdout",
     "output_type": "stream",
     "text": [
      "nan\n"
     ]
    },
    {
     "name": "stderr",
     "output_type": "stream",
     "text": [
      "\r",
      "  0%|                                                                                | 7/11306 [00:02<1:11:07,  2.65it/s]"
     ]
    },
    {
     "name": "stdout",
     "output_type": "stream",
     "text": [
      "nan\n"
     ]
    },
    {
     "name": "stderr",
     "output_type": "stream",
     "text": [
      "\r",
      "  0%|                                                                                | 8/11306 [00:03<1:11:07,  2.65it/s]"
     ]
    },
    {
     "name": "stdout",
     "output_type": "stream",
     "text": [
      "nan\n"
     ]
    },
    {
     "name": "stderr",
     "output_type": "stream",
     "text": [
      "\r",
      "  0%|                                                                                | 9/11306 [00:03<1:11:19,  2.64it/s]"
     ]
    },
    {
     "name": "stdout",
     "output_type": "stream",
     "text": [
      "nan\n"
     ]
    },
    {
     "name": "stderr",
     "output_type": "stream",
     "text": [
      "\r",
      "  0%|                                                                               | 10/11306 [00:03<1:11:33,  2.63it/s]"
     ]
    },
    {
     "name": "stdout",
     "output_type": "stream",
     "text": [
      "nan\n"
     ]
    },
    {
     "name": "stderr",
     "output_type": "stream",
     "text": [
      "\r",
      "  0%|                                                                               | 11/11306 [00:04<1:11:26,  2.64it/s]"
     ]
    },
    {
     "name": "stdout",
     "output_type": "stream",
     "text": [
      "nan\n"
     ]
    },
    {
     "name": "stderr",
     "output_type": "stream",
     "text": [
      "\r",
      "  0%|                                                                               | 12/11306 [00:04<1:11:22,  2.64it/s]"
     ]
    },
    {
     "name": "stdout",
     "output_type": "stream",
     "text": [
      "nan\n"
     ]
    },
    {
     "name": "stderr",
     "output_type": "stream",
     "text": [
      "\r",
      "  0%|                                                                               | 13/11306 [00:04<1:11:10,  2.64it/s]"
     ]
    },
    {
     "name": "stdout",
     "output_type": "stream",
     "text": [
      "nan\n"
     ]
    },
    {
     "name": "stderr",
     "output_type": "stream",
     "text": [
      "\r",
      "  0%|                                                                               | 14/11306 [00:05<1:10:55,  2.65it/s]"
     ]
    },
    {
     "name": "stdout",
     "output_type": "stream",
     "text": [
      "nan\n"
     ]
    },
    {
     "name": "stderr",
     "output_type": "stream",
     "text": [
      "\r",
      "  0%|                                                                               | 15/11306 [00:05<1:11:30,  2.63it/s]"
     ]
    },
    {
     "name": "stdout",
     "output_type": "stream",
     "text": [
      "nan\n"
     ]
    },
    {
     "name": "stderr",
     "output_type": "stream",
     "text": [
      "\r",
      "  0%|                                                                               | 16/11306 [00:06<1:11:43,  2.62it/s]"
     ]
    },
    {
     "name": "stdout",
     "output_type": "stream",
     "text": [
      "nan\n"
     ]
    },
    {
     "name": "stderr",
     "output_type": "stream",
     "text": [
      "\r",
      "  0%|                                                                               | 17/11306 [00:06<1:11:47,  2.62it/s]"
     ]
    },
    {
     "name": "stdout",
     "output_type": "stream",
     "text": [
      "nan\n"
     ]
    },
    {
     "name": "stderr",
     "output_type": "stream",
     "text": [
      "\r",
      "  0%|▏                                                                              | 18/11306 [00:06<1:12:03,  2.61it/s]"
     ]
    },
    {
     "name": "stdout",
     "output_type": "stream",
     "text": [
      "nan\n"
     ]
    },
    {
     "name": "stderr",
     "output_type": "stream",
     "text": [
      "\r",
      "  0%|▏                                                                              | 19/11306 [00:07<1:11:35,  2.63it/s]"
     ]
    },
    {
     "name": "stdout",
     "output_type": "stream",
     "text": [
      "nan\n"
     ]
    },
    {
     "name": "stderr",
     "output_type": "stream",
     "text": [
      "\r",
      "  0%|▏                                                                              | 20/11306 [00:07<1:11:41,  2.62it/s]"
     ]
    },
    {
     "name": "stdout",
     "output_type": "stream",
     "text": [
      "nan\n"
     ]
    },
    {
     "name": "stderr",
     "output_type": "stream",
     "text": [
      "\r",
      "  0%|▏                                                                              | 21/11306 [00:07<1:11:23,  2.63it/s]"
     ]
    },
    {
     "name": "stdout",
     "output_type": "stream",
     "text": [
      "nan\n"
     ]
    },
    {
     "name": "stderr",
     "output_type": "stream",
     "text": [
      "\r",
      "  0%|▏                                                                              | 22/11306 [00:08<1:11:14,  2.64it/s]"
     ]
    },
    {
     "name": "stdout",
     "output_type": "stream",
     "text": [
      "nan\n"
     ]
    },
    {
     "name": "stderr",
     "output_type": "stream",
     "text": [
      "\r",
      "  0%|▏                                                                              | 23/11306 [00:08<1:11:12,  2.64it/s]"
     ]
    },
    {
     "name": "stdout",
     "output_type": "stream",
     "text": [
      "nan\n"
     ]
    },
    {
     "name": "stderr",
     "output_type": "stream",
     "text": [
      "\r",
      "  0%|▏                                                                              | 24/11306 [00:09<1:10:46,  2.66it/s]"
     ]
    },
    {
     "name": "stdout",
     "output_type": "stream",
     "text": [
      "nan\n"
     ]
    },
    {
     "name": "stderr",
     "output_type": "stream",
     "text": [
      "\r",
      "  0%|▏                                                                              | 25/11306 [00:09<1:11:36,  2.63it/s]"
     ]
    },
    {
     "name": "stdout",
     "output_type": "stream",
     "text": [
      "nan\n"
     ]
    },
    {
     "name": "stderr",
     "output_type": "stream",
     "text": [
      "\r",
      "  0%|▏                                                                              | 26/11306 [00:09<1:11:54,  2.61it/s]"
     ]
    },
    {
     "name": "stdout",
     "output_type": "stream",
     "text": [
      "nan\n"
     ]
    },
    {
     "name": "stderr",
     "output_type": "stream",
     "text": [
      "\r",
      "  0%|▏                                                                              | 27/11306 [00:10<1:11:32,  2.63it/s]"
     ]
    },
    {
     "name": "stdout",
     "output_type": "stream",
     "text": [
      "nan\n"
     ]
    },
    {
     "name": "stderr",
     "output_type": "stream",
     "text": [
      "\r",
      "  0%|▏                                                                              | 28/11306 [00:10<1:11:38,  2.62it/s]"
     ]
    },
    {
     "name": "stdout",
     "output_type": "stream",
     "text": [
      "nan\n"
     ]
    },
    {
     "name": "stderr",
     "output_type": "stream",
     "text": [
      "\r",
      "  0%|▏                                                                              | 29/11306 [00:11<1:11:38,  2.62it/s]"
     ]
    },
    {
     "name": "stdout",
     "output_type": "stream",
     "text": [
      "nan\n"
     ]
    },
    {
     "name": "stderr",
     "output_type": "stream",
     "text": [
      "\r",
      "  0%|▏                                                                              | 30/11306 [00:11<1:11:14,  2.64it/s]"
     ]
    },
    {
     "name": "stdout",
     "output_type": "stream",
     "text": [
      "nan\n"
     ]
    },
    {
     "name": "stderr",
     "output_type": "stream",
     "text": [
      "\r",
      "  0%|▏                                                                              | 31/11306 [00:11<1:11:00,  2.65it/s]"
     ]
    },
    {
     "name": "stdout",
     "output_type": "stream",
     "text": [
      "nan\n"
     ]
    },
    {
     "name": "stderr",
     "output_type": "stream",
     "text": [
      "\r",
      "  0%|▏                                                                              | 32/11306 [00:12<1:11:08,  2.64it/s]"
     ]
    },
    {
     "name": "stdout",
     "output_type": "stream",
     "text": [
      "nan\n"
     ]
    },
    {
     "name": "stderr",
     "output_type": "stream",
     "text": [
      "\r",
      "  0%|▏                                                                              | 33/11306 [00:12<1:11:33,  2.63it/s]"
     ]
    },
    {
     "name": "stdout",
     "output_type": "stream",
     "text": [
      "nan\n"
     ]
    },
    {
     "name": "stderr",
     "output_type": "stream",
     "text": [
      "\r",
      "  0%|▏                                                                              | 34/11306 [00:12<1:11:30,  2.63it/s]"
     ]
    },
    {
     "name": "stdout",
     "output_type": "stream",
     "text": [
      "nan\n"
     ]
    },
    {
     "name": "stderr",
     "output_type": "stream",
     "text": [
      "\r",
      "  0%|▏                                                                              | 35/11306 [00:13<1:11:09,  2.64it/s]"
     ]
    },
    {
     "name": "stdout",
     "output_type": "stream",
     "text": [
      "nan\n"
     ]
    },
    {
     "name": "stderr",
     "output_type": "stream",
     "text": [
      "\r",
      "  0%|▎                                                                              | 36/11306 [00:13<1:10:49,  2.65it/s]"
     ]
    },
    {
     "name": "stdout",
     "output_type": "stream",
     "text": [
      "nan\n"
     ]
    },
    {
     "name": "stderr",
     "output_type": "stream",
     "text": [
      "\r",
      "  0%|▎                                                                              | 37/11306 [00:14<1:10:59,  2.65it/s]"
     ]
    },
    {
     "name": "stdout",
     "output_type": "stream",
     "text": [
      "nan\n"
     ]
    },
    {
     "name": "stderr",
     "output_type": "stream",
     "text": [
      "\r",
      "  0%|▎                                                                              | 38/11306 [00:14<1:10:38,  2.66it/s]"
     ]
    },
    {
     "name": "stdout",
     "output_type": "stream",
     "text": [
      "nan\n"
     ]
    },
    {
     "name": "stderr",
     "output_type": "stream",
     "text": [
      "\r",
      "  0%|▎                                                                              | 39/11306 [00:14<1:11:33,  2.62it/s]"
     ]
    },
    {
     "name": "stdout",
     "output_type": "stream",
     "text": [
      "nan\n"
     ]
    },
    {
     "name": "stderr",
     "output_type": "stream",
     "text": [
      "\r",
      "  0%|▎                                                                              | 40/11306 [00:15<1:11:18,  2.63it/s]"
     ]
    },
    {
     "name": "stdout",
     "output_type": "stream",
     "text": [
      "nan\n"
     ]
    },
    {
     "name": "stderr",
     "output_type": "stream",
     "text": [
      "\r",
      "  0%|▎                                                                              | 41/11306 [00:15<1:11:23,  2.63it/s]"
     ]
    },
    {
     "name": "stdout",
     "output_type": "stream",
     "text": [
      "nan\n"
     ]
    },
    {
     "name": "stderr",
     "output_type": "stream",
     "text": [
      "\r",
      "  0%|▎                                                                              | 42/11306 [00:15<1:11:10,  2.64it/s]"
     ]
    },
    {
     "name": "stdout",
     "output_type": "stream",
     "text": [
      "nan\n"
     ]
    },
    {
     "name": "stderr",
     "output_type": "stream",
     "text": [
      "\r",
      "  0%|▎                                                                              | 43/11306 [00:16<1:11:10,  2.64it/s]"
     ]
    },
    {
     "name": "stdout",
     "output_type": "stream",
     "text": [
      "nan\n"
     ]
    },
    {
     "name": "stderr",
     "output_type": "stream",
     "text": [
      "\r",
      "  0%|▎                                                                              | 44/11306 [00:16<1:11:09,  2.64it/s]"
     ]
    },
    {
     "name": "stdout",
     "output_type": "stream",
     "text": [
      "nan\n"
     ]
    },
    {
     "name": "stderr",
     "output_type": "stream",
     "text": [
      "\r",
      "  0%|▎                                                                              | 45/11306 [00:17<1:10:39,  2.66it/s]"
     ]
    },
    {
     "name": "stdout",
     "output_type": "stream",
     "text": [
      "nan\n"
     ]
    },
    {
     "name": "stderr",
     "output_type": "stream",
     "text": [
      "\r",
      "  0%|▎                                                                              | 46/11306 [00:17<1:10:40,  2.66it/s]"
     ]
    },
    {
     "name": "stdout",
     "output_type": "stream",
     "text": [
      "nan\n"
     ]
    },
    {
     "name": "stderr",
     "output_type": "stream",
     "text": [
      "\r",
      "  0%|▎                                                                              | 47/11306 [00:17<1:10:42,  2.65it/s]"
     ]
    },
    {
     "name": "stdout",
     "output_type": "stream",
     "text": [
      "nan\n"
     ]
    },
    {
     "name": "stderr",
     "output_type": "stream",
     "text": [
      "\r",
      "  0%|▎                                                                              | 48/11306 [00:18<1:10:48,  2.65it/s]"
     ]
    },
    {
     "name": "stdout",
     "output_type": "stream",
     "text": [
      "nan\n"
     ]
    },
    {
     "name": "stderr",
     "output_type": "stream",
     "text": [
      "  0%|▎                                                                              | 49/11306 [00:18<1:11:11,  2.64it/s]"
     ]
    },
    {
     "name": "stdout",
     "output_type": "stream",
     "text": [
      "nan\n"
     ]
    },
    {
     "name": "stderr",
     "output_type": "stream",
     "text": [
      "\n"
     ]
    }
   ],
   "source": [
    "import mygene\n",
    "import tqdm\n",
    "mg = mygene.MyGeneInfo()\n",
    "for gene in tqdm.tqdm(gene_associations[\"Region\"]):\n",
    "    if gene in gene_map: continue\n",
    "    try: gene_map[gene] = mg.getgene(gene)[\"symbol\"]\n",
    "    except: pass"
   ]
  },
  {
   "cell_type": "code",
   "execution_count": 7,
   "id": "bf109890",
   "metadata": {},
   "outputs": [
    {
     "data": {
      "text/plain": [
       "{}"
      ]
     },
     "execution_count": 7,
     "metadata": {},
     "output_type": "execute_result"
    }
   ],
   "source": [
    "gene_map"
   ]
  },
  {
   "cell_type": "code",
   "execution_count": 40,
   "id": "15c33768",
   "metadata": {},
   "outputs": [
    {
     "data": {
      "text/plain": [
       "False"
      ]
     },
     "execution_count": 40,
     "metadata": {},
     "output_type": "execute_result"
    }
   ],
   "source": [
    "\"a\" in gene_map"
   ]
  },
  {
   "cell_type": "code",
   "execution_count": 19,
   "id": "f19d99f0",
   "metadata": {},
   "outputs": [
    {
     "name": "stdout",
     "output_type": "stream",
     "text": [
      "MYLK2\n",
      "FOXS1\n",
      "DUSP15\n",
      "TTLL9\n",
      "PDRG1\n",
      "XKR7\n",
      "CCM2L\n",
      "HCK\n",
      "TM9SF4\n",
      "POFUT1\n",
      "KIF3B\n",
      "ASXL1\n",
      "NOL4L\n",
      "C20orf203\n",
      "COMMD7\n",
      "DNMT3B\n",
      "MAPRE1\n",
      "EFCAB8\n",
      "SUN5\n",
      "BPIFB2\n",
      "BPIFB6\n",
      "BPIFB3\n",
      "BPIFB4\n",
      "BPIFA2\n",
      "BPIFA3\n",
      "BPIFA1\n",
      "BPIFB1\n",
      "CDK5RAP1\n",
      "SNTA1\n",
      "CBFA2T2\n",
      "NECAB3\n",
      "C20orf144\n",
      "E2F1\n",
      "PXMP4\n",
      "ZNF341\n",
      "CHMP4B\n",
      "RALY\n",
      "EIF2S2\n",
      "ASIP\n",
      "AHCY\n",
      "ITCH\n",
      "DYNLRB1\n",
      "MAP1LC3A\n",
      "PIGU\n",
      "TP53INP2\n",
      "NCOA6\n",
      "GGT7\n",
      "ACSS2\n",
      "GSS\n",
      "MYH7B\n",
      "TRPC4AP\n",
      "EDEM2\n",
      "PROCR\n",
      "MMP24\n",
      "EIF6\n",
      "FAM83C\n",
      "UQCC1\n",
      "GDF5\n",
      "CEP250\n",
      "C20orf173\n",
      "ERGIC3\n",
      "SPAG4\n",
      "CPNE1\n",
      "RBM12\n",
      "NFS1\n",
      "ROMO1\n",
      "RBM39\n",
      "PHF20\n",
      "SCAND1\n",
      "CNBD2\n",
      "EPB41L1\n",
      "AAR2\n",
      "DLGAP4\n",
      "MYL9\n",
      "TGIF2\n",
      "TGIF2-RAB5IF\n",
      "RAB5IF\n",
      "SLA2\n",
      "NDRG3\n",
      "DSN1\n",
      "SOGA1\n",
      "TLDC2\n",
      "SAMHD1\n",
      "RBL1\n",
      "MROH8\n",
      "RPN2\n",
      "GHRH\n",
      "MANBAL\n",
      "SRC\n",
      "BLCAP\n",
      "NNAT\n",
      "CTNNBL1\n",
      "VSTM2L\n",
      "TTI1\n",
      "RPRD1B\n",
      "TGM2\n",
      "KIAA1755\n",
      "BPI\n",
      "LBP\n",
      "RALGAPB\n",
      "ADIG\n",
      "ARHGAP40\n",
      "SLC32A1\n",
      "ACTR5\n",
      "PPP1R16B\n",
      "FAM83D\n",
      "DHX35\n",
      "MAFB\n",
      "TOP1\n",
      "PLCG1\n",
      "ZHX3\n",
      "LPIN3\n",
      "EMILIN3\n",
      "CHD6\n",
      "PTPRT\n",
      "L3MBTL1\n",
      "SGK2\n",
      "IFT52\n",
      "MYBL2\n",
      "GTSF1L\n",
      "TOX2\n",
      "JPH2\n",
      "OSER1\n",
      "GDAP1L1\n",
      "FITM2\n",
      "R3HDML\n",
      "HNF4A\n",
      "TTPAL\n",
      "SERINC3\n",
      "PKIG\n",
      "ADA\n",
      "CCN5\n",
      "KCNK15\n",
      "RIMS4\n",
      "YWHAB\n",
      "PABPC1L\n",
      "TOMM34\n",
      "STK4\n",
      "KCNS1\n",
      "WFDC5\n",
      "WFDC12\n",
      "PI3\n",
      "SEMG1\n",
      "SEMG2\n",
      "SLPI\n",
      "MATN4\n",
      "RBPJL\n",
      "SDC4\n",
      "SYS1\n",
      "SYS1-DBNDD2\n",
      "TP53TG5\n",
      "DBNDD2\n",
      "PIGT\n",
      "WFDC2\n",
      "SPINT3\n",
      "WFDC6\n",
      "EPPIN-WFDC6\n",
      "EPPIN\n",
      "WFDC8\n",
      "WFDC9\n",
      "WFDC10A\n",
      "WFDC11\n",
      "WFDC10B\n",
      "WFDC13\n",
      "SPINT4\n",
      "WFDC3\n",
      "DNTTIP1\n",
      "UBE2C\n",
      "TNNC2\n",
      "SNX21\n",
      "ACOT8\n",
      "ZSWIM3\n",
      "ZSWIM1\n",
      "SPATA25\n",
      "NEURL2\n",
      "CTSA\n",
      "PLTP\n",
      "PCIF1\n",
      "ZNF335\n",
      "MMP9\n",
      "SLC12A5\n",
      "NCOA5\n",
      "CD40\n",
      "CDH22\n",
      "SLC35C2\n",
      "ELMO2\n",
      "ZNF334\n",
      "OCSTAMP\n",
      "SLC13A3\n",
      "TP53RK\n",
      "SLC2A10\n",
      "EYA2\n",
      "ZMYND8\n",
      "NCOA3\n",
      "SULF2\n",
      "PREX1\n",
      "ARFGEF2\n",
      "CSE1L\n",
      "STAU1\n",
      "DDX27\n",
      "ZNFX1\n",
      "KCNB1\n",
      "PTGIS\n",
      "B4GALT5\n",
      "SLC9A8\n",
      "SPATA2\n",
      "RNF114\n",
      "SNAI1\n",
      "PEDS1-UBE2V1\n",
      "UBE2V1\n",
      "PEDS1\n",
      "CEBPB\n",
      "PTPN1\n",
      "RIPOR3\n",
      "PARD6B\n",
      "BCAS4\n",
      "ADNP\n",
      "DPM1\n",
      "MOCS3\n",
      "KCNG1\n",
      "NFATC2\n",
      "ATP9A\n",
      "SALL4\n",
      "ZFP64\n",
      "TSHZ2\n",
      "ZNF217\n",
      "BCAS1\n",
      "CYP24A1\n",
      "PFDN4\n",
      "DOK5\n",
      "CBLN4\n",
      "MC3R\n",
      "FAM210B\n",
      "AURKA\n",
      "CSTF1\n",
      "CASS4\n",
      "RTF2\n",
      "GCNT7\n",
      "FAM209A\n",
      "FAM209B\n",
      "TFAP2C\n",
      "BMP7\n",
      "SPO11\n",
      "RAE1\n",
      "RBM38\n",
      "CTCFL\n",
      "PCK1\n",
      "ZBP1\n",
      "PMEPA1\n",
      "C20orf85\n",
      "ANKRD60\n",
      "RAB22A\n",
      "VAPB\n",
      "APCDD1L\n",
      "STX16\n",
      "STX16-NPEPL1\n",
      "NPEPL1\n",
      "GNAS\n",
      "NELFCD\n",
      "CTSZ\n",
      "TUBB1\n",
      "ATP5F1E\n",
      "PRELID3B\n",
      "ZNF831\n",
      "EDN3\n",
      "PHACTR3\n",
      "SYCP2\n",
      "PPP1R3D\n",
      "FAM217B\n",
      "CDH26\n",
      "CDH4\n",
      "TAF4\n",
      "LSM14B\n",
      "PSMA7\n",
      "SS18L1\n",
      "MTG2\n",
      "HRH3\n",
      "OSBPL2\n",
      "ADRM1\n",
      "LAMA5\n",
      "RPS21\n",
      "CABLES2\n",
      "RBBP8NL\n",
      "GATA5\n",
      "SLCO4A1\n",
      "NTSR1\n",
      "MRGBP\n",
      "OGFR\n",
      "COL9A3\n",
      "TCFL5\n",
      "DIDO1\n",
      "GID8\n",
      "SLC17A9\n",
      "BHLHE23\n",
      "YTHDF1\n",
      "BIRC7\n",
      "NKAIN4\n",
      "ARFGAP1\n",
      "COL20A1\n",
      "CHRNA4\n",
      "KCNQ2\n",
      "EEF1A2\n",
      "PPDPF\n",
      "PTK6\n",
      "SRMS\n",
      "FNDC11\n",
      "HELZ2\n",
      "GMEB2\n",
      "STMN3\n",
      "RTEL1\n",
      "RTEL1-TNFRSF6B\n",
      "TNFRSF6B\n",
      "ARFRP1\n",
      "ZGPAT\n",
      "LIME1\n",
      "SLC2A4RG\n",
      "ZBTB46\n",
      "ABHD16B\n",
      "TPD52L2\n",
      "DNAJC5\n",
      "UCKL1\n",
      "ZNF512B\n",
      "SAMD10\n",
      "PRPF6\n",
      "SOX18\n",
      "TCEA2\n",
      "RGS19\n",
      "OPRL1\n",
      "LKAAEAR1\n",
      "NPBWR2\n",
      "MYT1\n",
      "PCMTD2\n"
     ]
    }
   ],
   "source": [
    "import mygene\n",
    "mg = mygene.MyGeneInfo()\n",
    "\n",
    "for row in range(0, len(gene_associations)):\n",
    "    try:\n",
    "        print(mg.getgene(gene_associations[\"Region\"][row])[\"symbol\"])\n",
    "    except: pass"
   ]
  },
  {
   "cell_type": "code",
   "execution_count": 41,
   "id": "3ba6ed43",
   "metadata": {},
   "outputs": [
    {
     "name": "stdout",
     "output_type": "stream",
     "text": [
      "        CHR       POS                           MarkerID           Allele1  \\\n",
      "0     chr20     87766                   chr20:87766:AG:A                AG   \n",
      "1     chr20     96058                    chr20:96058:C:T                 C   \n",
      "2     chr20     96120                 chr20:96120:TATA:T              TATA   \n",
      "3     chr20     96142                    chr20:96142:C:T                 C   \n",
      "4     chr20     96145                    chr20:96145:C:T                 C   \n",
      "...     ...       ...                                ...               ...   \n",
      "1358  chr20  64106449              chr20:64106449:ATGT:A              ATGT   \n",
      "1359  chr20  64273302               chr20:64273302:CTG:C               CTG   \n",
      "1360  chr20  64273431  chr20:64273431:CAGATGACAACAGCTG:C  CAGATGACAACAGCTG   \n",
      "1361  chr20  64273471              chr20:64273471:G:GGAA                 G   \n",
      "1362  chr20  64273471              chr20:64273471:GGAA:G              GGAA   \n",
      "\n",
      "     Allele2  AC_Allele2  AF_Allele2  MissingRate      BETA       SE  \\\n",
      "0          A           1    0.000074          0.0 -1.111670  3.37488   \n",
      "1          T           1    0.000074          0.0 -1.259640  2.64887   \n",
      "2          T           1    0.000074          0.0 -1.137040  3.09324   \n",
      "3          T           2    0.000148          0.0  2.721060  1.97545   \n",
      "4          T           3    0.000222          0.0  2.946780  2.01572   \n",
      "...      ...         ...         ...          ...       ...      ...   \n",
      "1358       A           1    0.000074          0.0 -1.116840  3.27646   \n",
      "1359       C           1    0.000074          0.0  3.229990  2.16479   \n",
      "1360       C           1    0.000074          0.0  4.308710  2.36997   \n",
      "1361    GGAA           1    0.000074          0.0 -1.125850  3.18569   \n",
      "1362       G           6    0.000444          0.0  0.047073  1.13672   \n",
      "\n",
      "         Tstat       var   p.value  p.value.NA  Is.SPA   AF_case   AF_ctrl  \\\n",
      "0    -0.097602  0.087798  0.741857    0.741857   False  0.000000  0.000089   \n",
      "1    -0.179525  0.142521  0.634403    0.634403   False  0.000000  0.000089   \n",
      "2    -0.118836  0.104514  0.713179    0.713179   False  0.000000  0.000089   \n",
      "3     0.697281  0.256253  0.168376    0.168376   False  0.000439  0.000089   \n",
      "4     0.725246  0.246115  0.143770    0.143770   False  0.000439  0.000178   \n",
      "...        ...       ...       ...         ...     ...       ...       ...   \n",
      "1358 -0.104036  0.093151  0.733202    0.733202   False  0.000000  0.000089   \n",
      "1359  0.689236  0.213386  0.135685    0.135685   False  0.000439  0.000000   \n",
      "1360  0.767120  0.178039  0.069057    0.069057   False  0.000439  0.000000   \n",
      "1361 -0.110936  0.098535  0.723784    0.723784   False  0.000000  0.000089   \n",
      "1362  0.036431  0.773918  0.966968    0.966968   False  0.000439  0.000445   \n",
      "\n",
      "      N_case  N_ctrl  \n",
      "0       1139    5614  \n",
      "1       1139    5614  \n",
      "2       1139    5614  \n",
      "3       1139    5614  \n",
      "4       1139    5614  \n",
      "...      ...     ...  \n",
      "1358    1139    5614  \n",
      "1359    1139    5614  \n",
      "1360    1139    5614  \n",
      "1361    1139    5614  \n",
      "1362    1139    5614  \n",
      "\n",
      "[1363 rows x 19 columns]         CHR       POS                                           MarkerID  \\\n",
      "0     chr20     96058                                    chr20:96058:C:T   \n",
      "1     chr20     96300  chr20:96300:TGAGACTACTATGCCACCATCTGAGGCCACTACT...   \n",
      "2     chr20    145458                                chr20:145458:CAAG:C   \n",
      "3     chr20    145465                                   chr20:145465:A:T   \n",
      "4     chr20    145514                               chr20:145514:GCAAA:G   \n",
      "...     ...       ...                                                ...   \n",
      "1423  chr20  64097962                              chr20:64097962:TACA:T   \n",
      "1424  chr20  64098440                                 chr20:64098440:C:T   \n",
      "1425  chr20  64105880                              chr20:64105880:AGGC:A   \n",
      "1426  chr20  64106408                                 chr20:64106408:G:A   \n",
      "1427  chr20  64219792                  chr20:64219792:CCAGCAGCAGCAGCTG:C   \n",
      "\n",
      "                                    Allele1 Allele2  AC_Allele2  AF_Allele2  \\\n",
      "0                                         C       T           3    0.000219   \n",
      "1     TGAGACTACTATGCCACCATCTGAGGCCACTACTCCC       T           1    0.000073   \n",
      "2                                      CAAG       C           6    0.000438   \n",
      "3                                         A       T           3    0.000219   \n",
      "4                                     GCAAA       G        2403    0.175581   \n",
      "...                                     ...     ...         ...         ...   \n",
      "1423                                   TACA       T           6    0.000438   \n",
      "1424                                      C       T           1    0.000073   \n",
      "1425                                   AGGC       A           3    0.000219   \n",
      "1426                                      G       A           2    0.000146   \n",
      "1427                       CCAGCAGCAGCAGCTG       C           1    0.000073   \n",
      "\n",
      "      MissingRate      BETA        SE     Tstat         var   p.value  \\\n",
      "0        0.000000  2.524220  1.398530  1.290570    0.511274  0.071090   \n",
      "1        0.000000 -1.419760  2.242460 -0.282336    0.198862  0.526651   \n",
      "2        0.000000  1.684980  1.008780  1.655780    0.982670  0.094857   \n",
      "3        0.000000  0.348479  1.356970  0.189249    0.543071  0.797329   \n",
      "4        0.000292  0.022186  0.054348  7.511490  338.562000  0.683103   \n",
      "...           ...       ...       ...       ...         ...       ...   \n",
      "1423     0.000000 -0.683510  0.942409 -0.769602    1.125960  0.468280   \n",
      "1424     0.000000  4.147930  2.343680  0.755151    0.182055  0.076755   \n",
      "1425     0.000000  0.262851  1.296420  0.156393    0.594987  0.839330   \n",
      "1426     0.000000  0.830961  1.617060  0.317780    0.382424  0.607343   \n",
      "1427     0.000146  2.566940  2.070960  0.598510    0.233161  0.215164   \n",
      "\n",
      "      p.value.NA  Is.SPA   AF_case   AF_ctrl  N_case  N_ctrl  \n",
      "0       0.071090   False  0.000572  0.000098    1747    5096  \n",
      "1       0.526651   False  0.000000  0.000098    1747    5096  \n",
      "2       0.094857   False  0.000859  0.000294    1747    5096  \n",
      "3       0.797329   False  0.000286  0.000196    1747    5096  \n",
      "4       0.683103   False  0.177447  0.174941    1747    5096  \n",
      "...          ...     ...       ...       ...     ...     ...  \n",
      "1423    0.468280   False  0.000286  0.000491    1747    5096  \n",
      "1424    0.076755   False  0.000286  0.000000    1747    5096  \n",
      "1425    0.839330   False  0.000286  0.000196    1747    5096  \n",
      "1426    0.607343   False  0.000286  0.000098    1747    5096  \n",
      "1427    0.215164   False  0.000286  0.000000    1747    5096  \n",
      "\n",
      "[1428 rows x 19 columns]          CHR       POS                       MarkerID Allele1       Allele2  \\\n",
      "0      chr20     96004                chr20:96004:G:A       G             A   \n",
      "1      chr20     96013                chr20:96013:G:T       G             T   \n",
      "2      chr20     96058                chr20:96058:C:T       C             T   \n",
      "3      chr20     96081                chr20:96081:C:G       C             G   \n",
      "4      chr20     96111               chr20:96111:CT:C      CT             C   \n",
      "...      ...       ...                            ...     ...           ...   \n",
      "15436  chr20  64273466  chr20:64273466:C:CGGAGGGAAGAA       C  CGGAGGGAAGAA   \n",
      "15437  chr20  64273471          chr20:64273471:GGAA:G    GGAA             G   \n",
      "15438  chr20  64273476        chr20:64273476:AAGAAG:A  AAGAAG             A   \n",
      "15439  chr20  64273480          chr20:64273480:AGAG:A    AGAG             A   \n",
      "15440  chr20  64273491            chr20:64273491:C:CG       C            CG   \n",
      "\n",
      "       AC_Allele2  AF_Allele2  MissingRate      BETA        SE     Tstat  \\\n",
      "0              10    0.000012     0.000010 -1.138060  1.191660 -0.801413   \n",
      "1              51    0.000063     0.000007  0.026146  0.535463  0.091191   \n",
      "2              11    0.000014     0.000002 -1.139440  1.062950 -1.008480   \n",
      "3               1    0.000001     0.000000 -1.100780  3.598530 -0.085007   \n",
      "4              78    0.000097     0.000000  0.093206  0.447003  0.466468   \n",
      "...           ...         ...          ...       ...       ...       ...   \n",
      "15436           1    0.000001     0.000042 -1.083740  3.924020 -0.070382   \n",
      "15437           2    0.000002     0.000020  6.622130  3.660420  0.859138   \n",
      "15438           3    0.000004     0.000007 -1.111280  2.116480 -0.248082   \n",
      "15439          12    0.000015     0.000010  1.295870  1.096930  1.076960   \n",
      "15440           1    0.000001     0.000035 -1.138680  3.141540 -0.115376   \n",
      "\n",
      "            var   p.value  p.value.NA  Is.SPA   AF_case   AF_ctrl  N_case  \\\n",
      "0      0.704193  0.339570    0.339570   False  0.000000  0.000013   29311   \n",
      "1      3.487720  0.961055    0.961055   False  0.000068  0.000063   29311   \n",
      "2      0.885068  0.283736    0.283736   False  0.000000  0.000015   29311   \n",
      "3      0.077224  0.759682    0.759682   False  0.000000  0.000001   29311   \n",
      "4      5.004720  0.834829    0.834829   False  0.000102  0.000096   29311   \n",
      "...         ...       ...         ...     ...       ...       ...     ...   \n",
      "15436  0.064944  0.782410    0.782410   False  0.000000  0.000001   29311   \n",
      "15437  0.129737  0.070433    0.017068   False  0.000017  0.000001   29311   \n",
      "15438  0.223240  0.599542    0.599542   False  0.000000  0.000004   29311   \n",
      "15439  0.831073  0.237462    0.237462   False  0.000034  0.000013   29311   \n",
      "15440  0.101325  0.717009    0.717009   False  0.000000  0.000001   29311   \n",
      "\n",
      "       N_ctrl  \n",
      "0      373064  \n",
      "1      373064  \n",
      "2      373064  \n",
      "3      373064  \n",
      "4      373064  \n",
      "...       ...  \n",
      "15436  373064  \n",
      "15437  373064  \n",
      "15438  373064  \n",
      "15439  373064  \n",
      "15440  373064  \n",
      "\n",
      "[15441 rows x 19 columns]\n"
     ]
    },
    {
     "data": {
      "image/png": "[encoded data removed]",
      "text/plain": [
       "<Figure size 1440x1440 with 1 Axes>"
      ]
     },
     "metadata": {
      "needs_background": "light"
     },
     "output_type": "display_data"
    }
   ],
   "source": [
    "plt.rcParams['figure.figsize'] = [20, 20]\n",
    "\n",
    "assocs_afr = pd.read_csv(\"14_11_data/saige_variant_chr20/AFR.txt\", sep='\\t')\n",
    "assocs_sas = pd.read_csv(\"14_11_data/saige_variant_chr20/SAS.txt\", sep='\\t')\n",
    "assocs_eur = pd.read_csv(\"14_11_data/saige_variant_chr20/EUR.txt\", sep='\\t')\n",
    "\n",
    "fig, ax = plt.subplots()\n",
    "\n",
    "print(assocs_afr, assocs_sas, assocs_eur)\n",
    "\n",
    "#ax.scatter([-math.log(p) for p in np.linspace(0, 1, num=len(assocs_afr[\"p.value\"])+1)[1:]],\n",
    "#           [-math.log(p) for p in assocs_afr[\"p.value\"].sort_values()], label=\"AFR\",s=10)\n",
    "\n",
    "#ax.scatter([-math.log(p) for p in np.linspace(0, 1, num=len(assocs_sas[\"p.value\"])+1)[1:]],\n",
    "#           [-math.log(p) for p in assocs_sas[\"p.value\"].sort_values()], label=\"SAS\",s=10)\n",
    "\n",
    "ax.scatter([-math.log10(p) for p in np.linspace(0, 1, num=len(assocs_eur[assocs_eur[\"AC_Allele2\"] > 20][\"p.value\"])+1)[1:]],\n",
    "           [-math.log10(p) for p in assocs_eur[assocs_eur[\"AC_Allele2\"] > 20][\"p.value\"].sort_values()], label=\"EUR\",s=10)\n",
    "\n",
    "ax.axline((0, 0), slope=1)\n",
    "ax.set_aspect('equal', adjustable='box')\n",
    "\n",
    "ax.legend()\n",
    "\n",
    "plt.show()\n"
   ]
  },
  {
   "cell_type": "code",
   "execution_count": 12,
   "id": "d5c31730",
   "metadata": {},
   "outputs": [
    {
     "name": "stderr",
     "output_type": "stream",
     "text": [
      "/tmp/ipykernel_190974/2816642777.py:1: SettingWithCopyWarning: \n",
      "A value is trying to be set on a copy of a slice from a DataFrame\n",
      "\n",
      "See the caveats in the documentation: https://pandas.pydata.org/pandas-docs/stable/user_guide/indexing.html#returning-a-view-versus-a-copy\n",
      "  gene_associations[\"Region\"][1:4] = [1]*3\n"
     ]
    }
   ],
   "source": [
    "gene_associations[\"Region\"][1:4] = [1]*3"
   ]
  },
  {
   "cell_type": "code",
   "execution_count": 63,
   "id": "6b5cf2e2",
   "metadata": {},
   "outputs": [
    {
     "data": {
      "text/html": [
       "<div>\n",
       "<style scoped>\n",
       "    .dataframe tbody tr th:only-of-type {\n",
       "        vertical-align: middle;\n",
       "    }\n",
       "\n",
       "    .dataframe tbody tr th {\n",
       "        vertical-align: top;\n",
       "    }\n",
       "\n",
       "    .dataframe thead th {\n",
       "        text-align: right;\n",
       "    }\n",
       "</style>\n",
       "<table border=\"1\" class=\"dataframe\">\n",
       "  <thead>\n",
       "    <tr style=\"text-align: right;\">\n",
       "      <th></th>\n",
       "      <th>Region</th>\n",
       "      <th>Group</th>\n",
       "      <th>max_MAF</th>\n",
       "      <th>Pvalue</th>\n",
       "      <th>Pvalue_Burden</th>\n",
       "      <th>Pvalue_SKAT</th>\n",
       "      <th>BETA_Burden</th>\n",
       "      <th>SE_Burden</th>\n",
       "      <th>MAC</th>\n",
       "      <th>MAC_case</th>\n",
       "      <th>MAC_control</th>\n",
       "      <th>Number_rare</th>\n",
       "      <th>Number_ultra_rare</th>\n",
       "    </tr>\n",
       "  </thead>\n",
       "  <tbody>\n",
       "    <tr>\n",
       "      <th>0</th>\n",
       "      <td>DEFB125</td>\n",
       "      <td>damaging_missense</td>\n",
       "      <td>0.0001</td>\n",
       "      <td>0.661004</td>\n",
       "      <td>0.661004</td>\n",
       "      <td>0.661004</td>\n",
       "      <td>-0.047716</td>\n",
       "      <td>0.108809</td>\n",
       "      <td>1.0</td>\n",
       "      <td>0.0</td>\n",
       "      <td>1.0</td>\n",
       "      <td>0.0</td>\n",
       "      <td>1.0</td>\n",
       "    </tr>\n",
       "    <tr>\n",
       "      <th>1</th>\n",
       "      <td>DEFB125</td>\n",
       "      <td>damaging_missense</td>\n",
       "      <td>0.0010</td>\n",
       "      <td>0.661004</td>\n",
       "      <td>0.661004</td>\n",
       "      <td>0.661004</td>\n",
       "      <td>-0.047716</td>\n",
       "      <td>0.108809</td>\n",
       "      <td>1.0</td>\n",
       "      <td>0.0</td>\n",
       "      <td>1.0</td>\n",
       "      <td>0.0</td>\n",
       "      <td>1.0</td>\n",
       "    </tr>\n",
       "    <tr>\n",
       "      <th>2</th>\n",
       "      <td>DEFB125</td>\n",
       "      <td>damaging_missense</td>\n",
       "      <td>0.0100</td>\n",
       "      <td>0.661004</td>\n",
       "      <td>0.661004</td>\n",
       "      <td>0.661004</td>\n",
       "      <td>-0.047716</td>\n",
       "      <td>0.108809</td>\n",
       "      <td>1.0</td>\n",
       "      <td>0.0</td>\n",
       "      <td>1.0</td>\n",
       "      <td>0.0</td>\n",
       "      <td>1.0</td>\n",
       "    </tr>\n",
       "    <tr>\n",
       "      <th>3</th>\n",
       "      <td>DEFB125</td>\n",
       "      <td>pLoF</td>\n",
       "      <td>0.0001</td>\n",
       "      <td>0.769970</td>\n",
       "      <td>0.937565</td>\n",
       "      <td>0.584311</td>\n",
       "      <td>0.000863</td>\n",
       "      <td>0.011016</td>\n",
       "      <td>205.0</td>\n",
       "      <td>15.0</td>\n",
       "      <td>190.0</td>\n",
       "      <td>5.0</td>\n",
       "      <td>4.0</td>\n",
       "    </tr>\n",
       "    <tr>\n",
       "      <th>4</th>\n",
       "      <td>DEFB125</td>\n",
       "      <td>pLoF</td>\n",
       "      <td>0.0010</td>\n",
       "      <td>0.769970</td>\n",
       "      <td>0.937565</td>\n",
       "      <td>0.584311</td>\n",
       "      <td>0.000863</td>\n",
       "      <td>0.011016</td>\n",
       "      <td>205.0</td>\n",
       "      <td>15.0</td>\n",
       "      <td>190.0</td>\n",
       "      <td>5.0</td>\n",
       "      <td>4.0</td>\n",
       "    </tr>\n",
       "    <tr>\n",
       "      <th>...</th>\n",
       "      <td>...</td>\n",
       "      <td>...</td>\n",
       "      <td>...</td>\n",
       "      <td>...</td>\n",
       "      <td>...</td>\n",
       "      <td>...</td>\n",
       "      <td>...</td>\n",
       "      <td>...</td>\n",
       "      <td>...</td>\n",
       "      <td>...</td>\n",
       "      <td>...</td>\n",
       "      <td>...</td>\n",
       "      <td>...</td>\n",
       "    </tr>\n",
       "    <tr>\n",
       "      <th>2394</th>\n",
       "      <td>PRMT2</td>\n",
       "      <td>synonymous</td>\n",
       "      <td>0.0100</td>\n",
       "      <td>0.885930</td>\n",
       "      <td>1.000000</td>\n",
       "      <td>0.704184</td>\n",
       "      <td>-0.000025</td>\n",
       "      <td>inf</td>\n",
       "      <td>4003.0</td>\n",
       "      <td>283.0</td>\n",
       "      <td>3720.0</td>\n",
       "      <td>34.0</td>\n",
       "      <td>77.0</td>\n",
       "    </tr>\n",
       "    <tr>\n",
       "      <th>2395</th>\n",
       "      <td>PRMT2</td>\n",
       "      <td>damaging_missense;pLoF;synonymous</td>\n",
       "      <td>0.0001</td>\n",
       "      <td>0.616826</td>\n",
       "      <td>0.493367</td>\n",
       "      <td>0.394777</td>\n",
       "      <td>0.003458</td>\n",
       "      <td>0.005048</td>\n",
       "      <td>960.0</td>\n",
       "      <td>75.0</td>\n",
       "      <td>885.0</td>\n",
       "      <td>26.0</td>\n",
       "      <td>113.0</td>\n",
       "    </tr>\n",
       "    <tr>\n",
       "      <th>2396</th>\n",
       "      <td>PRMT2</td>\n",
       "      <td>damaging_missense;pLoF;synonymous</td>\n",
       "      <td>0.0010</td>\n",
       "      <td>1.000000</td>\n",
       "      <td>1.000000</td>\n",
       "      <td>0.843642</td>\n",
       "      <td>-0.000050</td>\n",
       "      <td>inf</td>\n",
       "      <td>2344.0</td>\n",
       "      <td>167.0</td>\n",
       "      <td>2177.0</td>\n",
       "      <td>32.0</td>\n",
       "      <td>113.0</td>\n",
       "    </tr>\n",
       "    <tr>\n",
       "      <th>2397</th>\n",
       "      <td>PRMT2</td>\n",
       "      <td>damaging_missense;pLoF;synonymous</td>\n",
       "      <td>0.0100</td>\n",
       "      <td>0.921507</td>\n",
       "      <td>0.945556</td>\n",
       "      <td>0.761731</td>\n",
       "      <td>0.000175</td>\n",
       "      <td>0.002567</td>\n",
       "      <td>4087.0</td>\n",
       "      <td>290.0</td>\n",
       "      <td>3797.0</td>\n",
       "      <td>34.0</td>\n",
       "      <td>113.0</td>\n",
       "    </tr>\n",
       "    <tr>\n",
       "      <th>2398</th>\n",
       "      <td>PRMT2</td>\n",
       "      <td>Cauchy</td>\n",
       "      <td>NaN</td>\n",
       "      <td>1.000000</td>\n",
       "      <td>1.000000</td>\n",
       "      <td>0.698550</td>\n",
       "      <td>NaN</td>\n",
       "      <td>NaN</td>\n",
       "      <td>NaN</td>\n",
       "      <td>NaN</td>\n",
       "      <td>NaN</td>\n",
       "      <td>NaN</td>\n",
       "      <td>NaN</td>\n",
       "    </tr>\n",
       "  </tbody>\n",
       "</table>\n",
       "<p>9152 rows × 13 columns</p>\n",
       "</div>"
      ],
      "text/plain": [
       "       Region                              Group  max_MAF    Pvalue  \\\n",
       "0     DEFB125                  damaging_missense   0.0001  0.661004   \n",
       "1     DEFB125                  damaging_missense   0.0010  0.661004   \n",
       "2     DEFB125                  damaging_missense   0.0100  0.661004   \n",
       "3     DEFB125                               pLoF   0.0001  0.769970   \n",
       "4     DEFB125                               pLoF   0.0010  0.769970   \n",
       "...       ...                                ...      ...       ...   \n",
       "2394    PRMT2                         synonymous   0.0100  0.885930   \n",
       "2395    PRMT2  damaging_missense;pLoF;synonymous   0.0001  0.616826   \n",
       "2396    PRMT2  damaging_missense;pLoF;synonymous   0.0010  1.000000   \n",
       "2397    PRMT2  damaging_missense;pLoF;synonymous   0.0100  0.921507   \n",
       "2398    PRMT2                             Cauchy      NaN  1.000000   \n",
       "\n",
       "      Pvalue_Burden  Pvalue_SKAT  BETA_Burden  SE_Burden     MAC  MAC_case  \\\n",
       "0          0.661004     0.661004    -0.047716   0.108809     1.0       0.0   \n",
       "1          0.661004     0.661004    -0.047716   0.108809     1.0       0.0   \n",
       "2          0.661004     0.661004    -0.047716   0.108809     1.0       0.0   \n",
       "3          0.937565     0.584311     0.000863   0.011016   205.0      15.0   \n",
       "4          0.937565     0.584311     0.000863   0.011016   205.0      15.0   \n",
       "...             ...          ...          ...        ...     ...       ...   \n",
       "2394       1.000000     0.704184    -0.000025        inf  4003.0     283.0   \n",
       "2395       0.493367     0.394777     0.003458   0.005048   960.0      75.0   \n",
       "2396       1.000000     0.843642    -0.000050        inf  2344.0     167.0   \n",
       "2397       0.945556     0.761731     0.000175   0.002567  4087.0     290.0   \n",
       "2398       1.000000     0.698550          NaN        NaN     NaN       NaN   \n",
       "\n",
       "      MAC_control  Number_rare  Number_ultra_rare  \n",
       "0             1.0          0.0                1.0  \n",
       "1             1.0          0.0                1.0  \n",
       "2             1.0          0.0                1.0  \n",
       "3           190.0          5.0                4.0  \n",
       "4           190.0          5.0                4.0  \n",
       "...           ...          ...                ...  \n",
       "2394       3720.0         34.0               77.0  \n",
       "2395        885.0         26.0              113.0  \n",
       "2396       2177.0         32.0              113.0  \n",
       "2397       3797.0         34.0              113.0  \n",
       "2398          NaN          NaN                NaN  \n",
       "\n",
       "[9152 rows x 13 columns]"
      ]
     },
     "execution_count": 63,
     "metadata": {},
     "output_type": "execute_result"
    }
   ],
   "source": [
    "gene_associations"
   ]
  },
  {
   "cell_type": "code",
   "execution_count": 1,
   "id": "085ce4a0",
   "metadata": {},
   "outputs": [],
   "source": [
    "import tqdm"
   ]
  }
 ],
 "metadata": {
  "kernelspec": {
   "display_name": "Python 3 (ipykernel)",
   "language": "python",
   "name": "python3"
  },
  "language_info": {
   "codemirror_mode": {
    "name": "ipython",
    "version": 3
   },
   "file_extension": ".py",
   "mimetype": "text/x-python",
   "name": "python",
   "nbconvert_exporter": "python",
   "pygments_lexer": "ipython3",
   "version": "3.10.6"
  }
 },
 "nbformat": 4,
 "nbformat_minor": 5
}
