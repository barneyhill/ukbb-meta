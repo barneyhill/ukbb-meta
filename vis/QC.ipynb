{
 "cells": [
  {
   "cell_type": "markdown",
   "id": "147bc503",
   "metadata": {},
   "source": [
    "### Compare results of test input T2D vs UKB T2D"
   ]
  },
  {
   "cell_type": "code",
   "execution_count": 17,
   "id": "c4d79c79",
   "metadata": {},
   "outputs": [
    {
     "name": "stdout",
     "output_type": "stream",
     "text": [
      "     CHR     GENE      Pval  Pval_0.00  Pval_0.01  Pval_0.04  Pval_0.09  \\\n",
      "0      7     AASS  0.510414   0.529440   0.527758   0.522038   0.510045   \n",
      "1      7   ABCA13  0.188158   0.296202   0.270620   0.225666   0.193205   \n",
      "2      7    ABCB1  0.192382   0.110369   0.110528   0.111638   0.115302   \n",
      "3      7    ABCB4  0.641855   0.702366   0.702648   0.702473   0.698818   \n",
      "4      7    ABCB5  0.655681   0.440409   0.451979   0.485342   0.531072   \n",
      "..   ...      ...       ...        ...        ...        ...        ...   \n",
      "869    7      ZP3  0.209248   0.122559   0.123164   0.125455   0.130552   \n",
      "870    7     ZPBP  0.158681   0.294497   0.289051   0.273460   0.249830   \n",
      "871    7  ZSCAN21  0.214376   0.356323   0.346662   0.318806   0.276362   \n",
      "872    7  ZSCAN25  1.000000   1.000000   1.000000   1.000000   1.000000   \n",
      "873    7      ZYX  0.116912   0.615056   0.581026   0.488547   0.365363   \n",
      "\n",
      "     Pval_0.025  Pval_0.50  Pval_1.00  \n",
      "0      0.454854   0.378288   0.323491  \n",
      "1      0.163613   0.152719   0.146803  \n",
      "2      0.133642   0.163900   0.213618  \n",
      "3      0.662048   0.566454   0.448908  \n",
      "4      0.624308   0.746166   0.857871  \n",
      "..          ...        ...        ...  \n",
      "869    0.150730   0.182762   0.238796  \n",
      "870    0.191306   0.138426   0.100454  \n",
      "871    0.184534   0.138241   0.123758  \n",
      "872    1.000000   1.000000   1.000000  \n",
      "873    0.164177   0.090328   0.065865  \n",
      "\n",
      "[874 rows x 10 columns]\n",
      "        Gene Name          Gene Id  P‑Value SKATO  P‑Value Burden  \\\n",
      "0             GCK  ENSG00000106633   7.566589e-13    5.607485e-13   \n",
      "1            ANKH  ENSG00000154122   1.122092e-10    5.389459e-05   \n",
      "2         MAP3K15  ENSG00000180815   1.957281e-05    1.544252e-05   \n",
      "3          ZNF771  ENSG00000179965   6.850809e-05    1.418554e-04   \n",
      "4          ANTKMT  ENSG00000103254   9.821107e-05    8.182425e-03   \n",
      "...           ...              ...            ...             ...   \n",
      "19398  AC011455.2  ENSG00000269547            NaN             NaN   \n",
      "19399     GPIHBP1  ENSG00000277494            NaN             NaN   \n",
      "19400    C11orf98  ENSG00000278615            NaN             NaN   \n",
      "19401  AC068547.1  ENSG00000283228            NaN             NaN   \n",
      "19402  AC018362.3  ENSG00000285942            NaN             NaN   \n",
      "\n",
      "       P‑Value SKAT  BETA Burden   Burden Set  Chrom : Position Chrom  \\\n",
      "0      8.440242e-06     0.046521  missense|LC      7.044139e+09     7   \n",
      "1      1.602988e-11    -0.008101  missense|LC      5.014711e+09     5   \n",
      "2      4.762145e-04    -0.004243  missense|LC      2.301936e+10     X   \n",
      "3      7.150907e-05     0.009750  missense|LC      1.603041e+10    16   \n",
      "4      7.028536e-05     0.013038  missense|LC      1.600072e+10    16   \n",
      "...             ...          ...          ...               ...   ...   \n",
      "19398           NaN          NaN  missense|LC               NaN   NaN   \n",
      "19399           NaN          NaN  missense|LC               NaN   NaN   \n",
      "19400           NaN          NaN  missense|LC               NaN   NaN   \n",
      "19401           NaN          NaN  missense|LC               NaN   NaN   \n",
      "19402           NaN          NaN  missense|LC               NaN   NaN   \n",
      "\n",
      "         Position  Details  \n",
      "0      44139451.0      NaN  \n",
      "1      14711150.0      NaN  \n",
      "2      19355683.0      NaN  \n",
      "3      30408021.0      NaN  \n",
      "4        716147.0      NaN  \n",
      "...           ...      ...  \n",
      "19398         NaN      NaN  \n",
      "19399         NaN      NaN  \n",
      "19400         NaN      NaN  \n",
      "19401         NaN      NaN  \n",
      "19402         NaN      NaN  \n",
      "\n",
      "[19403 rows x 11 columns]\n",
      "838\n",
      "874\n",
      "GCK\n"
     ]
    },
    {
     "name": "stderr",
     "output_type": "stream",
     "text": [
      "No artists with labels found to put in legend.  Note that artists whose label start with an underscore are ignored when legend() is called with no argument.\n"
     ]
    },
    {
     "data": {
      "image/png": "[encoded data removed]",
      "text/plain": [
       "<Figure size 432x288 with 1 Axes>"
      ]
     },
     "metadata": {
      "needs_background": "light"
     },
     "output_type": "display_data"
    }
   ],
   "source": [
    "import sys\n",
    "import pandas as pd\n",
    "import matplotlib.pyplot as plt\n",
    "import math\n",
    "import numpy as np\n",
    "\n",
    "chr20 = pd.read_csv(\"07_10_data/associations_output_chr20.txt\", sep=' ')\n",
    "chr21 = pd.read_csv(\"07_10_data/associations_output_chr21.txt\", sep=' ')\n",
    "#gene_bass = pd.read_csv(\"T2D_EUR_genebass_missense.csv\", sep=\",\")\n",
    "\n",
    "meta = pd.concat([chr20, chr21])\n",
    "#meta = pd.read_csv(\"~/brava/Rare_Variant_Meta/test_output/t2d_chr7_0.01_missense_lof_res.txt\", sep=' ')\n",
    "\n",
    "chr20 = pd.read_csv(\"07_10_data/gene_associations/.txt\", sep=' ')\n",
    "chr21 = pd.read_csv(\"07_10_data/associations_output_chr21.txt\", sep=' ')\n",
    "gene_associations = pd.concat([chr20, chr21])\n",
    "\n",
    "\n",
    "print(meta)\n",
    "\n",
    "print(gene_bass)\n",
    "\n",
    "gene_list = list(set(gene_bass[\"Gene Name\"]) & set(meta[\"GENE\"]))\n",
    "\n",
    "print(len(gene_list))\n",
    "\n",
    "#assocs_afr = assocs_afr.loc[assocs_afr[\"Region\"].isin(gene_list)] \n",
    "#assocs_sas = assocs_sas.loc[assocs_sas[\"Region\"].isin(gene_list)]\n",
    "\n",
    "fig, ax = plt.subplots()\n",
    "\n",
    "print(len(meta))\n",
    "\n",
    "for gene in gene_list:\n",
    "\tif -math.log10(float(meta.loc[meta[\"GENE\"] == gene][\"Pval\"])) > 10:\n",
    "\t\tprint(gene)\n",
    "\t#print(meta.loc[meta[\"GENE\"] == gene],gene_bass.loc[gene_bass[\"Gene Name\"] == gene])\n",
    "\tax.scatter(-math.log10(float(meta.loc[meta[\"GENE\"] == gene][\"Pval\"])),\n",
    "\t\t       -math.log10(float(gene_bass.loc[gene_bass[\"Gene Name\"] == gene][\"P‑Value SKATO\"])), color=\"red\")\n",
    "\t#print(gene,p,assocs_meta[assocs_meta[\"GENE\"] == gene][\"Pval\"], assocs_afr[assocs_afr[\"Region\"] == gene][\"Pvalue_SKAT\"],assocs_sas[assocs_sas[\"Region\"] == gene][\"Pvalue_SKAT\"])\n",
    "\t#ax.scatter(-math.log(p), -math.log(float(assocs_meta.loc[assocs_meta[\"GENE\"] == gene][\"Pval\"])), color=\"blue\",s=10)\n",
    "\t#ax.scatter(-math.log(p), -math.log(float(assocs_afr.loc[assocs_afr[\"Region\"] == gene][\"Pvalue\"])), color=\"red\",s=10)\n",
    "\t#ax.scatter(-math.log(p), assocs_meta.loc[assocs_sas[\"Region\"] == gene][\"Pvalue_SKAT\"], label=\"SAS\",s=10)\n",
    "\n",
    "ax.set_xlabel(\"Meta-analysis Pvalue\")\n",
    "ax.set_ylabel(\"Genebass SKAT-O Pvalue\")\n",
    "ax.axline((0, 0), slope=1)\n",
    "ax.set_aspect('equal', adjustable='box')\n",
    "\n",
    "ax.legend()\n",
    "\n",
    "plt.show()"
   ]
  },
  {
   "cell_type": "code",
   "execution_count": 16,
   "id": "b6da79c3",
   "metadata": {},
   "outputs": [
    {
     "data": {
      "text/html": [
       "<div>\n",
       "<style scoped>\n",
       "    .dataframe tbody tr th:only-of-type {\n",
       "        vertical-align: middle;\n",
       "    }\n",
       "\n",
       "    .dataframe tbody tr th {\n",
       "        vertical-align: top;\n",
       "    }\n",
       "\n",
       "    .dataframe thead th {\n",
       "        text-align: right;\n",
       "    }\n",
       "</style>\n",
       "<table border=\"1\" class=\"dataframe\">\n",
       "  <thead>\n",
       "    <tr style=\"text-align: right;\">\n",
       "      <th></th>\n",
       "      <th>Gene Name</th>\n",
       "      <th>Gene Id</th>\n",
       "      <th>P‑Value SKATO</th>\n",
       "      <th>P‑Value Burden</th>\n",
       "      <th>P‑Value SKAT</th>\n",
       "      <th>BETA Burden</th>\n",
       "      <th>Burden Set</th>\n",
       "      <th>Chrom : Position</th>\n",
       "      <th>Chrom</th>\n",
       "      <th>Position</th>\n",
       "      <th>Details</th>\n",
       "    </tr>\n",
       "  </thead>\n",
       "  <tbody>\n",
       "    <tr>\n",
       "      <th>7338</th>\n",
       "      <td>GCK</td>\n",
       "      <td>ENSG00000106633</td>\n",
       "      <td>0.402846</td>\n",
       "      <td>0.488677</td>\n",
       "      <td>0.279626</td>\n",
       "      <td>-0.001607</td>\n",
       "      <td>synonymous</td>\n",
       "      <td>7.044139e+09</td>\n",
       "      <td>7</td>\n",
       "      <td>44139451.0</td>\n",
       "      <td>NaN</td>\n",
       "    </tr>\n",
       "  </tbody>\n",
       "</table>\n",
       "</div>"
      ],
      "text/plain": [
       "     Gene Name          Gene Id  P‑Value SKATO  P‑Value Burden  P‑Value SKAT  \\\n",
       "7338       GCK  ENSG00000106633       0.402846        0.488677      0.279626   \n",
       "\n",
       "      BETA Burden  Burden Set  Chrom : Position Chrom    Position  Details  \n",
       "7338    -0.001607  synonymous      7.044139e+09     7  44139451.0      NaN  "
      ]
     },
     "execution_count": 16,
     "metadata": {},
     "output_type": "execute_result"
    }
   ],
   "source": [
    "gene_bass.loc[gene_bass[\"Gene Name\"] == \"GCK\"]"
   ]
  },
  {
   "cell_type": "code",
   "execution_count": 33,
   "id": "857b3838",
   "metadata": {},
   "outputs": [
    {
     "name": "stderr",
     "output_type": "stream",
     "text": [
      "100%|██████████████████████████████████| 36926/36926 [00:00<00:00, 40290.51it/s]\n"
     ]
    }
   ],
   "source": [
    "# Calculate proportion of GWAS_summary 'in' gene file\n",
    "\n",
    "import tqdm\n",
    "\n",
    "gwas = pd.read_csv(\"07_10_data/saige/EUR_associations.txt\", sep='\\t')\n",
    "gene_file = open('07_10_data/combined_UKB_exome_annos.txt', 'r')\n",
    "genes = gene_file.readlines()\n",
    "  \n",
    "count = 0\n",
    "\n",
    "all_gene_variants = []\n",
    "\n",
    "for gene in tqdm.tqdm(genes):\n",
    "    if count % 2 == 0:\n",
    "        all_gene_variants.extend(gene.split(\" \")[2:])\n",
    "    count+=1"
   ]
  },
  {
   "cell_type": "code",
   "execution_count": 39,
   "id": "bade20cd",
   "metadata": {},
   "outputs": [
    {
     "name": "stderr",
     "output_type": "stream",
     "text": [
      "100%|██████████████████████████| 10906409/10906409 [00:05<00:00, 2027175.70it/s]\n"
     ]
    }
   ],
   "source": [
    "tmp = []\n",
    "\n",
    "for variant in tqdm.tqdm(all_gene_variants):\n",
    "    if variant[0:2] == \"20\":\n",
    "        tmp.append(variant)\n",
    "all_gene_variants = tmp"
   ]
  },
  {
   "cell_type": "code",
   "execution_count": 43,
   "id": "7fb4263d",
   "metadata": {},
   "outputs": [
    {
     "name": "stderr",
     "output_type": "stream",
     "text": [
      "100%|████████████████████████████████████| 44077/44077 [01:42<00:00, 430.20it/s]"
     ]
    },
    {
     "name": "stdout",
     "output_type": "stream",
     "text": [
      "24992 44077\n"
     ]
    },
    {
     "name": "stderr",
     "output_type": "stream",
     "text": [
      "\n"
     ]
    }
   ],
   "source": [
    "found = 0\n",
    "for var in tqdm.tqdm(gwas[\"MarkerID\"]):\n",
    "    if var[3:] in all_gene_variants:\n",
    "        found += 1\n",
    "        \n",
    "print(found, len(gwas[\"MarkerID\"]))"
   ]
  },
  {
   "cell_type": "code",
   "execution_count": 105,
   "id": "5ce324ac",
   "metadata": {
    "scrolled": true
   },
   "outputs": [
    {
     "name": "stdout",
     "output_type": "stream",
     "text": [
      "       CHR      GENE      Pval  Pval_0.00  Pval_0.01  Pval_0.04  Pval_0.09  \\\n",
      "0    chr20   DEFB126  0.207908   0.133448   0.136275   0.145190   0.161384   \n",
      "1    chr20   DEFB127  0.441428   0.309563   0.309829   0.310395   0.310407   \n",
      "2    chr20   DEFB128  0.093801   0.212902   0.207165   0.190838   0.166555   \n",
      "3    chr20   DEFB129  0.682723   0.557074   0.558559   0.562235   0.566140   \n",
      "4    chr20   DEFB132  0.556246   0.387306   0.392883   0.409374   0.435854   \n",
      "..     ...       ...       ...        ...        ...        ...        ...   \n",
      "133  chr21    MCM3AP  0.368016   1.000000   1.000000   1.000000   1.000000   \n",
      "134  chr21  C21orf58  0.632357   0.416810   0.409640   0.446003   0.495087   \n",
      "135  chr21      PCNT  0.140969   1.000000   1.000000   1.000000   1.000000   \n",
      "136  chr21     DIP2A  0.682618   0.613982   0.599565   0.745782   0.637009   \n",
      "137  chr21     PRMT2  0.923539   1.000000   1.000000   1.000000   1.000000   \n",
      "\n",
      "     Pval_0.025  Pval_0.50  Pval_1.00  \n",
      "0      0.221497   0.326765   0.541005  \n",
      "1      0.303523   0.292743   0.299442  \n",
      "2      0.111897   0.074598   0.056678  \n",
      "3      0.567272   0.556066   0.532040  \n",
      "4      0.512375   0.613756   0.752322  \n",
      "..          ...        ...        ...  \n",
      "133    1.000000   0.986973   0.082762  \n",
      "134    0.595340   0.716923   0.837201  \n",
      "135    1.000000   0.558062   0.169698  \n",
      "136    1.000000   1.000000   1.000000  \n",
      "137    1.000000   1.000000   0.754433  \n",
      "\n",
      "[511 rows x 10 columns]\n",
      "        Gene Name          Gene Id  P‑Value SKATO  P‑Value Burden  \\\n",
      "0           RPS3A  ENSG00000145425       0.000006        0.000003   \n",
      "1         DEFB115  ENSG00000215547       0.000013        0.000013   \n",
      "2        C19orf84  ENSG00000262874       0.000051        0.004356   \n",
      "3           ZFP37  ENSG00000136866       0.000069        0.000060   \n",
      "4         ZNF280C  ENSG00000056277       0.000077        0.000139   \n",
      "...           ...              ...            ...             ...   \n",
      "19367  AC011455.2  ENSG00000269547            NaN             NaN   \n",
      "19368     GPIHBP1  ENSG00000277494            NaN             NaN   \n",
      "19369    C11orf98  ENSG00000278615            NaN             NaN   \n",
      "19370  AC068547.1  ENSG00000283228            NaN             NaN   \n",
      "19371  AC018362.3  ENSG00000285942            NaN             NaN   \n",
      "\n",
      "       P‑Value SKAT  BETA Burden  Burden Set  Chrom : Position Chrom  \\\n",
      "0          0.001866     0.035507  synonymous      4.151100e+09     4   \n",
      "1          0.000341     0.029998  synonymous      2.003126e+10    20   \n",
      "2          0.000033     0.028248  synonymous      1.905139e+10    19   \n",
      "3          0.002330     0.022138  synonymous      9.113043e+09     9   \n",
      "4          0.000101     0.010536  synonymous      2.313020e+10     X   \n",
      "...             ...          ...         ...               ...   ...   \n",
      "19367           NaN          NaN  synonymous               NaN   NaN   \n",
      "19368           NaN          NaN  synonymous               NaN   NaN   \n",
      "19369           NaN          NaN  synonymous               NaN   NaN   \n",
      "19370           NaN          NaN  synonymous               NaN   NaN   \n",
      "19371           NaN          NaN  synonymous               NaN   NaN   \n",
      "\n",
      "          Position  Details  \n",
      "0      151099582.0      NaN  \n",
      "1       31257607.0      NaN  \n",
      "2       51387118.0      NaN  \n",
      "3      113042706.0      NaN  \n",
      "4      130204915.0      NaN  \n",
      "...            ...      ...  \n",
      "19367          NaN      NaN  \n",
      "19368          NaN      NaN  \n",
      "19369          NaN      NaN  \n",
      "19370          NaN      NaN  \n",
      "19371          NaN      NaN  \n",
      "\n",
      "[19372 rows x 11 columns]\n",
      "511\n",
      "511\n"
     ]
    },
    {
     "name": "stderr",
     "output_type": "stream",
     "text": [
      "No artists with labels found to put in legend.  Note that artists whose label start with an underscore are ignored when legend() is called with no argument.\n"
     ]
    },
    {
     "data": {
      "image/png": "[encoded data removed]",
      "text/plain": [
       "<Figure size 432x288 with 1 Axes>"
      ]
     },
     "metadata": {
      "needs_background": "light"
     },
     "output_type": "display_data"
    }
   ],
   "source": [
    "import sys\n",
    "import pandas as pd\n",
    "import matplotlib.pyplot as plt\n",
    "import math\n",
    "import numpy as np\n",
    "\n",
    "chr20 = pd.read_csv(\"07_10_data/associations_output_chr20.txt\", sep=' ')\n",
    "chr21 = pd.read_csv(\"07_10_data/associations_output_chr21.txt\", sep=' ')\n",
    "\n",
    "meta = pd.concat([chr20, chr21])\n",
    "#meta = pd.read_csv(\"~/brava/Rare_Variant_Meta/test_output/t2d_chr7_0.01_missense_lof_res.txt\", sep=' ')\n",
    "\n",
    "chr20 = pd.read_csv(\"07_10_data/saige/gene_associations/chr20.txt\", sep='\\t')\n",
    "chr21 = pd.read_csv(\"07_10_data/saige/gene_associations/chr21.txt\", sep='\\t')\n",
    "gene_associations = pd.concat([chr20, chr21])\n",
    "\n",
    "\n",
    "print(meta)\n",
    "\n",
    "print(gene_bass)\n",
    "\n",
    "gene_list = list(set(gene_associations[\"Region\"]) & set(meta[\"GENE\"]))\n",
    "\n",
    "print(len(gene_list))\n",
    "\n",
    "#assocs_afr = assocs_afr.loc[assocs_afr[\"Region\"].isin(gene_list)] \n",
    "#assocs_sas = assocs_sas.loc[assocs_sas[\"Region\"].isin(gene_list)]\n",
    "\n",
    "fig, ax = plt.subplots()\n",
    "\n",
    "print(len(meta))\n",
    "\n",
    "for gene in gene_list:\n",
    "\tif -math.log10(float(meta.loc[meta[\"GENE\"] == gene][\"Pval\"])) > 10:\n",
    "\t\tprint(gene)\n",
    "\t#print(meta.loc[meta[\"GENE\"] == gene],gene_bass.loc[gene_bass[\"Gene Name\"] == gene])\n",
    "\tax.scatter(-math.log10(float(meta.loc[meta[\"GENE\"] == gene][\"Pval\"])),\n",
    "\t\t       -math.log10(float(gene_associations.loc[(gene_associations[\"Region\"] == gene) & (gene_associations[\"Group\"]==\"missense;lof\") & (gene_associations[\"max_MAF\"]==0.0001)][\"Pvalue\"])), color=\"red\")\n",
    "\t#print(gene,p,assocs_meta[assocs_meta[\"GENE\"] == gene][\"Pval\"], assocs_afr[assocs_afr[\"Region\"] == gene][\"Pvalue_SKAT\"],assocs_sas[assocs_sas[\"Region\"] == gene][\"Pvalue_SKAT\"])\n",
    "\t#ax.scatter(-math.log(p), -math.log(float(assocs_meta.loc[assocs_meta[\"GENE\"] == gene][\"Pval\"])), color=\"blue\",s=10)\n",
    "\t#ax.scatter(-math.log(p), -math.log(float(assocs_afr.loc[assocs_afr[\"Region\"] == gene][\"Pvalue\"])), color=\"red\",s=10)\n",
    "\t#ax.scatter(-math.log(p), assocs_meta.loc[assocs_sas[\"Region\"] == gene][\"Pvalue_SKAT\"], label=\"SAS\",s=10)\n",
    "\n",
    "ax.set_xlabel(\"Meta-analysis Pvalue\")\n",
    "ax.set_ylabel(\"SAIGE-GENE (missense;lof;synonymous) Pval's\")\n",
    "ax.axline((0, 0), slope=1)\n",
    "ax.set_aspect('equal', adjustable='box')\n",
    "\n",
    "ax.legend()\n",
    "\n",
    "plt.show()"
   ]
  },
  {
   "cell_type": "code",
   "execution_count": 70,
   "id": "dec28659",
   "metadata": {},
   "outputs": [
    {
     "data": {
      "text/html": [
       "<div>\n",
       "<style scoped>\n",
       "    .dataframe tbody tr th:only-of-type {\n",
       "        vertical-align: middle;\n",
       "    }\n",
       "\n",
       "    .dataframe tbody tr th {\n",
       "        vertical-align: top;\n",
       "    }\n",
       "\n",
       "    .dataframe thead th {\n",
       "        text-align: right;\n",
       "    }\n",
       "</style>\n",
       "<table border=\"1\" class=\"dataframe\">\n",
       "  <thead>\n",
       "    <tr style=\"text-align: right;\">\n",
       "      <th></th>\n",
       "      <th>Region</th>\n",
       "      <th>Group</th>\n",
       "      <th>max_MAF</th>\n",
       "      <th>Pvalue</th>\n",
       "      <th>Pvalue_Burden</th>\n",
       "      <th>Pvalue_SKAT</th>\n",
       "      <th>BETA_Burden</th>\n",
       "      <th>SE_Burden</th>\n",
       "      <th>MAC</th>\n",
       "      <th>MAC_case</th>\n",
       "      <th>MAC_control</th>\n",
       "      <th>Number_rare</th>\n",
       "      <th>Number_ultra_rare</th>\n",
       "    </tr>\n",
       "  </thead>\n",
       "  <tbody>\n",
       "    <tr>\n",
       "      <th>7</th>\n",
       "      <td>DEFB125</td>\n",
       "      <td>missense;lof;synonymous</td>\n",
       "      <td>0.001</td>\n",
       "      <td>0.725789</td>\n",
       "      <td>0.508798</td>\n",
       "      <td>0.704198</td>\n",
       "      <td>0.003204</td>\n",
       "      <td>0.00485</td>\n",
       "      <td>1037.0</td>\n",
       "      <td>82.0</td>\n",
       "      <td>955.0</td>\n",
       "      <td>16.0</td>\n",
       "      <td>0.0</td>\n",
       "    </tr>\n",
       "  </tbody>\n",
       "</table>\n",
       "</div>"
      ],
      "text/plain": [
       "    Region                    Group  max_MAF    Pvalue  Pvalue_Burden  \\\n",
       "7  DEFB125  missense;lof;synonymous    0.001  0.725789       0.508798   \n",
       "\n",
       "   Pvalue_SKAT  BETA_Burden  SE_Burden     MAC  MAC_case  MAC_control  \\\n",
       "7     0.704198     0.003204    0.00485  1037.0      82.0        955.0   \n",
       "\n",
       "   Number_rare  Number_ultra_rare  \n",
       "7         16.0                0.0  "
      ]
     },
     "execution_count": 70,
     "metadata": {},
     "output_type": "execute_result"
    }
   ],
   "source": []
  },
  {
   "cell_type": "code",
   "execution_count": 132,
   "id": "d1202777",
   "metadata": {},
   "outputs": [
    {
     "name": "stdout",
     "output_type": "stream",
     "text": [
      "        Gene Name          Gene Id  P‑Value SKATO  P‑Value Burden  \\\n",
      "0             GCK  ENSG00000106633   7.566589e-13    5.607485e-13   \n",
      "1            ANKH  ENSG00000154122   1.122092e-10    5.389459e-05   \n",
      "2         MAP3K15  ENSG00000180815   1.957281e-05    1.544252e-05   \n",
      "3          ZNF771  ENSG00000179965   6.850809e-05    1.418554e-04   \n",
      "4          ANTKMT  ENSG00000103254   9.821107e-05    8.182425e-03   \n",
      "...           ...              ...            ...             ...   \n",
      "19398  AC011455.2  ENSG00000269547            NaN             NaN   \n",
      "19399     GPIHBP1  ENSG00000277494            NaN             NaN   \n",
      "19400    C11orf98  ENSG00000278615            NaN             NaN   \n",
      "19401  AC068547.1  ENSG00000283228            NaN             NaN   \n",
      "19402  AC018362.3  ENSG00000285942            NaN             NaN   \n",
      "\n",
      "       P‑Value SKAT  BETA Burden   Burden Set  Chrom : Position Chrom  \\\n",
      "0      8.440242e-06     0.046521  missense|LC      7.044139e+09     7   \n",
      "1      1.602988e-11    -0.008101  missense|LC      5.014711e+09     5   \n",
      "2      4.762145e-04    -0.004243  missense|LC      2.301936e+10     X   \n",
      "3      7.150907e-05     0.009750  missense|LC      1.603041e+10    16   \n",
      "4      7.028536e-05     0.013038  missense|LC      1.600072e+10    16   \n",
      "...             ...          ...          ...               ...   ...   \n",
      "19398           NaN          NaN  missense|LC               NaN   NaN   \n",
      "19399           NaN          NaN  missense|LC               NaN   NaN   \n",
      "19400           NaN          NaN  missense|LC               NaN   NaN   \n",
      "19401           NaN          NaN  missense|LC               NaN   NaN   \n",
      "19402           NaN          NaN  missense|LC               NaN   NaN   \n",
      "\n",
      "         Position  Details  \n",
      "0      44139451.0      NaN  \n",
      "1      14711150.0      NaN  \n",
      "2      19355683.0      NaN  \n",
      "3      30408021.0      NaN  \n",
      "4        716147.0      NaN  \n",
      "...           ...      ...  \n",
      "19398         NaN      NaN  \n",
      "19399         NaN      NaN  \n",
      "19400         NaN      NaN  \n",
      "19401         NaN      NaN  \n",
      "19402         NaN      NaN  \n",
      "\n",
      "[19403 rows x 11 columns]\n",
      "684\n",
      "511\n"
     ]
    },
    {
     "name": "stderr",
     "output_type": "stream",
     "text": [
      "No artists with labels found to put in legend.  Note that artists whose label start with an underscore are ignored when legend() is called with no argument.\n"
     ]
    },
    {
     "name": "stdout",
     "output_type": "stream",
     "text": [
      "(0.18019693379956192, 2.2169586421385016e-06)\n"
     ]
    },
    {
     "data": {
      "image/png": "[encoded data removed]",
      "text/plain": [
       "<Figure size 432x288 with 1 Axes>"
      ]
     },
     "metadata": {
      "needs_background": "light"
     },
     "output_type": "display_data"
    }
   ],
   "source": [
    "# Comparing genebass vs saige gene\n",
    "\n",
    "import sys\n",
    "import pandas as pd\n",
    "import matplotlib.pyplot as plt\n",
    "import math\n",
    "import numpy as np\n",
    "from scipy.stats.stats import pearsonr   \n",
    "\n",
    "#chr20 = pd.read_csv(\"07_10_data/associations_output_chr20.txt\", sep=' ')\n",
    "#chr21 = pd.read_csv(\"07_10_data/associations_output_chr21.txt\", sep=' ')\n",
    "gene_bass = pd.read_csv(\"T2D_EUR_genebass_missense.csv\", sep=\",\")\n",
    "\n",
    "#meta = pd.concat([chr20, chr21])\n",
    "#meta = pd.read_csv(\"~/brava/Rare_Variant_Meta/test_output/t2d_chr7_0.01_missense_lof_res.txt\", sep=' ')\n",
    "\n",
    "chr20 = pd.read_csv(\"07_10_data/saige/gene_associations/chr20.txt\", sep='\\t')\n",
    "chr21 = pd.read_csv(\"07_10_data/saige/gene_associations/chr21.txt\", sep='\\t')\n",
    "gene_associations = pd.concat([chr20, chr21])\n",
    "\n",
    "print(gene_bass)\n",
    "\n",
    "gene_list = list(set(gene_bass[\"Gene Name\"]) & set(gene_associations[\"Region\"]))\n",
    "\n",
    "print(len(gene_list))\n",
    "\n",
    "#assocs_afr = assocs_afr.loc[assocs_afr[\"Region\"].isin(gene_list)] \n",
    "#assocs_sas = assocs_sas.loc[assocs_sas[\"Region\"].isin(gene_list)]\n",
    "\n",
    "fig, ax = plt.subplots()\n",
    "\n",
    "print(len(meta))\n",
    "\n",
    "a = []\n",
    "b = []\n",
    "\n",
    "for gene in gene_list:\n",
    "    try:\n",
    "        ax.scatter(-math.log10(float(gene_bass.loc[gene_bass[\"Gene Name\"] == gene][\"P‑Value SKAT\"])),\n",
    "                 -math.log10(float(gene_associations.loc[(gene_associations[\"Region\"] == gene) & (gene_associations[\"Group\"]==\"missense;lof\") & (gene_associations[\"max_MAF\"]==0.01)][\"Pvalue\"])), color=\"red\")\n",
    "        a.append(float(gene_bass.loc[gene_bass[\"Gene Name\"] == gene][\"P‑Value SKAT\"]))\n",
    "        b.append(float(gene_associations.loc[(gene_associations[\"Region\"] == gene) & (gene_associations[\"Group\"]==\"missense;lof\") & (gene_associations[\"max_MAF\"]==0.01)][\"Pvalue\"]))\n",
    "    except:pass\n",
    "    \n",
    "ax.set_ylabel(\"SAIGE gene associations\")\n",
    "ax.set_xlabel(\"Genebass SKAT-O Pvalue\")\n",
    "ax.axline((0, 0), slope=1)\n",
    "ax.set_aspect('equal', adjustable='box')\n",
    "\n",
    "ax.legend()\n",
    "\n",
    "print(pearsonr(a,b))\n",
    "\n",
    "plt.show()"
   ]
  },
  {
   "cell_type": "code",
   "execution_count": 131,
   "id": "89356571",
   "metadata": {},
   "outputs": [
    {
     "name": "stdout",
     "output_type": "stream",
     "text": [
      "511\n",
      "511\n"
     ]
    },
    {
     "name": "stderr",
     "output_type": "stream",
     "text": [
      "No artists with labels found to put in legend.  Note that artists whose label start with an underscore are ignored when legend() is called with no argument.\n"
     ]
    },
    {
     "data": {
      "image/png": "[encoded data removed]",
      "text/plain": [
       "<Figure size 432x288 with 1 Axes>"
      ]
     },
     "metadata": {
      "needs_background": "light"
     },
     "output_type": "display_data"
    }
   ],
   "source": [
    "# Comparing SAIGE gene vs meta analysis\n",
    "\n",
    "import sys\n",
    "import pandas as pd\n",
    "import matplotlib.pyplot as plt\n",
    "import math\n",
    "import numpy as np\n",
    "\n",
    "chr20 = pd.read_csv(\"07_10_data/associations_output_chr20.txt\", sep=' ')\n",
    "chr21 = pd.read_csv(\"07_10_data/associations_output_chr21.txt\", sep=' ')\n",
    "\n",
    "meta = pd.concat([chr20, chr21])\n",
    "\n",
    "chr20 = pd.read_csv(\"07_10_data/saige/gene_associations/chr20.txt\", sep='\\t')\n",
    "chr21 = pd.read_csv(\"07_10_data/saige/gene_associations/chr21.txt\", sep='\\t')\n",
    "gene_associations = pd.concat([chr20, chr21])\n",
    "\n",
    "gene_list = list(set(meta[\"GENE\"]) & set(gene_associations[\"Region\"]))\n",
    "\n",
    "print(len(gene_list))\n",
    "\n",
    "#assocs_afr = assocs_afr.loc[assocs_afr[\"Region\"].isin(gene_list)] \n",
    "#assocs_sas = assocs_sas.loc[assocs_sas[\"Region\"].isin(gene_list)]\n",
    "\n",
    "fig, ax = plt.subplots()\n",
    "\n",
    "print(len(meta))\n",
    "\n",
    "for gene in gene_list:\n",
    "    ax.scatter(-math.log10(float(meta.loc[meta[\"GENE\"] == gene][\"Pval\"])),\n",
    "               -math.log10(float(gene_associations.loc[(gene_associations[\"Region\"] == gene) & (gene_associations[\"Group\"]==\"missense;lof;synonymous\") & (gene_associations[\"max_MAF\"]==0.0001)][\"Pvalue\"])), color=\"red\")\n",
    "\n",
    "ax.set_ylabel(\"SAIGE gene associations\")\n",
    "ax.set_xlabel(\"Meta analysis\")\n",
    "ax.axline((0, 0), slope=1)\n",
    "ax.set_aspect('equal', adjustable='box')\n",
    "\n",
    "ax.legend()\n",
    "\n",
    "plt.show()"
   ]
  },
  {
   "cell_type": "code",
   "execution_count": 128,
   "id": "b1a85503",
   "metadata": {},
   "outputs": [
    {
     "name": "stdout",
     "output_type": "stream",
     "text": [
      "     Region                    Group  max_MAF    Pvalue  Pvalue_Burden  \\\n",
      "100   TRIB3  missense;lof;synonymous   0.0001  0.585028       0.370824   \n",
      "101   TRIB3  missense;lof;synonymous   0.0010  0.805298       0.857799   \n",
      "102   TRIB3  missense;lof;synonymous   0.0100  0.438263       0.409433   \n",
      "103   TRIB3                   Cauchy      NaN  0.650423       0.572963   \n",
      "104   RBCK1             missense;lof   0.0001  0.133027       0.071525   \n",
      "...     ...                      ...      ...       ...            ...   \n",
      "1725  PRMT2             missense;lof   0.0100  0.867712       0.713380   \n",
      "1726  PRMT2  missense;lof;synonymous   0.0001  0.770938       0.924275   \n",
      "1727  PRMT2  missense;lof;synonymous   0.0010  0.817967       0.653412   \n",
      "1728  PRMT2  missense;lof;synonymous   0.0100  0.846544       0.645650   \n",
      "1729  PRMT2                   Cauchy      NaN  1.000000       0.851696   \n",
      "\n",
      "      Pvalue_SKAT  BETA_Burden  SE_Burden      MAC  MAC_case  MAC_control  \\\n",
      "100      0.970634    -0.003523   0.003937   1601.0     106.0       1495.0   \n",
      "101      0.583229    -0.000378   0.002108   5616.0     403.0       5213.0   \n",
      "102      0.280044     0.000978   0.001186  23902.0    1770.0      22132.0   \n",
      "103      0.873584          NaN        NaN      NaN       NaN          NaN   \n",
      "104      0.683578    -0.009347   0.005187    883.0      53.0        830.0   \n",
      "...           ...          ...        ...      ...       ...          ...   \n",
      "1725     0.951933     0.000744   0.002026   6785.0     495.0       6290.0   \n",
      "1726     0.542067    -0.000433   0.004560   1205.0      85.0       1120.0   \n",
      "1727     0.598503     0.001093   0.002433   4258.0     312.0       3946.0   \n",
      "1728     0.879934     0.000721   0.001567  10943.0     794.0      10149.0   \n",
      "1729     0.817898          NaN        NaN      NaN       NaN          NaN   \n",
      "\n",
      "      Number_rare  Number_ultra_rare  \n",
      "100          45.0                0.0  \n",
      "101          59.0                0.0  \n",
      "102          64.0                0.0  \n",
      "103           NaN                NaN  \n",
      "104          26.0                0.0  \n",
      "...           ...                ...  \n",
      "1725         28.0                0.0  \n",
      "1726         34.0                0.0  \n",
      "1727         48.0                0.0  \n",
      "1728         52.0                0.0  \n",
      "1729          NaN                NaN  \n",
      "\n",
      "[6278 rows x 13 columns]\n"
     ]
    }
   ],
   "source": [
    "print(gene_associations[100:])"
   ]
  },
  {
   "cell_type": "code",
   "execution_count": 4,
   "id": "54b87b32",
   "metadata": {},
   "outputs": [
    {
     "name": "stderr",
     "output_type": "stream",
     "text": [
      "100%|██████████████████████████████████| 36926/36926 [00:03<00:00, 10203.42it/s]\n"
     ]
    }
   ],
   "source": [
    "import tqdm\n",
    "import pandas as pd\n",
    "\n",
    "gene_file = open('07_10_data/combined_UKB_exome_annos.txt', 'r')\n",
    "genes = gene_file.readlines()\n",
    "  \n",
    "count = 0\n",
    "\n",
    "all_gene_variants = []\n",
    "plof_vars = []\n",
    "\n",
    "new_annos_full = \"\"\n",
    "new_annos = \"\"\n",
    "for gene in tqdm.tqdm(genes):\n",
    "    if count % 2 == 1:\n",
    "\n",
    "        new_annos = \"\"\n",
    "        new_annos += gene.split(\" \")[0]\n",
    "        new_annos += \" \"\n",
    "        new_annos += \"var\"\n",
    "        \n",
    "        n = 0\n",
    "        \n",
    "        for anno, var in zip(gene.split(\" \")[2:], all_gene_variants):\n",
    "            if anno == \"lof\":\n",
    "                n += 1\n",
    "                new_annos += \" \"\n",
    "                new_annos += var\n",
    "        if n == 0: continue\n",
    "        new_annos += \"\\n\"\n",
    "        new_annos += gene.split(\" \")[0]\n",
    "        new_annos += \" anno\"\n",
    "        new_annos += \" lof\" * n\n",
    "        new_annos += \"\\n\"\n",
    "        \n",
    "        new_annos_full += new_annos\n",
    "        \n",
    "    if count % 2 == 0:\n",
    "        all_gene_variants = gene.split(\" \")[2:]\n",
    "    count+=1"
   ]
  },
  {
   "cell_type": "code",
   "execution_count": 140,
   "id": "17b885b9",
   "metadata": {},
   "outputs": [],
   "source": [
    "with open('lof.txt', 'w') as f:\n",
    "    for line in plof_vars:\n",
    "        f.write(f\"{line}\\n\")"
   ]
  },
  {
   "cell_type": "code",
   "execution_count": 5,
   "id": "b08bc368",
   "metadata": {},
   "outputs": [],
   "source": [
    "with open('lof_annos.txt', 'w') as f:\n",
    "    f.write(new_annos_full)"
   ]
  },
  {
   "cell_type": "code",
   "execution_count": 1,
   "id": "109d4237",
   "metadata": {},
   "outputs": [
    {
     "name": "stderr",
     "output_type": "stream",
     "text": [
      "100%|██████████████████████████████████| 36926/36926 [00:02<00:00, 14051.06it/s]\n"
     ]
    }
   ],
   "source": [
    "import tqdm\n",
    "import pandas as pd\n",
    "\n",
    "gene_file = open('07_10_data/combined_UKB_exome_annos.txt', 'r')\n",
    "genes = gene_file.readlines()\n",
    "  \n",
    "count = 0\n",
    "\n",
    "all_gene_variants = []\n",
    "synonymous_vars = []\n",
    "\n",
    "for gene in tqdm.tqdm(genes):\n",
    "    if count % 2 == 1:\n",
    "        for anno, var in zip(gene.split(\" \")[2:], all_gene_variants):\n",
    "            if anno == \"synonymous\":\n",
    "                synonymous_vars.append(\"chr\" + var)\n",
    "\n",
    "    if count % 2 == 0:\n",
    "        all_gene_variants = gene.split(\" \")[2:]\n",
    "    \n",
    "    count+=1"
   ]
  },
  {
   "cell_type": "code",
   "execution_count": 7,
   "id": "58a4ade9",
   "metadata": {},
   "outputs": [
    {
     "data": {
      "text/plain": [
       "['10:47064:ACCTCCTCCTCGGCATACTCCTCATCCT:A',\n",
       " '10:47065:CCTCCTCCTCGGCATA:C',\n",
       " '10:47080:ACTC:A',\n",
       " '10:47085:T:TC',\n",
       " '10:47087:A:ATCC',\n",
       " '10:47087:ATCC:A',\n",
       " '10:47116:G:A',\n",
       " '10:47122:G:A',\n",
       " '10:47190:T:TC',\n",
       " '10:47202:C:CA']"
      ]
     },
     "execution_count": 7,
     "metadata": {},
     "output_type": "execute_result"
    }
   ],
   "source": [
    "plof_vars[0:10]"
   ]
  },
  {
   "cell_type": "code",
   "execution_count": 2,
   "id": "cb4f1f14",
   "metadata": {},
   "outputs": [],
   "source": [
    "with open('synonymous.txt', 'w') as f:\n",
    "    for line in synonymous_vars:\n",
    "        f.write(f\"{line}\\n\")"
   ]
  },
  {
   "cell_type": "code",
   "execution_count": 8,
   "id": "c6b46ef3",
   "metadata": {
    "scrolled": true
   },
   "outputs": [
    {
     "name": "stderr",
     "output_type": "stream",
     "text": [
      "/var/folders/ks/4xyv63yj03zgqh2vxrfmg6hrb4lqvc/T/ipykernel_20399/1034958258.py:8: DeprecationWarning: Please use `pearsonr` from the `scipy.stats` namespace, the `scipy.stats.stats` namespace is deprecated.\n",
      "  from scipy.stats.stats import pearsonr\n"
     ]
    },
    {
     "name": "stdout",
     "output_type": "stream",
     "text": [
      "643\n"
     ]
    },
    {
     "name": "stderr",
     "output_type": "stream",
     "text": [
      "No artists with labels found to put in legend.  Note that artists whose label start with an underscore are ignored when legend() is called with no argument.\n"
     ]
    },
    {
     "data": {
      "image/png": "[encoded data removed]",
      "text/plain": [
       "<Figure size 640x480 with 1 Axes>"
      ]
     },
     "metadata": {},
     "output_type": "display_data"
    },
    {
     "name": "stdout",
     "output_type": "stream",
     "text": [
      "pearson: PearsonRResult(statistic=0.24503403931127143, pvalue=6.680572897309264e-10)\n",
      "287\n"
     ]
    },
    {
     "name": "stderr",
     "output_type": "stream",
     "text": [
      "No artists with labels found to put in legend.  Note that artists whose label start with an underscore are ignored when legend() is called with no argument.\n"
     ]
    },
    {
     "data": {
      "image/png": "[encoded data removed]",
      "text/plain": [
       "<Figure size 640x480 with 1 Axes>"
      ]
     },
     "metadata": {},
     "output_type": "display_data"
    },
    {
     "name": "stdout",
     "output_type": "stream",
     "text": [
      "pearson: PearsonRResult(statistic=0.24428719383147934, pvalue=3.3677155844641184e-05)\n",
      "300\n"
     ]
    },
    {
     "name": "stderr",
     "output_type": "stream",
     "text": [
      "No artists with labels found to put in legend.  Note that artists whose label start with an underscore are ignored when legend() is called with no argument.\n"
     ]
    },
    {
     "data": {
      "image/png": "[encoded data removed]",
      "text/plain": [
       "<Figure size 640x480 with 1 Axes>"
      ]
     },
     "metadata": {},
     "output_type": "display_data"
    },
    {
     "name": "stdout",
     "output_type": "stream",
     "text": [
      "pearson: PearsonRResult(statistic=0.7904885616346519, pvalue=2.0817152360946734e-65)\n"
     ]
    }
   ],
   "source": [
    "# Analysis of SAIGE, META results with lof-annotations\n",
    "import sys\n",
    "import pandas as pd\n",
    "import matplotlib.pyplot as plt\n",
    "import math\n",
    "import numpy as np\n",
    "import tqdm\n",
    "from scipy.stats.stats import pearsonr   \n",
    "\n",
    "gene_bass = pd.read_csv(\"14_11_data/genebass/pLoF.csv\", sep=\",\")\n",
    "\n",
    "## SAIGE-gene vs genebass\n",
    "\n",
    "chr20 = pd.read_csv(\"14_11_data/saige-gene/chr20.txt\", sep='\\t')\n",
    "chr21 = pd.read_csv(\"14_11_data/saige-gene/chr21.txt\", sep='\\t')\n",
    "\n",
    "gene_associations = pd.concat([chr20, chr21])\n",
    "\n",
    "gene_list = list(set(gene_bass[\"Gene Name\"]) & set(gene_associations[\"Region\"]))\n",
    "\n",
    "print(len(gene_list))\n",
    "\n",
    "fig, ax = plt.subplots()\n",
    "\n",
    "x=[]\n",
    "y=[]\n",
    "\n",
    "for gene in gene_list:\n",
    "    x.append(-math.log10(float(gene_bass.loc[gene_bass[\"Gene Name\"] == gene][\"P‑Value Burden\"])))\n",
    "    y.append(-math.log10(float(gene_associations.loc[(gene_associations[\"Region\"] == gene) & (gene_associations[\"Group\"]==\"lof\") & (gene_associations[\"max_MAF\"]==0.0100)][\"Pvalue_Burden\"])))\n",
    "    \n",
    "    ax.scatter(-math.log10(float(gene_bass.loc[gene_bass[\"Gene Name\"] == gene][\"P‑Value Burden\"])),\n",
    "               -math.log10(float(gene_associations.loc[(gene_associations[\"Region\"] == gene) & (gene_associations[\"Group\"]==\"lof\") & (gene_associations[\"max_MAF\"]==0.0100)][\"Pvalue_Burden\"])), color=\"red\")\n",
    "\n",
    "\n",
    "ax.set_ylabel(\"GENEbass\")\n",
    "ax.set_xlabel(\"SAIGE-gene\")\n",
    "ax.axline((0, 0), slope=1)\n",
    "ax.set_aspect('equal', adjustable='box')\n",
    "\n",
    "ax.legend()\n",
    "\n",
    "plt.show()\n",
    "\n",
    "x,y=np.array(x),np.array(y)\n",
    "good = ~np.logical_or(np.isnan(x), np.isnan(y))\n",
    "print(\"pearson:\", pearsonr(x[good],y[good]))\n",
    "\n",
    "## genebass vs meta-analysis\n",
    "\n",
    "chr20 = pd.read_csv(\"14_11_data/meta-analysis/chr20.txt\", sep=' ')\n",
    "chr21 = pd.read_csv(\"14_11_data/meta-analysis/chr21.txt\", sep=' ')\n",
    "\n",
    "meta = pd.concat([chr20, chr21])\n",
    "\n",
    "gene_list = list(set(gene_bass[\"Gene Name\"]) & set(meta[\"GENE\"]))\n",
    "\n",
    "print(len(gene_list))\n",
    "\n",
    "#assocs_afr = assocs_afr.loc[assocs_afr[\"Region\"].isin(gene_list)] \n",
    "#assocs_sas = assocs_sas.loc[assocs_sas[\"Region\"].isin(gene_list)]\n",
    "\n",
    "fig, ax = plt.subplots()\n",
    "\n",
    "x,y=[],[]\n",
    "\n",
    "for gene in gene_list:\n",
    "    x.append(-math.log10(float(gene_bass.loc[gene_bass[\"Gene Name\"] == gene][\"P‑Value SKAT\"])))\n",
    "    y.append(-math.log10(float(meta.loc[meta[\"GENE\"] == gene][\"Pval\"])))\n",
    "\n",
    "    ax.scatter(-math.log10(float(gene_bass.loc[gene_bass[\"Gene Name\"] == gene][\"P‑Value SKAT\"])),\n",
    "               -math.log10(float(meta.loc[meta[\"GENE\"] == gene][\"Pval\"])), color=\"red\")\n",
    "\n",
    "ax.set_ylabel(\"GENEbass\")\n",
    "ax.set_xlabel(\"Meta-analysis\")\n",
    "ax.axline((0, 0), slope=1)\n",
    "ax.set_aspect('equal', adjustable='box')\n",
    "\n",
    "ax.legend()\n",
    "\n",
    "plt.show()\n",
    "x,y=np.array(x),np.array(y)\n",
    "good = ~np.logical_or(np.isnan(x), np.isnan(y))\n",
    "print(\"pearson:\", pearsonr(x[good],y[good]))\n",
    "\n",
    "## SAIGE-gene vs META analysis\n",
    "\n",
    "gene_list = list(set(gene_associations[\"Region\"]) & set(meta[\"GENE\"]))\n",
    "\n",
    "print(len(gene_list))\n",
    "\n",
    "fig, ax = plt.subplots()\n",
    "\n",
    "x,y=[],[]\n",
    "\n",
    "for gene in gene_list:\n",
    "    x.append(-math.log10(float(gene_associations.loc[(gene_associations[\"Region\"] == gene) & (gene_associations[\"Group\"]==\"lof\") & (gene_associations[\"max_MAF\"]==0.0100)][\"Pvalue_Burden\"])))\n",
    "    y.append(-math.log10(float(meta.loc[meta[\"GENE\"] == gene][\"Pval\"])))\n",
    "\n",
    "    ax.scatter(-math.log10(float(gene_associations.loc[(gene_associations[\"Region\"] == gene) & (gene_associations[\"Group\"]==\"lof\") & (gene_associations[\"max_MAF\"]==0.0100)][\"Pvalue_Burden\"])),\n",
    "               -math.log10(float(meta.loc[meta[\"GENE\"] == gene][\"Pval\"])), color=\"red\")\n",
    "\n",
    "ax.set_ylabel(\"SAIGE-GENE\")\n",
    "ax.set_xlabel(\"Meta-analysis\")\n",
    "ax.axline((0, 0), slope=1)\n",
    "ax.set_aspect('equal', adjustable='box')\n",
    "\n",
    "ax.legend()\n",
    "\n",
    "plt.show()\n",
    "x,y=np.array(x),np.array(y)\n",
    "good = ~np.logical_or(np.isnan(x), np.isnan(y))\n",
    "print(\"pearson:\", pearsonr(x[good],y[good]))"
   ]
  },
  {
   "cell_type": "code",
   "execution_count": 36,
   "id": "652d1b8d",
   "metadata": {
    "scrolled": true
   },
   "outputs": [
    {
     "name": "stderr",
     "output_type": "stream",
     "text": [
      "/var/folders/ks/4xyv63yj03zgqh2vxrfmg6hrb4lqvc/T/ipykernel_95177/1986755792.py:9: DeprecationWarning: Please use `pearsonr` from the `scipy.stats` namespace, the `scipy.stats.stats` namespace is deprecated.\n",
      "  from scipy.stats.stats import pearsonr\n"
     ]
    },
    {
     "name": "stdout",
     "output_type": "stream",
     "text": [
      "       Region                              Group  max_MAF    Pvalue  \\\n",
      "0     DEFB125                  damaging_missense   0.0001  0.332759   \n",
      "1     DEFB125                  damaging_missense   0.0010  0.332759   \n",
      "2     DEFB125                  damaging_missense   0.0100  0.332759   \n",
      "3     DEFB125                               pLoF   0.0001  0.030479   \n",
      "4     DEFB125                               pLoF   0.0010  0.030479   \n",
      "...       ...                                ...      ...       ...   \n",
      "2967    PRMT2             pLoF;damaging_missense   0.0100  0.892646   \n",
      "2968    PRMT2  damaging_missense;pLoF;synonymous   0.0001  0.597469   \n",
      "2969    PRMT2  damaging_missense;pLoF;synonymous   0.0010  0.722174   \n",
      "2970    PRMT2  damaging_missense;pLoF;synonymous   0.0100  0.896392   \n",
      "2971    PRMT2                             Cauchy      NaN  0.872789   \n",
      "\n",
      "      Pvalue_Burden  Pvalue_SKAT  BETA_Burden  SE_Burden     MAC  MAC_case  \\\n",
      "0          0.332759     0.332759     0.077547   0.080063     1.0       1.0   \n",
      "1          0.332759     0.332759     0.077547   0.080063     1.0       1.0   \n",
      "2          0.332759     0.332759     0.077547   0.080063     1.0       1.0   \n",
      "3          0.633417     0.017805     0.003097   0.006494   205.0      62.0   \n",
      "4          0.633417     0.017805     0.003097   0.006494   205.0      62.0   \n",
      "...             ...          ...          ...        ...     ...       ...   \n",
      "2967       0.892646     0.892646    -0.001420   0.010524    84.0      22.0   \n",
      "2968       0.437749     0.378600     0.002349   0.003027   960.0     287.0   \n",
      "2969       0.746426     0.504818     0.000633   0.001958  2344.0     669.0   \n",
      "2970       0.719839     0.744852     0.000538   0.001500  4087.0    1154.0   \n",
      "2971       0.855715     0.846911          NaN        NaN     NaN       NaN   \n",
      "\n",
      "      MAC_control  Number_rare  Number_ultra_rare  \n",
      "0             0.0          0.0                1.0  \n",
      "1             0.0          0.0                1.0  \n",
      "2             0.0          0.0                1.0  \n",
      "3           143.0          5.0                4.0  \n",
      "4           143.0          5.0                4.0  \n",
      "...           ...          ...                ...  \n",
      "2967         62.0          0.0               36.0  \n",
      "2968        673.0         26.0              113.0  \n",
      "2969       1675.0         32.0              113.0  \n",
      "2970       2933.0         34.0              113.0  \n",
      "2971          NaN          NaN                NaN  \n",
      "\n",
      "[11306 rows x 13 columns]\n",
      "706\n",
      "18356\n",
      "670\n"
     ]
    },
    {
     "name": "stderr",
     "output_type": "stream",
     "text": [
      "No artists with labels found to put in legend.  Note that artists whose label start with an underscore are ignored when legend() is called with no argument.\n"
     ]
    },
    {
     "data": {
      "image/png": "[encoded data removed]",
      "text/plain": [
       "<Figure size 640x480 with 1 Axes>"
      ]
     },
     "metadata": {},
     "output_type": "display_data"
    },
    {
     "name": "stdout",
     "output_type": "stream",
     "text": [
      "pearson: PearsonRResult(statistic=0.30287866912675643, pvalue=5.041688518203697e-15)\n"
     ]
    }
   ],
   "source": [
    "## SAIGE-gene VEP vs genebass\n",
    "\n",
    "import pandas as pd\n",
    "import numpy as np\n",
    "import matplotlib.pyplot as plt\n",
    "import tqdm\n",
    "import math\n",
    "import mygene\n",
    "from scipy.stats.stats import pearsonr   \n",
    "\n",
    "#gene_bass = pd.read_csv(\"T2D_EUR_genebass_missense.csv\", sep=\",\")\n",
    "gene_bass = pd.read_csv(\"24_11_data/genebass_plof_hypertension.csv\", sep=\",\")\n",
    "\n",
    "chr20 = pd.read_csv(\"25_11_data/chr20_hypertension_with_new_covars.txt\", sep='\\t')\n",
    "chr21 = pd.read_csv(\"25_11_data/chr21_hypertension_with_new_covars.txt\", sep='\\t')\n",
    "\n",
    "gene_associations = pd.concat([chr20, chr21])\n",
    "\n",
    "#gene_associations = pd.read_csv(\"24_11_data/SAS.txt\", sep='\\t')\n",
    "rerun=False\n",
    "\n",
    "if not 'gene_map' in locals() or rerun==True:\n",
    "\n",
    "    mg = mygene.MyGeneInfo()\n",
    "    gene_map = {}\n",
    "    for gene in tqdm.tqdm(gene_associations[\"Region\"]):\n",
    "        if gene in gene_map: continue\n",
    "        try: gene_map[gene] = mg.getgene(gene)[\"symbol\"]\n",
    "        except: pass\n",
    "\n",
    "gene_associations['Region'] = gene_associations['Region'].map(gene_map)\n",
    "\n",
    "print(gene_associations)\n",
    "\n",
    "gene_list = list(set(gene_bass[\"Gene Name\"]) & set(gene_associations[\"Region\"]))\n",
    "\n",
    "print(len(set(gene_associations[\"Region\"])))\n",
    "print(len((set(gene_bass[\"Gene Name\"]))))\n",
    "print(len(gene_list))\n",
    "\n",
    "fig, ax = plt.subplots()\n",
    "\n",
    "x=[]\n",
    "y=[]\n",
    "\n",
    "for gene in gene_list:\n",
    "    try: x.append(float(gene_bass.loc[gene_bass[\"Gene Name\"] == gene][\"P‑Value SKAT\"]))\n",
    "    except: continue\n",
    "    try:y.append(float(gene_associations.loc[(gene_associations[\"Region\"] == gene) & (gene_associations[\"Group\"]==\"pLoF\") & (gene_associations[\"max_MAF\"]==0.01)][\"Pvalue_SKAT\"]))\n",
    "    except:\n",
    "        x.pop()\n",
    "        continue\n",
    "    try:\n",
    "        ax.scatter(-math.log10(float(gene_bass.loc[gene_bass[\"Gene Name\"] == gene][\"P‑Value SKAT\"])),\n",
    "                   -math.log10(float(gene_associations.loc[(gene_associations[\"Region\"] == gene) & (gene_associations[\"Group\"]==\"pLoF\") & (gene_associations[\"max_MAF\"]==0.01)][\"Pvalue_SKAT\"])), color=\"red\")\n",
    "    except: pass\n",
    "ax.set_ylabel(\"GENEbass\")\n",
    "ax.set_xlabel(\"SAIGE-gene\")\n",
    "ax.axline((0, 0), slope=1)\n",
    "ax.set_aspect('equal', adjustable='box')\n",
    "\n",
    "ax.legend()\n",
    "\n",
    "plt.show()\n",
    "\n",
    "x,y=np.array(x),np.array(y)\n",
    "good = ~np.logical_or(np.isnan(x), np.isnan(y))\n",
    "print(\"pearson:\", pearsonr(x[good],y[good]))"
   ]
  },
  {
   "cell_type": "code",
   "execution_count": null,
   "id": "23acb2cc",
   "metadata": {},
   "outputs": [],
   "source": []
  },
  {
   "cell_type": "code",
   "execution_count": null,
   "id": "c90e4678",
   "metadata": {},
   "outputs": [],
   "source": []
  },
  {
   "cell_type": "code",
   "execution_count": null,
   "id": "cf9c7eb2",
   "metadata": {},
   "outputs": [],
   "source": []
  },
  {
   "cell_type": "code",
   "execution_count": null,
   "id": "0a02a7f0",
   "metadata": {},
   "outputs": [],
   "source": []
  },
  {
   "cell_type": "code",
   "execution_count": null,
   "id": "54d5a2c6",
   "metadata": {},
   "outputs": [],
   "source": []
  },
  {
   "cell_type": "code",
   "execution_count": null,
   "id": "314cfdbd",
   "metadata": {},
   "outputs": [],
   "source": []
  },
  {
   "cell_type": "code",
   "execution_count": null,
   "id": "9e4f1c69",
   "metadata": {},
   "outputs": [],
   "source": []
  },
  {
   "cell_type": "code",
   "execution_count": null,
   "id": "a21cadbb",
   "metadata": {},
   "outputs": [],
   "source": []
  },
  {
   "cell_type": "code",
   "execution_count": null,
   "id": "7fd867ed",
   "metadata": {},
   "outputs": [],
   "source": []
  },
  {
   "cell_type": "code",
   "execution_count": null,
   "id": "de80e2e0",
   "metadata": {},
   "outputs": [],
   "source": []
  },
  {
   "cell_type": "code",
   "execution_count": null,
   "id": "7bde7ac8",
   "metadata": {},
   "outputs": [],
   "source": []
  },
  {
   "cell_type": "code",
   "execution_count": null,
   "id": "2dc9da6c",
   "metadata": {},
   "outputs": [],
   "source": []
  },
  {
   "cell_type": "code",
   "execution_count": null,
   "id": "d048e2b0",
   "metadata": {},
   "outputs": [],
   "source": []
  },
  {
   "cell_type": "code",
   "execution_count": null,
   "id": "47ebe6e2",
   "metadata": {},
   "outputs": [],
   "source": []
  },
  {
   "cell_type": "code",
   "execution_count": null,
   "id": "f8d1d0f8",
   "metadata": {},
   "outputs": [],
   "source": []
  },
  {
   "cell_type": "code",
   "execution_count": null,
   "id": "6b2793d3",
   "metadata": {},
   "outputs": [],
   "source": []
  },
  {
   "cell_type": "code",
   "execution_count": null,
   "id": "42f04cae",
   "metadata": {},
   "outputs": [],
   "source": []
  },
  {
   "cell_type": "code",
   "execution_count": 2,
   "id": "78659d62",
   "metadata": {},
   "outputs": [
    {
     "data": {
      "text/plain": [
       "True"
      ]
     },
     "execution_count": 2,
     "metadata": {},
     "output_type": "execute_result"
    }
   ],
   "source": [
    "'gene_map' in locals()\n"
   ]
  },
  {
   "cell_type": "code",
   "execution_count": 9,
   "id": "1276944c",
   "metadata": {},
   "outputs": [
    {
     "name": "stderr",
     "output_type": "stream",
     "text": [
      "\r",
      "  0%|                                                                                          | 0/11306 [00:00<?, ?it/s]"
     ]
    },
    {
     "name": "stdout",
     "output_type": "stream",
     "text": [
      "nan\n"
     ]
    },
    {
     "name": "stderr",
     "output_type": "stream",
     "text": [
      "\r",
      "  0%|                                                                                | 1/11306 [00:00<1:12:18,  2.61it/s]"
     ]
    },
    {
     "name": "stdout",
     "output_type": "stream",
     "text": [
      "nan\n"
     ]
    },
    {
     "name": "stderr",
     "output_type": "stream",
     "text": [
      "\r",
      "  0%|                                                                                | 2/11306 [00:00<1:11:41,  2.63it/s]"
     ]
    },
    {
     "name": "stdout",
     "output_type": "stream",
     "text": [
      "nan\n"
     ]
    },
    {
     "name": "stderr",
     "output_type": "stream",
     "text": [
      "\r",
      "  0%|                                                                                | 3/11306 [00:01<1:12:53,  2.58it/s]"
     ]
    },
    {
     "name": "stdout",
     "output_type": "stream",
     "text": [
      "nan\n"
     ]
    },
    {
     "name": "stderr",
     "output_type": "stream",
     "text": [
      "\r",
      "  0%|                                                                                | 4/11306 [00:01<1:12:32,  2.60it/s]"
     ]
    },
    {
     "name": "stdout",
     "output_type": "stream",
     "text": [
      "nan\n"
     ]
    },
    {
     "name": "stderr",
     "output_type": "stream",
     "text": [
      "\r",
      "  0%|                                                                                | 5/11306 [00:01<1:11:47,  2.62it/s]"
     ]
    },
    {
     "name": "stdout",
     "output_type": "stream",
     "text": [
      "nan\n"
     ]
    },
    {
     "name": "stderr",
     "output_type": "stream",
     "text": [
      "\r",
      "  0%|                                                                                | 6/11306 [00:02<1:11:11,  2.65it/s]"
     ]
    },
    {
     "name": "stdout",
     "output_type": "stream",
     "text": [
      "nan\n"
     ]
    },
    {
     "name": "stderr",
     "output_type": "stream",
     "text": [
      "\r",
      "  0%|                                                                                | 7/11306 [00:02<1:11:07,  2.65it/s]"
     ]
    },
    {
     "name": "stdout",
     "output_type": "stream",
     "text": [
      "nan\n"
     ]
    },
    {
     "name": "stderr",
     "output_type": "stream",
     "text": [
      "\r",
      "  0%|                                                                                | 8/11306 [00:03<1:11:07,  2.65it/s]"
     ]
    },
    {
     "name": "stdout",
     "output_type": "stream",
     "text": [
      "nan\n"
     ]
    },
    {
     "name": "stderr",
     "output_type": "stream",
     "text": [
      "\r",
      "  0%|                                                                                | 9/11306 [00:03<1:11:19,  2.64it/s]"
     ]
    },
    {
     "name": "stdout",
     "output_type": "stream",
     "text": [
      "nan\n"
     ]
    },
    {
     "name": "stderr",
     "output_type": "stream",
     "text": [
      "\r",
      "  0%|                                                                               | 10/11306 [00:03<1:11:33,  2.63it/s]"
     ]
    },
    {
     "name": "stdout",
     "output_type": "stream",
     "text": [
      "nan\n"
     ]
    },
    {
     "name": "stderr",
     "output_type": "stream",
     "text": [
      "\r",
      "  0%|                                                                               | 11/11306 [00:04<1:11:26,  2.64it/s]"
     ]
    },
    {
     "name": "stdout",
     "output_type": "stream",
     "text": [
      "nan\n"
     ]
    },
    {
     "name": "stderr",
     "output_type": "stream",
     "text": [
      "\r",
      "  0%|                                                                               | 12/11306 [00:04<1:11:22,  2.64it/s]"
     ]
    },
    {
     "name": "stdout",
     "output_type": "stream",
     "text": [
      "nan\n"
     ]
    },
    {
     "name": "stderr",
     "output_type": "stream",
     "text": [
      "\r",
      "  0%|                                                                               | 13/11306 [00:04<1:11:10,  2.64it/s]"
     ]
    },
    {
     "name": "stdout",
     "output_type": "stream",
     "text": [
      "nan\n"
     ]
    },
    {
     "name": "stderr",
     "output_type": "stream",
     "text": [
      "\r",
      "  0%|                                                                               | 14/11306 [00:05<1:10:55,  2.65it/s]"
     ]
    },
    {
     "name": "stdout",
     "output_type": "stream",
     "text": [
      "nan\n"
     ]
    },
    {
     "name": "stderr",
     "output_type": "stream",
     "text": [
      "\r",
      "  0%|                                                                               | 15/11306 [00:05<1:11:30,  2.63it/s]"
     ]
    },
    {
     "name": "stdout",
     "output_type": "stream",
     "text": [
      "nan\n"
     ]
    },
    {
     "name": "stderr",
     "output_type": "stream",
     "text": [
      "\r",
      "  0%|                                                                               | 16/11306 [00:06<1:11:43,  2.62it/s]"
     ]
    },
    {
     "name": "stdout",
     "output_type": "stream",
     "text": [
      "nan\n"
     ]
    },
    {
     "name": "stderr",
     "output_type": "stream",
     "text": [
      "\r",
      "  0%|                                                                               | 17/11306 [00:06<1:11:47,  2.62it/s]"
     ]
    },
    {
     "name": "stdout",
     "output_type": "stream",
     "text": [
      "nan\n"
     ]
    },
    {
     "name": "stderr",
     "output_type": "stream",
     "text": [
      "\r",
      "  0%|▏                                                                              | 18/11306 [00:06<1:12:03,  2.61it/s]"
     ]
    },
    {
     "name": "stdout",
     "output_type": "stream",
     "text": [
      "nan\n"
     ]
    },
    {
     "name": "stderr",
     "output_type": "stream",
     "text": [
      "\r",
      "  0%|▏                                                                              | 19/11306 [00:07<1:11:35,  2.63it/s]"
     ]
    },
    {
     "name": "stdout",
     "output_type": "stream",
     "text": [
      "nan\n"
     ]
    },
    {
     "name": "stderr",
     "output_type": "stream",
     "text": [
      "\r",
      "  0%|▏                                                                              | 20/11306 [00:07<1:11:41,  2.62it/s]"
     ]
    },
    {
     "name": "stdout",
     "output_type": "stream",
     "text": [
      "nan\n"
     ]
    },
    {
     "name": "stderr",
     "output_type": "stream",
     "text": [
      "\r",
      "  0%|▏                                                                              | 21/11306 [00:07<1:11:23,  2.63it/s]"
     ]
    },
    {
     "name": "stdout",
     "output_type": "stream",
     "text": [
      "nan\n"
     ]
    },
    {
     "name": "stderr",
     "output_type": "stream",
     "text": [
      "\r",
      "  0%|▏                                                                              | 22/11306 [00:08<1:11:14,  2.64it/s]"
     ]
    },
    {
     "name": "stdout",
     "output_type": "stream",
     "text": [
      "nan\n"
     ]
    },
    {
     "name": "stderr",
     "output_type": "stream",
     "text": [
      "\r",
      "  0%|▏                                                                              | 23/11306 [00:08<1:11:12,  2.64it/s]"
     ]
    },
    {
     "name": "stdout",
     "output_type": "stream",
     "text": [
      "nan\n"
     ]
    },
    {
     "name": "stderr",
     "output_type": "stream",
     "text": [
      "\r",
      "  0%|▏                                                                              | 24/11306 [00:09<1:10:46,  2.66it/s]"
     ]
    },
    {
     "name": "stdout",
     "output_type": "stream",
     "text": [
      "nan\n"
     ]
    },
    {
     "name": "stderr",
     "output_type": "stream",
     "text": [
      "\r",
      "  0%|▏                                                                              | 25/11306 [00:09<1:11:36,  2.63it/s]"
     ]
    },
    {
     "name": "stdout",
     "output_type": "stream",
     "text": [
      "nan\n"
     ]
    },
    {
     "name": "stderr",
     "output_type": "stream",
     "text": [
      "\r",
      "  0%|▏                                                                              | 26/11306 [00:09<1:11:54,  2.61it/s]"
     ]
    },
    {
     "name": "stdout",
     "output_type": "stream",
     "text": [
      "nan\n"
     ]
    },
    {
     "name": "stderr",
     "output_type": "stream",
     "text": [
      "\r",
      "  0%|▏                                                                              | 27/11306 [00:10<1:11:32,  2.63it/s]"
     ]
    },
    {
     "name": "stdout",
     "output_type": "stream",
     "text": [
      "nan\n"
     ]
    },
    {
     "name": "stderr",
     "output_type": "stream",
     "text": [
      "\r",
      "  0%|▏                                                                              | 28/11306 [00:10<1:11:38,  2.62it/s]"
     ]
    },
    {
     "name": "stdout",
     "output_type": "stream",
     "text": [
      "nan\n"
     ]
    },
    {
     "name": "stderr",
     "output_type": "stream",
     "text": [
      "\r",
      "  0%|▏                                                                              | 29/11306 [00:11<1:11:38,  2.62it/s]"
     ]
    },
    {
     "name": "stdout",
     "output_type": "stream",
     "text": [
      "nan\n"
     ]
    },
    {
     "name": "stderr",
     "output_type": "stream",
     "text": [
      "\r",
      "  0%|▏                                                                              | 30/11306 [00:11<1:11:14,  2.64it/s]"
     ]
    },
    {
     "name": "stdout",
     "output_type": "stream",
     "text": [
      "nan\n"
     ]
    },
    {
     "name": "stderr",
     "output_type": "stream",
     "text": [
      "\r",
      "  0%|▏                                                                              | 31/11306 [00:11<1:11:00,  2.65it/s]"
     ]
    },
    {
     "name": "stdout",
     "output_type": "stream",
     "text": [
      "nan\n"
     ]
    },
    {
     "name": "stderr",
     "output_type": "stream",
     "text": [
      "\r",
      "  0%|▏                                                                              | 32/11306 [00:12<1:11:08,  2.64it/s]"
     ]
    },
    {
     "name": "stdout",
     "output_type": "stream",
     "text": [
      "nan\n"
     ]
    },
    {
     "name": "stderr",
     "output_type": "stream",
     "text": [
      "\r",
      "  0%|▏                                                                              | 33/11306 [00:12<1:11:33,  2.63it/s]"
     ]
    },
    {
     "name": "stdout",
     "output_type": "stream",
     "text": [
      "nan\n"
     ]
    },
    {
     "name": "stderr",
     "output_type": "stream",
     "text": [
      "\r",
      "  0%|▏                                                                              | 34/11306 [00:12<1:11:30,  2.63it/s]"
     ]
    },
    {
     "name": "stdout",
     "output_type": "stream",
     "text": [
      "nan\n"
     ]
    },
    {
     "name": "stderr",
     "output_type": "stream",
     "text": [
      "\r",
      "  0%|▏                                                                              | 35/11306 [00:13<1:11:09,  2.64it/s]"
     ]
    },
    {
     "name": "stdout",
     "output_type": "stream",
     "text": [
      "nan\n"
     ]
    },
    {
     "name": "stderr",
     "output_type": "stream",
     "text": [
      "\r",
      "  0%|▎                                                                              | 36/11306 [00:13<1:10:49,  2.65it/s]"
     ]
    },
    {
     "name": "stdout",
     "output_type": "stream",
     "text": [
      "nan\n"
     ]
    },
    {
     "name": "stderr",
     "output_type": "stream",
     "text": [
      "\r",
      "  0%|▎                                                                              | 37/11306 [00:14<1:10:59,  2.65it/s]"
     ]
    },
    {
     "name": "stdout",
     "output_type": "stream",
     "text": [
      "nan\n"
     ]
    },
    {
     "name": "stderr",
     "output_type": "stream",
     "text": [
      "\r",
      "  0%|▎                                                                              | 38/11306 [00:14<1:10:38,  2.66it/s]"
     ]
    },
    {
     "name": "stdout",
     "output_type": "stream",
     "text": [
      "nan\n"
     ]
    },
    {
     "name": "stderr",
     "output_type": "stream",
     "text": [
      "\r",
      "  0%|▎                                                                              | 39/11306 [00:14<1:11:33,  2.62it/s]"
     ]
    },
    {
     "name": "stdout",
     "output_type": "stream",
     "text": [
      "nan\n"
     ]
    },
    {
     "name": "stderr",
     "output_type": "stream",
     "text": [
      "\r",
      "  0%|▎                                                                              | 40/11306 [00:15<1:11:18,  2.63it/s]"
     ]
    },
    {
     "name": "stdout",
     "output_type": "stream",
     "text": [
      "nan\n"
     ]
    },
    {
     "name": "stderr",
     "output_type": "stream",
     "text": [
      "\r",
      "  0%|▎                                                                              | 41/11306 [00:15<1:11:23,  2.63it/s]"
     ]
    },
    {
     "name": "stdout",
     "output_type": "stream",
     "text": [
      "nan\n"
     ]
    },
    {
     "name": "stderr",
     "output_type": "stream",
     "text": [
      "\r",
      "  0%|▎                                                                              | 42/11306 [00:15<1:11:10,  2.64it/s]"
     ]
    },
    {
     "name": "stdout",
     "output_type": "stream",
     "text": [
      "nan\n"
     ]
    },
    {
     "name": "stderr",
     "output_type": "stream",
     "text": [
      "\r",
      "  0%|▎                                                                              | 43/11306 [00:16<1:11:10,  2.64it/s]"
     ]
    },
    {
     "name": "stdout",
     "output_type": "stream",
     "text": [
      "nan\n"
     ]
    },
    {
     "name": "stderr",
     "output_type": "stream",
     "text": [
      "\r",
      "  0%|▎                                                                              | 44/11306 [00:16<1:11:09,  2.64it/s]"
     ]
    },
    {
     "name": "stdout",
     "output_type": "stream",
     "text": [
      "nan\n"
     ]
    },
    {
     "name": "stderr",
     "output_type": "stream",
     "text": [
      "\r",
      "  0%|▎                                                                              | 45/11306 [00:17<1:10:39,  2.66it/s]"
     ]
    },
    {
     "name": "stdout",
     "output_type": "stream",
     "text": [
      "nan\n"
     ]
    },
    {
     "name": "stderr",
     "output_type": "stream",
     "text": [
      "\r",
      "  0%|▎                                                                              | 46/11306 [00:17<1:10:40,  2.66it/s]"
     ]
    },
    {
     "name": "stdout",
     "output_type": "stream",
     "text": [
      "nan\n"
     ]
    },
    {
     "name": "stderr",
     "output_type": "stream",
     "text": [
      "\r",
      "  0%|▎                                                                              | 47/11306 [00:17<1:10:42,  2.65it/s]"
     ]
    },
    {
     "name": "stdout",
     "output_type": "stream",
     "text": [
      "nan\n"
     ]
    },
    {
     "name": "stderr",
     "output_type": "stream",
     "text": [
      "\r",
      "  0%|▎                                                                              | 48/11306 [00:18<1:10:48,  2.65it/s]"
     ]
    },
    {
     "name": "stdout",
     "output_type": "stream",
     "text": [
      "nan\n"
     ]
    },
    {
     "name": "stderr",
     "output_type": "stream",
     "text": [
      "  0%|▎                                                                              | 49/11306 [00:18<1:11:11,  2.64it/s]"
     ]
    },
    {
     "name": "stdout",
     "output_type": "stream",
     "text": [
      "nan\n"
     ]
    },
    {
     "name": "stderr",
     "output_type": "stream",
     "text": [
      "\n"
     ]
    }
   ],
   "source": [
    "import mygene\n",
    "import tqdm\n",
    "mg = mygene.MyGeneInfo()\n",
    "for gene in tqdm.tqdm(gene_associations[\"Region\"]):\n",
    "    if gene in gene_map: continue\n",
    "    try: gene_map[gene] = mg.getgene(gene)[\"symbol\"]\n",
    "    except: pass"
   ]
  },
  {
   "cell_type": "code",
   "execution_count": 3,
   "id": "bf109890",
   "metadata": {},
   "outputs": [
    {
     "data": {
      "text/plain": [
       "{'ENSG00000178591': 'DEFB125',\n",
       " 'ENSG00000125788': 'DEFB126',\n",
       " 'ENSG00000088782': 'DEFB127',\n",
       " 'ENSG00000185982': 'DEFB128',\n",
       " 'ENSG00000125903': 'DEFB129',\n",
       " 'ENSG00000186458': 'DEFB132',\n",
       " 'ENSG00000196476': 'C20orf96',\n",
       " 'ENSG00000247315': 'ZCCHC3',\n",
       " 'ENSG00000177732': 'SOX12',\n",
       " 'ENSG00000125841': 'NRSN2',\n",
       " 'ENSG00000101255': 'TRIB3',\n",
       " 'ENSG00000125826': 'RBCK1',\n",
       " 'ENSG00000125875': 'TBC1D20',\n",
       " 'ENSG00000101266': 'CSNK2A1',\n",
       " 'ENSG00000125878': 'TCF15',\n",
       " 'ENSG00000271303': 'SRXN1',\n",
       " 'ENSG00000215397': 'SCRT2',\n",
       " 'ENSG00000101276': 'SLC52A3',\n",
       " 'ENSG00000125898': 'FAM110A',\n",
       " 'ENSG00000101280': 'ANGPT4',\n",
       " 'ENSG00000101282': 'RSPO4',\n",
       " 'ENSG00000125818': 'PSMF1',\n",
       " 'ENSG00000125895': 'TMEM74B',\n",
       " 'ENSG00000215595': 'C20orf202',\n",
       " 'ENSG00000244588': 'RAD21L1',\n",
       " 'ENSG00000101298': 'SNPH',\n",
       " 'ENSG00000125775': 'SDCBP2',\n",
       " 'ENSG00000088832': 'FKBP1A',\n",
       " 'ENSG00000088833': 'NSFL1C',\n",
       " 'ENSG00000196209': 'SIRPB2',\n",
       " 'ENSG00000125900': 'SIRPD',\n",
       " 'ENSG00000101307': 'SIRPB1',\n",
       " 'ENSG00000089012': 'SIRPG',\n",
       " 'ENSG00000198053': 'SIRPA',\n",
       " 'ENSG00000101327': 'PDYN',\n",
       " 'ENSG00000125834': 'STK35',\n",
       " 'ENSG00000125780': 'TGM3',\n",
       " 'ENSG00000166948': 'TGM6',\n",
       " 'ENSG00000125835': 'SNRPB',\n",
       " 'ENSG00000088876': 'ZNF343',\n",
       " 'ENSG00000149488': 'TMC2',\n",
       " 'ENSG00000101361': 'NOP56',\n",
       " 'ENSG00000101365': 'IDH3B',\n",
       " 'ENSG00000088881': 'EBF4',\n",
       " 'ENSG00000088882': 'CPXM1',\n",
       " 'ENSG00000258713': 'C20orf141',\n",
       " 'ENSG00000198326': 'TMEM239',\n",
       " 'ENSG00000132635': 'PCED1A',\n",
       " 'ENSG00000215305': 'VPS16',\n",
       " 'ENSG00000132670': 'PTPRA',\n",
       " 'ENSG00000125787': 'GNRH2',\n",
       " 'ENSG00000125901': 'MRPS26',\n",
       " 'ENSG00000101405': 'OXT',\n",
       " 'ENSG00000101200': 'AVP',\n",
       " 'ENSG00000185019': 'UBOX5',\n",
       " 'ENSG00000215251': 'FASTKD5',\n",
       " 'ENSG00000088899': 'LZTS3',\n",
       " 'ENSG00000198171': 'DDRGK1',\n",
       " 'ENSG00000125877': 'ITPA',\n",
       " 'ENSG00000088836': 'SLC4A11',\n",
       " 'ENSG00000088854': 'DNAAF9',\n",
       " 'ENSG00000088812': 'ATRN',\n",
       " 'ENSG00000125861': 'GFRA4',\n",
       " 'ENSG00000149451': 'ADAM33',\n",
       " 'ENSG00000088827': 'SIGLEC1',\n",
       " 'ENSG00000132622': 'HSPA12B',\n",
       " 'ENSG00000101220': 'C20orf27',\n",
       " 'ENSG00000101222': 'SPEF1',\n",
       " 'ENSG00000125817': 'CENPB',\n",
       " 'ENSG00000101224': 'CDC25B',\n",
       " 'ENSG00000125843': 'AP5S1',\n",
       " 'ENSG00000088888': 'MAVS',\n",
       " 'ENSG00000125779': 'PANK2',\n",
       " 'ENSG00000101236': 'RNF24',\n",
       " 'ENSG00000088826': 'SMOX',\n",
       " 'ENSG00000171873': 'ADRA1D',\n",
       " 'ENSG00000171867': 'PRNP',\n",
       " 'ENSG00000171864': 'PRND',\n",
       " 'ENSG00000101265': 'RASSF2',\n",
       " 'ENSG00000089057': 'SLC23A2',\n",
       " 'ENSG00000089063': 'TMEM230',\n",
       " 'ENSG00000132646': 'PCNA',\n",
       " 'ENSG00000101290': 'CDS2',\n",
       " 'ENSG00000101292': 'PROKR2',\n",
       " 'ENSG00000125772': 'GPCPD1',\n",
       " 'ENSG00000171984': 'SHLD1',\n",
       " 'ENSG00000089199': 'CHGB',\n",
       " 'ENSG00000089195': 'TRMT6',\n",
       " 'ENSG00000125885': 'MCM8',\n",
       " 'ENSG00000088766': 'CRLS1',\n",
       " 'ENSG00000125872': 'LRRN4',\n",
       " 'ENSG00000101311': 'FERMT1',\n",
       " 'ENSG00000125845': 'BMP2',\n",
       " 'ENSG00000101323': 'HAO1',\n",
       " 'ENSG00000125827': 'TMX4',\n",
       " 'ENSG00000182621': 'PLCB1',\n",
       " 'ENSG00000101333': 'PLCB4',\n",
       " 'ENSG00000125869': 'LAMP5',\n",
       " 'ENSG00000101349': 'PAK5',\n",
       " 'ENSG00000132623': 'ANKEF1',\n",
       " 'ENSG00000132639': 'SNAP25',\n",
       " 'ENSG00000125863': 'MKKS',\n",
       " 'ENSG00000149346': 'SLX4IP',\n",
       " 'ENSG00000101384': 'JAG1',\n",
       " 'ENSG00000132640': 'BTBD3',\n",
       " 'ENSG00000172296': 'SPTLC3',\n",
       " 'ENSG00000101230': 'ISM1',\n",
       " 'ENSG00000089123': 'TASP1',\n",
       " 'ENSG00000089048': 'ESF1',\n",
       " 'ENSG00000101247': 'NDUFAF5',\n",
       " 'ENSG00000101251': 'SEL1L2',\n",
       " 'ENSG00000172264': 'MACROD2',\n",
       " 'ENSG00000125848': 'FLRT3',\n",
       " 'ENSG00000089177': 'KIF16B',\n",
       " 'ENSG00000125870': 'SNRPB2',\n",
       " 'ENSG00000125879': 'OTOR',\n",
       " 'ENSG00000125851': 'PCSK2',\n",
       " 'ENSG00000125864': 'BFSP1',\n",
       " 'ENSG00000125868': 'DSTN',\n",
       " 'ENSG00000125844': 'RRBP1',\n",
       " 'ENSG00000125888': 'BANF2',\n",
       " 'ENSG00000089006': 'SNX5',\n",
       " 'ENSG00000125871': 'MGME1',\n",
       " 'ENSG00000125850': 'OVOL2',\n",
       " 'ENSG00000232838': 'PET117',\n",
       " 'ENSG00000149474': 'KAT14',\n",
       " 'ENSG00000125846': 'ZNF133',\n",
       " 'ENSG00000089091': 'DZANK1',\n",
       " 'ENSG00000132664': 'POLR3F',\n",
       " 'ENSG00000089050': 'RBBP9',\n",
       " 'ENSG00000101310': 'SEC23B',\n",
       " 'ENSG00000125821': 'DTD1',\n",
       " 'ENSG00000132631': 'SCP2D1',\n",
       " 'ENSG00000185052': 'SLC24A3',\n",
       " 'ENSG00000132669': 'RIN2',\n",
       " 'ENSG00000173418': 'NAA20',\n",
       " 'ENSG00000101343': 'CRNKL1',\n",
       " 'ENSG00000089101': 'CFAP61',\n",
       " 'ENSG00000173404': 'INSM1',\n",
       " 'ENSG00000188559': 'RALGAPA2',\n",
       " 'ENSG00000088970': 'KIZ',\n",
       " 'ENSG00000088930': 'XRN2',\n",
       " 'ENSG00000125816': 'NKX2-4',\n",
       " 'ENSG00000125820': 'NKX2-2',\n",
       " 'ENSG00000125813': 'PAX1',\n",
       " 'ENSG00000125798': 'FOXA2',\n",
       " 'ENSG00000132671': 'SSTR4',\n",
       " 'ENSG00000178726': 'THBD',\n",
       " 'ENSG00000125810': 'CD93',\n",
       " 'ENSG00000132661': 'NXT1',\n",
       " 'ENSG00000125812': 'GZF1',\n",
       " 'ENSG00000125814': 'NAPB',\n",
       " 'ENSG00000125823': 'CSTL1',\n",
       " 'ENSG00000125831': 'CST11',\n",
       " 'ENSG00000125815': 'CST8',\n",
       " 'ENSG00000101435': 'CST9L',\n",
       " 'ENSG00000173335': 'CST9',\n",
       " 'ENSG00000101439': 'CST3',\n",
       " 'ENSG00000170367': 'CST5',\n",
       " 'ENSG00000101463': 'SYNDIG1',\n",
       " 'ENSG00000077984': 'CST7',\n",
       " 'ENSG00000101474': 'APMAP',\n",
       " 'ENSG00000154930': 'ACSS1',\n",
       " 'ENSG00000100987': 'VSX1',\n",
       " 'ENSG00000197586': 'ENTPD6',\n",
       " 'ENSG00000100994': 'PYGB',\n",
       " 'ENSG00000100997': 'ABHD12',\n",
       " 'ENSG00000101003': 'GINS1',\n",
       " 'ENSG00000101004': 'NINL',\n",
       " 'ENSG00000170191': 'NANP',\n",
       " 'ENSG00000130684': 'ZNF337',\n",
       " 'ENSG00000215547': 'DEFB115',\n",
       " 'ENSG00000215545': 'DEFB116',\n",
       " 'ENSG00000131068': 'DEFB118',\n",
       " 'ENSG00000180483': 'DEFB119',\n",
       " 'ENSG00000204548': 'DEFB121',\n",
       " 'ENSG00000180424': 'DEFB123',\n",
       " 'ENSG00000180383': 'DEFB124',\n",
       " 'ENSG00000088320': 'REM1',\n",
       " 'ENSG00000101294': 'HM13',\n",
       " 'ENSG00000125968': 'ID1',\n",
       " 'ENSG00000131055': 'COX4I2',\n",
       " 'ENSG00000171552': 'BCL2L1',\n",
       " 'ENSG00000088325': 'TPX2',\n",
       " 'ENSG00000101306': 'MYLK2',\n",
       " 'ENSG00000179772': 'FOXS1',\n",
       " 'ENSG00000149599': 'DUSP15',\n",
       " 'ENSG00000131044': 'TTLL9',\n",
       " 'ENSG00000088356': 'PDRG1',\n",
       " 'ENSG00000260903': 'XKR7',\n",
       " 'ENSG00000101331': 'CCM2L',\n",
       " 'ENSG00000101336': 'HCK',\n",
       " 'ENSG00000101337': 'TM9SF4',\n",
       " 'ENSG00000101346': 'POFUT1',\n",
       " 'ENSG00000101350': 'KIF3B',\n",
       " 'ENSG00000171456': 'ASXL1',\n",
       " 'ENSG00000197183': 'NOL4L',\n",
       " 'ENSG00000198547': 'C20orf203',\n",
       " 'ENSG00000149600': 'COMMD7',\n",
       " 'ENSG00000088305': 'DNMT3B',\n",
       " 'ENSG00000101367': 'MAPRE1',\n",
       " 'ENSG00000215529': 'EFCAB8',\n",
       " 'ENSG00000167098': 'SUN5',\n",
       " 'ENSG00000078898': 'BPIFB2',\n",
       " 'ENSG00000167104': 'BPIFB6',\n",
       " 'ENSG00000186190': 'BPIFB3',\n",
       " 'ENSG00000186191': 'BPIFB4',\n",
       " 'ENSG00000131050': 'BPIFA2',\n",
       " 'ENSG00000131059': 'BPIFA3',\n",
       " 'ENSG00000198183': 'BPIFA1',\n",
       " 'ENSG00000125999': 'BPIFB1',\n",
       " 'ENSG00000101391': 'CDK5RAP1',\n",
       " 'ENSG00000101400': 'SNTA1',\n",
       " 'ENSG00000078699': 'CBFA2T2',\n",
       " 'ENSG00000125967': 'NECAB3',\n",
       " 'ENSG00000149609': 'C20orf144',\n",
       " 'ENSG00000101412': 'E2F1',\n",
       " 'ENSG00000101417': 'PXMP4',\n",
       " 'ENSG00000131061': 'ZNF341',\n",
       " 'ENSG00000101421': 'CHMP4B',\n",
       " 'ENSG00000125970': 'RALY',\n",
       " 'ENSG00000125977': 'EIF2S2',\n",
       " 'ENSG00000101440': 'ASIP',\n",
       " 'ENSG00000101444': 'AHCY',\n",
       " 'ENSG00000078747': 'ITCH',\n",
       " 'ENSG00000125971': 'DYNLRB1',\n",
       " 'ENSG00000101460': 'MAP1LC3A',\n",
       " 'ENSG00000101464': 'PIGU',\n",
       " 'ENSG00000078804': 'TP53INP2',\n",
       " 'ENSG00000198646': 'NCOA6',\n",
       " 'ENSG00000131067': 'GGT7',\n",
       " 'ENSG00000131069': 'ACSS2',\n",
       " 'ENSG00000100983': 'GSS',\n",
       " 'ENSG00000078814': 'MYH7B',\n",
       " 'ENSG00000100991': 'TRPC4AP',\n",
       " 'ENSG00000088298': 'EDEM2',\n",
       " 'ENSG00000101000': 'PROCR',\n",
       " 'ENSG00000125966': 'MMP24',\n",
       " 'ENSG00000242372': 'EIF6',\n",
       " 'ENSG00000125998': 'FAM83C',\n",
       " 'ENSG00000101019': 'UQCC1',\n",
       " 'ENSG00000125965': 'GDF5',\n",
       " 'ENSG00000126001': 'CEP250',\n",
       " 'ENSG00000125975': 'C20orf173',\n",
       " 'ENSG00000125991': 'ERGIC3',\n",
       " 'ENSG00000061656': 'SPAG4',\n",
       " 'ENSG00000214078': 'CPNE1',\n",
       " 'ENSG00000244462': 'RBM12',\n",
       " 'ENSG00000244005': 'NFS1',\n",
       " 'ENSG00000125995': 'ROMO1',\n",
       " 'ENSG00000131051': 'RBM39',\n",
       " 'ENSG00000025293': 'PHF20',\n",
       " 'ENSG00000171222': 'SCAND1',\n",
       " 'ENSG00000149646': 'CNBD2',\n",
       " 'ENSG00000088367': 'EPB41L1',\n",
       " 'ENSG00000131043': 'AAR2',\n",
       " 'ENSG00000080845': 'DLGAP4',\n",
       " 'ENSG00000101335': 'MYL9',\n",
       " 'ENSG00000118707': 'TGIF2',\n",
       " 'ENSG00000259399': 'TGIF2-RAB5IF',\n",
       " 'ENSG00000101084': 'RAB5IF',\n",
       " 'ENSG00000101082': 'SLA2',\n",
       " 'ENSG00000101079': 'NDRG3',\n",
       " 'ENSG00000149636': 'DSN1',\n",
       " 'ENSG00000149639': 'SOGA1',\n",
       " 'ENSG00000101342': 'TLDC2',\n",
       " 'ENSG00000101347': 'SAMHD1',\n",
       " 'ENSG00000080839': 'RBL1',\n",
       " 'ENSG00000101353': 'MROH8',\n",
       " 'ENSG00000118705': 'RPN2',\n",
       " 'ENSG00000118702': 'GHRH',\n",
       " 'ENSG00000101363': 'MANBAL',\n",
       " 'ENSG00000197122': 'SRC',\n",
       " 'ENSG00000166619': 'BLCAP',\n",
       " 'ENSG00000053438': 'NNAT',\n",
       " 'ENSG00000132792': 'CTNNBL1',\n",
       " 'ENSG00000132821': 'VSTM2L',\n",
       " 'ENSG00000101407': 'TTI1',\n",
       " 'ENSG00000101413': 'RPRD1B',\n",
       " 'ENSG00000198959': 'TGM2',\n",
       " 'ENSG00000149633': 'KIAA1755',\n",
       " 'ENSG00000101425': 'BPI',\n",
       " 'ENSG00000129988': 'LBP',\n",
       " 'ENSG00000170471': 'RALGAPB',\n",
       " 'ENSG00000182035': 'ADIG',\n",
       " 'ENSG00000124143': 'ARHGAP40',\n",
       " 'ENSG00000101438': 'SLC32A1',\n",
       " 'ENSG00000101442': 'ACTR5',\n",
       " 'ENSG00000101445': 'PPP1R16B',\n",
       " 'ENSG00000101447': 'FAM83D',\n",
       " 'ENSG00000101452': 'DHX35',\n",
       " 'ENSG00000204103': 'MAFB',\n",
       " 'ENSG00000198900': 'TOP1',\n",
       " 'ENSG00000124181': 'PLCG1',\n",
       " 'ENSG00000174306': 'ZHX3',\n",
       " 'ENSG00000132793': 'LPIN3',\n",
       " 'ENSG00000183798': 'EMILIN3',\n",
       " 'ENSG00000124177': 'CHD6',\n",
       " 'ENSG00000196090': 'PTPRT',\n",
       " 'ENSG00000185513': 'L3MBTL1',\n",
       " 'ENSG00000101049': 'SGK2',\n",
       " 'ENSG00000101052': 'IFT52',\n",
       " 'ENSG00000101057': 'MYBL2',\n",
       " 'ENSG00000124196': 'GTSF1L',\n",
       " 'ENSG00000124191': 'TOX2',\n",
       " 'ENSG00000149596': 'JPH2',\n",
       " 'ENSG00000132823': 'OSER1',\n",
       " 'ENSG00000124194': 'GDAP1L1',\n",
       " 'ENSG00000197296': 'FITM2',\n",
       " 'ENSG00000101074': 'R3HDML',\n",
       " 'ENSG00000101076': 'HNF4A',\n",
       " 'ENSG00000124120': 'TTPAL',\n",
       " 'ENSG00000132824': 'SERINC3',\n",
       " 'ENSG00000168734': 'PKIG',\n",
       " 'ENSG00000196839': 'ADA',\n",
       " 'ENSG00000064205': 'CCN5',\n",
       " 'ENSG00000124249': 'KCNK15',\n",
       " 'ENSG00000101098': 'RIMS4',\n",
       " 'ENSG00000166913': 'YWHAB',\n",
       " 'ENSG00000101104': 'PABPC1L',\n",
       " 'ENSG00000025772': 'TOMM34',\n",
       " 'ENSG00000101109': 'STK4',\n",
       " 'ENSG00000124134': 'KCNS1',\n",
       " 'ENSG00000175121': 'WFDC5',\n",
       " 'ENSG00000168703': 'WFDC12',\n",
       " 'ENSG00000124102': 'PI3',\n",
       " 'ENSG00000124233': 'SEMG1',\n",
       " 'ENSG00000124157': 'SEMG2',\n",
       " 'ENSG00000124107': 'SLPI',\n",
       " 'ENSG00000124159': 'MATN4',\n",
       " 'ENSG00000124232': 'RBPJL',\n",
       " 'ENSG00000124145': 'SDC4',\n",
       " 'ENSG00000204070': 'SYS1',\n",
       " 'ENSG00000254806': 'SYS1-DBNDD2',\n",
       " 'ENSG00000124251': 'TP53TG5',\n",
       " 'ENSG00000244274': 'DBNDD2',\n",
       " 'ENSG00000124155': 'PIGT',\n",
       " 'ENSG00000101443': 'WFDC2',\n",
       " 'ENSG00000101446': 'SPINT3',\n",
       " 'ENSG00000243543': 'WFDC6',\n",
       " 'ENSG00000249139': 'EPPIN-WFDC6',\n",
       " 'ENSG00000101448': 'EPPIN',\n",
       " 'ENSG00000158901': 'WFDC8',\n",
       " 'ENSG00000180205': 'WFDC9',\n",
       " 'ENSG00000180305': 'WFDC10A',\n",
       " 'ENSG00000180083': 'WFDC11',\n",
       " 'ENSG00000182931': 'WFDC10B',\n",
       " 'ENSG00000168634': 'WFDC13',\n",
       " 'ENSG00000149651': 'SPINT4',\n",
       " 'ENSG00000124116': 'WFDC3',\n",
       " 'ENSG00000101457': 'DNTTIP1',\n",
       " 'ENSG00000175063': 'UBE2C',\n",
       " 'ENSG00000101470': 'TNNC2',\n",
       " 'ENSG00000124104': 'SNX21',\n",
       " 'ENSG00000101473': 'ACOT8',\n",
       " 'ENSG00000132801': 'ZSWIM3',\n",
       " 'ENSG00000168612': 'ZSWIM1',\n",
       " 'ENSG00000149634': 'SPATA25',\n",
       " 'ENSG00000124257': 'NEURL2',\n",
       " 'ENSG00000064601': 'CTSA',\n",
       " 'ENSG00000100979': 'PLTP',\n",
       " 'ENSG00000100982': 'PCIF1',\n",
       " 'ENSG00000198026': 'ZNF335',\n",
       " 'ENSG00000100985': 'MMP9',\n",
       " 'ENSG00000124140': 'SLC12A5',\n",
       " 'ENSG00000124160': 'NCOA5',\n",
       " 'ENSG00000101017': 'CD40',\n",
       " 'ENSG00000149654': 'CDH22',\n",
       " 'ENSG00000080189': 'SLC35C2',\n",
       " 'ENSG00000062598': 'ELMO2',\n",
       " 'ENSG00000198185': 'ZNF334',\n",
       " 'ENSG00000149635': 'OCSTAMP',\n",
       " 'ENSG00000158296': 'SLC13A3',\n",
       " 'ENSG00000172315': 'TP53RK',\n",
       " 'ENSG00000197496': 'SLC2A10',\n",
       " 'ENSG00000064655': 'EYA2',\n",
       " 'ENSG00000101040': 'ZMYND8',\n",
       " 'ENSG00000124151': 'NCOA3',\n",
       " 'ENSG00000196562': 'SULF2',\n",
       " 'ENSG00000124126': 'PREX1',\n",
       " 'ENSG00000124198': 'ARFGEF2',\n",
       " 'ENSG00000124207': 'CSE1L',\n",
       " 'ENSG00000124214': 'STAU1',\n",
       " 'ENSG00000124228': 'DDX27',\n",
       " 'ENSG00000124201': 'ZNFX1',\n",
       " 'ENSG00000158445': 'KCNB1',\n",
       " 'ENSG00000124212': 'PTGIS',\n",
       " 'ENSG00000158470': 'B4GALT5',\n",
       " 'ENSG00000197818': 'SLC9A8',\n",
       " 'ENSG00000158480': 'SPATA2',\n",
       " 'ENSG00000124226': 'RNF114',\n",
       " 'ENSG00000124216': 'SNAI1',\n",
       " 'ENSG00000124208': 'PEDS1-UBE2V1',\n",
       " 'ENSG00000244687': 'UBE2V1',\n",
       " 'ENSG00000240849': 'PEDS1',\n",
       " 'ENSG00000172216': 'CEBPB',\n",
       " 'ENSG00000196396': 'PTPN1',\n",
       " 'ENSG00000042062': 'RIPOR3',\n",
       " 'ENSG00000124171': 'PARD6B',\n",
       " 'ENSG00000124243': 'BCAS4',\n",
       " 'ENSG00000101126': 'ADNP',\n",
       " 'ENSG00000000419': 'DPM1',\n",
       " 'ENSG00000124217': 'MOCS3',\n",
       " 'ENSG00000026559': 'KCNG1',\n",
       " 'ENSG00000101096': 'NFATC2',\n",
       " 'ENSG00000054793': 'ATP9A',\n",
       " 'ENSG00000101115': 'SALL4',\n",
       " 'ENSG00000020256': 'ZFP64',\n",
       " 'ENSG00000182463': 'TSHZ2',\n",
       " 'ENSG00000171940': 'ZNF217',\n",
       " 'ENSG00000064787': 'BCAS1',\n",
       " 'ENSG00000019186': 'CYP24A1',\n",
       " 'ENSG00000101132': 'PFDN4',\n",
       " 'ENSG00000101134': 'DOK5',\n",
       " 'ENSG00000054803': 'CBLN4',\n",
       " 'ENSG00000124089': 'MC3R',\n",
       " 'ENSG00000124098': 'FAM210B',\n",
       " 'ENSG00000087586': 'AURKA',\n",
       " 'ENSG00000101138': 'CSTF1',\n",
       " 'ENSG00000087589': 'CASS4',\n",
       " 'ENSG00000022277': 'RTF2',\n",
       " 'ENSG00000124091': 'GCNT7',\n",
       " 'ENSG00000124103': 'FAM209A',\n",
       " 'ENSG00000213714': 'FAM209B',\n",
       " 'ENSG00000087510': 'TFAP2C',\n",
       " 'ENSG00000101144': 'BMP7',\n",
       " 'ENSG00000054796': 'SPO11',\n",
       " 'ENSG00000101146': 'RAE1',\n",
       " 'ENSG00000132819': 'RBM38',\n",
       " 'ENSG00000124092': 'CTCFL',\n",
       " 'ENSG00000124253': 'PCK1',\n",
       " 'ENSG00000124256': 'ZBP1',\n",
       " 'ENSG00000124225': 'PMEPA1',\n",
       " 'ENSG00000124237': 'C20orf85',\n",
       " 'ENSG00000124227': 'ANKRD60',\n",
       " 'ENSG00000124209': 'RAB22A',\n",
       " 'ENSG00000124164': 'VAPB',\n",
       " 'ENSG00000198768': 'APCDD1L',\n",
       " 'ENSG00000124222': 'STX16',\n",
       " 'ENSG00000254995': 'STX16-NPEPL1',\n",
       " 'ENSG00000215440': 'NPEPL1',\n",
       " 'ENSG00000087460': 'GNAS',\n",
       " 'ENSG00000101158': 'NELFCD',\n",
       " 'ENSG00000101160': 'CTSZ',\n",
       " 'ENSG00000101162': 'TUBB1',\n",
       " 'ENSG00000124172': 'ATP5F1E',\n",
       " 'ENSG00000101166': 'PRELID3B',\n",
       " 'ENSG00000124203': 'ZNF831',\n",
       " 'ENSG00000124205': 'EDN3',\n",
       " 'ENSG00000087495': 'PHACTR3',\n",
       " 'ENSG00000196074': 'SYCP2',\n",
       " 'ENSG00000132825': 'PPP1R3D',\n",
       " 'ENSG00000196227': 'FAM217B',\n",
       " 'ENSG00000124215': 'CDH26',\n",
       " 'ENSG00000179242': 'CDH4',\n",
       " 'ENSG00000130699': 'TAF4',\n",
       " 'ENSG00000149657': 'LSM14B',\n",
       " 'ENSG00000101182': 'PSMA7',\n",
       " 'ENSG00000184402': 'SS18L1',\n",
       " 'ENSG00000101181': 'MTG2',\n",
       " 'ENSG00000101180': 'HRH3',\n",
       " 'ENSG00000130703': 'OSBPL2',\n",
       " 'ENSG00000130706': 'ADRM1',\n",
       " 'ENSG00000130702': 'LAMA5',\n",
       " 'ENSG00000171858': 'RPS21',\n",
       " 'ENSG00000149679': 'CABLES2',\n",
       " 'ENSG00000130701': 'RBBP8NL',\n",
       " 'ENSG00000130700': 'GATA5',\n",
       " 'ENSG00000101187': 'SLCO4A1',\n",
       " 'ENSG00000101188': 'NTSR1',\n",
       " 'ENSG00000101189': 'MRGBP',\n",
       " 'ENSG00000060491': 'OGFR',\n",
       " 'ENSG00000092758': 'COL9A3',\n",
       " 'ENSG00000101190': 'TCFL5',\n",
       " 'ENSG00000101191': 'DIDO1',\n",
       " 'ENSG00000101193': 'GID8',\n",
       " 'ENSG00000101194': 'SLC17A9',\n",
       " 'ENSG00000125533': 'BHLHE23',\n",
       " 'ENSG00000149658': 'YTHDF1',\n",
       " 'ENSG00000101197': 'BIRC7',\n",
       " 'ENSG00000101198': 'NKAIN4',\n",
       " 'ENSG00000101199': 'ARFGAP1',\n",
       " 'ENSG00000101203': 'COL20A1',\n",
       " 'ENSG00000101204': 'CHRNA4',\n",
       " 'ENSG00000075043': 'KCNQ2',\n",
       " 'ENSG00000101210': 'EEF1A2',\n",
       " 'ENSG00000125534': 'PPDPF',\n",
       " 'ENSG00000101213': 'PTK6',\n",
       " 'ENSG00000125508': 'SRMS',\n",
       " 'ENSG00000125531': 'FNDC11',\n",
       " 'ENSG00000130589': 'HELZ2',\n",
       " 'ENSG00000101216': 'GMEB2',\n",
       " 'ENSG00000197457': 'STMN3',\n",
       " 'ENSG00000258366': 'RTEL1',\n",
       " 'ENSG00000026036': 'RTEL1-TNFRSF6B',\n",
       " 'ENSG00000243509': 'TNFRSF6B',\n",
       " 'ENSG00000101246': 'ARFRP1',\n",
       " 'ENSG00000197114': 'ZGPAT',\n",
       " 'ENSG00000203896': 'LIME1',\n",
       " 'ENSG00000125520': 'SLC2A4RG',\n",
       " 'ENSG00000130584': 'ZBTB46',\n",
       " 'ENSG00000183260': 'ABHD16B',\n",
       " 'ENSG00000101150': 'TPD52L2',\n",
       " 'ENSG00000101152': 'DNAJC5',\n",
       " 'ENSG00000198276': 'UCKL1',\n",
       " 'ENSG00000196700': 'ZNF512B',\n",
       " 'ENSG00000130590': 'SAMD10',\n",
       " 'ENSG00000101161': 'PRPF6',\n",
       " 'ENSG00000203883': 'SOX18',\n",
       " 'ENSG00000171703': 'TCEA2',\n",
       " 'ENSG00000171700': 'RGS19',\n",
       " 'ENSG00000125510': 'OPRL1',\n",
       " 'ENSG00000171695': 'LKAAEAR1',\n",
       " 'ENSG00000125522': 'NPBWR2',\n",
       " 'ENSG00000196132': 'MYT1',\n",
       " 'ENSG00000203880': 'PCMTD2',\n",
       " 'ENSG00000188992': 'LIPI',\n",
       " 'ENSG00000185272': 'RBM11',\n",
       " 'ENSG00000155304': 'HSPA13',\n",
       " 'ENSG00000155307': 'SAMSN1',\n",
       " 'ENSG00000180530': 'NRIP1',\n",
       " 'ENSG00000155313': 'USP25',\n",
       " 'ENSG00000154639': 'CXADR',\n",
       " 'ENSG00000154640': 'BTG3',\n",
       " 'ENSG00000154642': 'C21orf91',\n",
       " 'ENSG00000154645': 'CHODL',\n",
       " 'ENSG00000154646': 'TMPRSS15',\n",
       " 'ENSG00000154654': 'NCAM2',\n",
       " 'ENSG00000154719': 'MRPL39',\n",
       " 'ENSG00000154721': 'JAM2',\n",
       " 'ENSG00000154723': 'ATP5PF',\n",
       " 'ENSG00000154727': 'GABPA',\n",
       " 'ENSG00000142192': 'APP',\n",
       " 'ENSG00000166265': 'CYYR1',\n",
       " 'ENSG00000154734': 'ADAMTS1',\n",
       " 'ENSG00000154736': 'ADAMTS5',\n",
       " 'ENSG00000156239': 'N6AMT1',\n",
       " 'ENSG00000198862': 'LTN1',\n",
       " 'ENSG00000156253': 'RWDD2B',\n",
       " 'ENSG00000156256': 'USP16',\n",
       " 'ENSG00000156261': 'CCT8',\n",
       " 'ENSG00000156265': 'MAP3K7CL',\n",
       " 'ENSG00000156273': 'BACH1',\n",
       " 'ENSG00000171189': 'GRIK1',\n",
       " 'ENSG00000156282': 'CLDN17',\n",
       " 'ENSG00000156284': 'CLDN8',\n",
       " 'ENSG00000188694': 'KRTAP24-1',\n",
       " 'ENSG00000232263': 'KRTAP25-1',\n",
       " 'ENSG00000197683': 'KRTAP26-1',\n",
       " 'ENSG00000206107': 'KRTAP27-1',\n",
       " 'ENSG00000186980': 'KRTAP23-1',\n",
       " 'ENSG00000182816': 'KRTAP13-2',\n",
       " 'ENSG00000198390': 'KRTAP13-1',\n",
       " 'ENSG00000240432': 'KRTAP13-3',\n",
       " 'ENSG00000186971': 'KRTAP13-4',\n",
       " 'ENSG00000186970': 'KRTAP15-1',\n",
       " 'ENSG00000184351': 'KRTAP19-1',\n",
       " 'ENSG00000186965': 'KRTAP19-2',\n",
       " 'ENSG00000244025': 'KRTAP19-3',\n",
       " 'ENSG00000186967': 'KRTAP19-4',\n",
       " 'ENSG00000186977': 'KRTAP19-5',\n",
       " 'ENSG00000186925': 'KRTAP19-6',\n",
       " 'ENSG00000244362': 'KRTAP19-7',\n",
       " 'ENSG00000206106': 'KRTAP22-2',\n",
       " 'ENSG00000212938': 'KRTAP6-3',\n",
       " 'ENSG00000186930': 'KRTAP6-2',\n",
       " 'ENSG00000186924': 'KRTAP22-1',\n",
       " 'ENSG00000184724': 'KRTAP6-1',\n",
       " 'ENSG00000244624': 'KRTAP20-1',\n",
       " 'ENSG00000184032': 'KRTAP20-2',\n",
       " 'ENSG00000206104': 'KRTAP20-3',\n",
       " 'ENSG00000231068': 'KRTAP21-3',\n",
       " 'ENSG00000187026': 'KRTAP21-2',\n",
       " 'ENSG00000183640': 'KRTAP8-1',\n",
       " 'ENSG00000274749': 'KRTAP7-1',\n",
       " 'ENSG00000182591': 'KRTAP11-1',\n",
       " 'ENSG00000206102': 'KRTAP19-8',\n",
       " 'ENSG00000156299': 'TIAM1',\n",
       " 'ENSG00000142168': 'SOD1',\n",
       " 'ENSG00000156304': 'SCAF4',\n",
       " 'ENSG00000142149': 'HUNK',\n",
       " 'ENSG00000159055': 'MIS18A',\n",
       " 'ENSG00000170262': 'MRAP',\n",
       " 'ENSG00000142207': 'URB1',\n",
       " 'ENSG00000166979': 'EVA1C',\n",
       " 'ENSG00000242220': 'TCP10L',\n",
       " 'ENSG00000265590': 'CFAP298-TCP10L',\n",
       " 'ENSG00000159079': 'CFAP298',\n",
       " 'ENSG00000159082': 'SYNJ1',\n",
       " 'ENSG00000159086': 'PAXBP1',\n",
       " 'ENSG00000205929': 'C21orf62',\n",
       " 'ENSG00000205927': 'OLIG2',\n",
       " 'ENSG00000184221': 'OLIG1',\n",
       " 'ENSG00000159110': 'IFNAR2',\n",
       " 'ENSG00000243646': 'IL10RB',\n",
       " 'ENSG00000142166': 'IFNAR1',\n",
       " 'ENSG00000159128': 'IFNGR2',\n",
       " 'ENSG00000142188': 'TMEM50B',\n",
       " 'ENSG00000177692': 'DNAJC28',\n",
       " 'ENSG00000159131': 'GART',\n",
       " 'ENSG00000159140': 'SON',\n",
       " 'ENSG00000159147': 'DONSON',\n",
       " 'ENSG00000205758': 'CRYZL1',\n",
       " 'ENSG00000205726': 'ITSN1',\n",
       " 'ENSG00000241837': 'ATP5PO',\n",
       " 'ENSG00000243927': 'MRPS6',\n",
       " 'ENSG00000198743': 'SLC5A3',\n",
       " 'ENSG00000159197': 'KCNE2',\n",
       " 'ENSG00000159200': 'RCAN1',\n",
       " 'ENSG00000159212': 'CLIC6',\n",
       " 'ENSG00000159216': 'RUNX1',\n",
       " 'ENSG00000185917': 'SETD4',\n",
       " 'ENSG00000159228': 'CBR1',\n",
       " 'ENSG00000159231': 'CBR3',\n",
       " 'ENSG00000142197': 'DOP1B',\n",
       " 'ENSG00000159256': 'MORC3',\n",
       " 'ENSG00000159259': 'CHAF1B',\n",
       " 'ENSG00000159261': 'CLDN14',\n",
       " 'ENSG00000159263': 'SIM2',\n",
       " 'ENSG00000159267': 'HLCS',\n",
       " 'ENSG00000183145': 'RIPPLY3',\n",
       " 'ENSG00000185808': 'PIGP',\n",
       " 'ENSG00000182670': 'TTC3',\n",
       " 'ENSG00000157538': 'VPS26C',\n",
       " 'ENSG00000157540': 'DYRK1A',\n",
       " 'ENSG00000157542': 'KCNJ6',\n",
       " 'ENSG00000157551': 'KCNJ15',\n",
       " 'ENSG00000157554': 'ERG',\n",
       " 'ENSG00000157557': 'ETS2',\n",
       " 'ENSG00000183527': 'PSMG1',\n",
       " 'ENSG00000185658': 'BRWD1',\n",
       " 'ENSG00000205581': 'HMGN1',\n",
       " 'ENSG00000182093': 'GET1',\n",
       " 'ENSG00000285815': 'GET1-SH3BGR',\n",
       " 'ENSG00000157578': 'LCA5L',\n",
       " 'ENSG00000185437': 'SH3BGR',\n",
       " 'ENSG00000183778': 'B3GALT5',\n",
       " 'ENSG00000183067': 'IGSF5',\n",
       " 'ENSG00000183036': 'PCP4',\n",
       " 'ENSG00000171587': 'DSCAM',\n",
       " 'ENSG00000182240': 'BACE2',\n",
       " 'ENSG00000183844': 'FAM3B',\n",
       " 'ENSG00000183486': 'MX2',\n",
       " 'ENSG00000157601': 'MX1',\n",
       " 'ENSG00000184012': 'TMPRSS2',\n",
       " 'ENSG00000183421': 'RIPK4',\n",
       " 'ENSG00000141956': 'PRDM15',\n",
       " 'ENSG00000157617': 'C2CD2',\n",
       " 'ENSG00000173276': 'ZBTB21',\n",
       " 'ENSG00000177398': 'UMODL1',\n",
       " 'ENSG00000160179': 'ABCG1',\n",
       " 'ENSG00000160180': 'TFF3',\n",
       " 'ENSG00000160181': 'TFF2',\n",
       " 'ENSG00000160182': 'TFF1',\n",
       " 'ENSG00000160183': 'TMPRSS3',\n",
       " 'ENSG00000160185': 'UBASH3A',\n",
       " 'ENSG00000160188': 'RSPH1',\n",
       " 'ENSG00000160190': 'SLC37A1',\n",
       " 'ENSG00000160191': 'PDE9A',\n",
       " 'ENSG00000160193': 'WDR4',\n",
       " 'ENSG00000160194': 'NDUFV3',\n",
       " 'ENSG00000160199': 'PKNOX1',\n",
       " 'ENSG00000160207': 'HSF2BP',\n",
       " 'ENSG00000160208': 'RRP1B',\n",
       " 'ENSG00000160209': 'PDXK',\n",
       " 'ENSG00000160213': 'CSTB',\n",
       " 'ENSG00000160214': 'RRP1',\n",
       " 'ENSG00000160216': 'AGPAT3',\n",
       " 'ENSG00000160218': 'TRAPPC10',\n",
       " 'ENSG00000142182': 'DNMT3L',\n",
       " 'ENSG00000160224': 'AIRE',\n",
       " 'ENSG00000141959': 'PFKL',\n",
       " 'ENSG00000160226': 'CFAP410',\n",
       " 'ENSG00000142185': 'TRPM2',\n",
       " 'ENSG00000160233': 'LRRC3',\n",
       " 'ENSG00000175894': 'TSPEAR',\n",
       " 'ENSG00000212935': 'KRTAP10-3',\n",
       " 'ENSG00000187766': 'KRTAP10-8',\n",
       " 'ENSG00000221859': 'KRTAP10-10',\n",
       " 'ENSG00000243489': 'KRTAP10-11',\n",
       " 'ENSG00000212933': 'KRTAP12-4',\n",
       " 'ENSG00000205439': 'KRTAP12-3',\n",
       " 'ENSG00000189169': 'KRTAP10-12',\n",
       " 'ENSG00000184787': 'UBE2G2',\n",
       " 'ENSG00000184900': 'SUMO3',\n",
       " 'ENSG00000183255': 'PTTG1IP',\n",
       " 'ENSG00000160255': 'ITGB2',\n",
       " 'ENSG00000160256': 'SLX9',\n",
       " 'ENSG00000197381': 'ADARB1',\n",
       " 'ENSG00000186866': 'POFUT2',\n",
       " 'ENSG00000182871': 'COL18A1',\n",
       " 'ENSG00000173638': 'SLC19A1',\n",
       " 'ENSG00000183570': 'PCBP3',\n",
       " 'ENSG00000142156': 'COL6A1',\n",
       " 'ENSG00000142173': 'COL6A2',\n",
       " 'ENSG00000160282': 'FTCD',\n",
       " 'ENSG00000160284': 'SPATC1L',\n",
       " 'ENSG00000160285': 'LSS',\n",
       " 'ENSG00000160294': 'MCM3AP',\n",
       " 'ENSG00000182362': 'YBEY',\n",
       " 'ENSG00000160298': 'C21orf58',\n",
       " 'ENSG00000160299': 'PCNT',\n",
       " 'ENSG00000160305': 'DIP2A',\n",
       " 'ENSG00000160307': 'S100B',\n",
       " 'ENSG00000160310': 'PRMT2'}"
      ]
     },
     "execution_count": 3,
     "metadata": {},
     "output_type": "execute_result"
    }
   ],
   "source": [
    "gene_map"
   ]
  },
  {
   "cell_type": "code",
   "execution_count": null,
   "id": "b948182d",
   "metadata": {},
   "outputs": [],
   "source": []
  },
  {
   "cell_type": "code",
   "execution_count": 2,
   "id": "15c33768",
   "metadata": {},
   "outputs": [
    {
     "data": {
      "text/plain": [
       "False"
      ]
     },
     "execution_count": 2,
     "metadata": {},
     "output_type": "execute_result"
    }
   ],
   "source": [
    "\"a\" in gene_map"
   ]
  },
  {
   "cell_type": "code",
   "execution_count": null,
   "id": "ed52c6b4",
   "metadata": {},
   "outputs": [],
   "source": []
  },
  {
   "cell_type": "code",
   "execution_count": 19,
   "id": "f19d99f0",
   "metadata": {},
   "outputs": [
    {
     "name": "stdout",
     "output_type": "stream",
     "text": [
      "MYLK2\n",
      "FOXS1\n",
      "DUSP15\n",
      "TTLL9\n",
      "PDRG1\n",
      "XKR7\n",
      "CCM2L\n",
      "HCK\n",
      "TM9SF4\n",
      "POFUT1\n",
      "KIF3B\n",
      "ASXL1\n",
      "NOL4L\n",
      "C20orf203\n",
      "COMMD7\n",
      "DNMT3B\n",
      "MAPRE1\n",
      "EFCAB8\n",
      "SUN5\n",
      "BPIFB2\n",
      "BPIFB6\n",
      "BPIFB3\n",
      "BPIFB4\n",
      "BPIFA2\n",
      "BPIFA3\n",
      "BPIFA1\n",
      "BPIFB1\n",
      "CDK5RAP1\n",
      "SNTA1\n",
      "CBFA2T2\n",
      "NECAB3\n",
      "C20orf144\n",
      "E2F1\n",
      "PXMP4\n",
      "ZNF341\n",
      "CHMP4B\n",
      "RALY\n",
      "EIF2S2\n",
      "ASIP\n",
      "AHCY\n",
      "ITCH\n",
      "DYNLRB1\n",
      "MAP1LC3A\n",
      "PIGU\n",
      "TP53INP2\n",
      "NCOA6\n",
      "GGT7\n",
      "ACSS2\n",
      "GSS\n",
      "MYH7B\n",
      "TRPC4AP\n",
      "EDEM2\n",
      "PROCR\n",
      "MMP24\n",
      "EIF6\n",
      "FAM83C\n",
      "UQCC1\n",
      "GDF5\n",
      "CEP250\n",
      "C20orf173\n",
      "ERGIC3\n",
      "SPAG4\n",
      "CPNE1\n",
      "RBM12\n",
      "NFS1\n",
      "ROMO1\n",
      "RBM39\n",
      "PHF20\n",
      "SCAND1\n",
      "CNBD2\n",
      "EPB41L1\n",
      "AAR2\n",
      "DLGAP4\n",
      "MYL9\n",
      "TGIF2\n",
      "TGIF2-RAB5IF\n",
      "RAB5IF\n",
      "SLA2\n",
      "NDRG3\n",
      "DSN1\n",
      "SOGA1\n",
      "TLDC2\n",
      "SAMHD1\n",
      "RBL1\n",
      "MROH8\n",
      "RPN2\n",
      "GHRH\n",
      "MANBAL\n",
      "SRC\n",
      "BLCAP\n",
      "NNAT\n",
      "CTNNBL1\n",
      "VSTM2L\n",
      "TTI1\n",
      "RPRD1B\n",
      "TGM2\n",
      "KIAA1755\n",
      "BPI\n",
      "LBP\n",
      "RALGAPB\n",
      "ADIG\n",
      "ARHGAP40\n",
      "SLC32A1\n",
      "ACTR5\n",
      "PPP1R16B\n",
      "FAM83D\n",
      "DHX35\n",
      "MAFB\n",
      "TOP1\n",
      "PLCG1\n",
      "ZHX3\n",
      "LPIN3\n",
      "EMILIN3\n",
      "CHD6\n",
      "PTPRT\n",
      "L3MBTL1\n",
      "SGK2\n",
      "IFT52\n",
      "MYBL2\n",
      "GTSF1L\n",
      "TOX2\n",
      "JPH2\n",
      "OSER1\n",
      "GDAP1L1\n",
      "FITM2\n",
      "R3HDML\n",
      "HNF4A\n",
      "TTPAL\n",
      "SERINC3\n",
      "PKIG\n",
      "ADA\n",
      "CCN5\n",
      "KCNK15\n",
      "RIMS4\n",
      "YWHAB\n",
      "PABPC1L\n",
      "TOMM34\n",
      "STK4\n",
      "KCNS1\n",
      "WFDC5\n",
      "WFDC12\n",
      "PI3\n",
      "SEMG1\n",
      "SEMG2\n",
      "SLPI\n",
      "MATN4\n",
      "RBPJL\n",
      "SDC4\n",
      "SYS1\n",
      "SYS1-DBNDD2\n",
      "TP53TG5\n",
      "DBNDD2\n",
      "PIGT\n",
      "WFDC2\n",
      "SPINT3\n",
      "WFDC6\n",
      "EPPIN-WFDC6\n",
      "EPPIN\n",
      "WFDC8\n",
      "WFDC9\n",
      "WFDC10A\n",
      "WFDC11\n",
      "WFDC10B\n",
      "WFDC13\n",
      "SPINT4\n",
      "WFDC3\n",
      "DNTTIP1\n",
      "UBE2C\n",
      "TNNC2\n",
      "SNX21\n",
      "ACOT8\n",
      "ZSWIM3\n",
      "ZSWIM1\n",
      "SPATA25\n",
      "NEURL2\n",
      "CTSA\n",
      "PLTP\n",
      "PCIF1\n",
      "ZNF335\n",
      "MMP9\n",
      "SLC12A5\n",
      "NCOA5\n",
      "CD40\n",
      "CDH22\n",
      "SLC35C2\n",
      "ELMO2\n",
      "ZNF334\n",
      "OCSTAMP\n",
      "SLC13A3\n",
      "TP53RK\n",
      "SLC2A10\n",
      "EYA2\n",
      "ZMYND8\n",
      "NCOA3\n",
      "SULF2\n",
      "PREX1\n",
      "ARFGEF2\n",
      "CSE1L\n",
      "STAU1\n",
      "DDX27\n",
      "ZNFX1\n",
      "KCNB1\n",
      "PTGIS\n",
      "B4GALT5\n",
      "SLC9A8\n",
      "SPATA2\n",
      "RNF114\n",
      "SNAI1\n",
      "PEDS1-UBE2V1\n",
      "UBE2V1\n",
      "PEDS1\n",
      "CEBPB\n",
      "PTPN1\n",
      "RIPOR3\n",
      "PARD6B\n",
      "BCAS4\n",
      "ADNP\n",
      "DPM1\n",
      "MOCS3\n",
      "KCNG1\n",
      "NFATC2\n",
      "ATP9A\n",
      "SALL4\n",
      "ZFP64\n",
      "TSHZ2\n",
      "ZNF217\n",
      "BCAS1\n",
      "CYP24A1\n",
      "PFDN4\n",
      "DOK5\n",
      "CBLN4\n",
      "MC3R\n",
      "FAM210B\n",
      "AURKA\n",
      "CSTF1\n",
      "CASS4\n",
      "RTF2\n",
      "GCNT7\n",
      "FAM209A\n",
      "FAM209B\n",
      "TFAP2C\n",
      "BMP7\n",
      "SPO11\n",
      "RAE1\n",
      "RBM38\n",
      "CTCFL\n",
      "PCK1\n",
      "ZBP1\n",
      "PMEPA1\n",
      "C20orf85\n",
      "ANKRD60\n",
      "RAB22A\n",
      "VAPB\n",
      "APCDD1L\n",
      "STX16\n",
      "STX16-NPEPL1\n",
      "NPEPL1\n",
      "GNAS\n",
      "NELFCD\n",
      "CTSZ\n",
      "TUBB1\n",
      "ATP5F1E\n",
      "PRELID3B\n",
      "ZNF831\n",
      "EDN3\n",
      "PHACTR3\n",
      "SYCP2\n",
      "PPP1R3D\n",
      "FAM217B\n",
      "CDH26\n",
      "CDH4\n",
      "TAF4\n",
      "LSM14B\n",
      "PSMA7\n",
      "SS18L1\n",
      "MTG2\n",
      "HRH3\n",
      "OSBPL2\n",
      "ADRM1\n",
      "LAMA5\n",
      "RPS21\n",
      "CABLES2\n",
      "RBBP8NL\n",
      "GATA5\n",
      "SLCO4A1\n",
      "NTSR1\n",
      "MRGBP\n",
      "OGFR\n",
      "COL9A3\n",
      "TCFL5\n",
      "DIDO1\n",
      "GID8\n",
      "SLC17A9\n",
      "BHLHE23\n",
      "YTHDF1\n",
      "BIRC7\n",
      "NKAIN4\n",
      "ARFGAP1\n",
      "COL20A1\n",
      "CHRNA4\n",
      "KCNQ2\n",
      "EEF1A2\n",
      "PPDPF\n",
      "PTK6\n",
      "SRMS\n",
      "FNDC11\n",
      "HELZ2\n",
      "GMEB2\n",
      "STMN3\n",
      "RTEL1\n",
      "RTEL1-TNFRSF6B\n",
      "TNFRSF6B\n",
      "ARFRP1\n",
      "ZGPAT\n",
      "LIME1\n",
      "SLC2A4RG\n",
      "ZBTB46\n",
      "ABHD16B\n",
      "TPD52L2\n",
      "DNAJC5\n",
      "UCKL1\n",
      "ZNF512B\n",
      "SAMD10\n",
      "PRPF6\n",
      "SOX18\n",
      "TCEA2\n",
      "RGS19\n",
      "OPRL1\n",
      "LKAAEAR1\n",
      "NPBWR2\n",
      "MYT1\n",
      "PCMTD2\n"
     ]
    }
   ],
   "source": [
    "import mygene\n",
    "mg = mygene.MyGeneInfo()\n",
    "\n",
    "for row in range(0, len(gene_associations)):\n",
    "    try:\n",
    "        print(mg.getgene(gene_associations[\"Region\"][row])[\"symbol\"])\n",
    "    except: pass"
   ]
  },
  {
   "cell_type": "code",
   "execution_count": 41,
   "id": "3ba6ed43",
   "metadata": {},
   "outputs": [
    {
     "name": "stdout",
     "output_type": "stream",
     "text": [
      "        CHR       POS                           MarkerID           Allele1  \\\n",
      "0     chr20     87766                   chr20:87766:AG:A                AG   \n",
      "1     chr20     96058                    chr20:96058:C:T                 C   \n",
      "2     chr20     96120                 chr20:96120:TATA:T              TATA   \n",
      "3     chr20     96142                    chr20:96142:C:T                 C   \n",
      "4     chr20     96145                    chr20:96145:C:T                 C   \n",
      "...     ...       ...                                ...               ...   \n",
      "1358  chr20  64106449              chr20:64106449:ATGT:A              ATGT   \n",
      "1359  chr20  64273302               chr20:64273302:CTG:C               CTG   \n",
      "1360  chr20  64273431  chr20:64273431:CAGATGACAACAGCTG:C  CAGATGACAACAGCTG   \n",
      "1361  chr20  64273471              chr20:64273471:G:GGAA                 G   \n",
      "1362  chr20  64273471              chr20:64273471:GGAA:G              GGAA   \n",
      "\n",
      "     Allele2  AC_Allele2  AF_Allele2  MissingRate      BETA       SE  \\\n",
      "0          A           1    0.000074          0.0 -1.111670  3.37488   \n",
      "1          T           1    0.000074          0.0 -1.259640  2.64887   \n",
      "2          T           1    0.000074          0.0 -1.137040  3.09324   \n",
      "3          T           2    0.000148          0.0  2.721060  1.97545   \n",
      "4          T           3    0.000222          0.0  2.946780  2.01572   \n",
      "...      ...         ...         ...          ...       ...      ...   \n",
      "1358       A           1    0.000074          0.0 -1.116840  3.27646   \n",
      "1359       C           1    0.000074          0.0  3.229990  2.16479   \n",
      "1360       C           1    0.000074          0.0  4.308710  2.36997   \n",
      "1361    GGAA           1    0.000074          0.0 -1.125850  3.18569   \n",
      "1362       G           6    0.000444          0.0  0.047073  1.13672   \n",
      "\n",
      "         Tstat       var   p.value  p.value.NA  Is.SPA   AF_case   AF_ctrl  \\\n",
      "0    -0.097602  0.087798  0.741857    0.741857   False  0.000000  0.000089   \n",
      "1    -0.179525  0.142521  0.634403    0.634403   False  0.000000  0.000089   \n",
      "2    -0.118836  0.104514  0.713179    0.713179   False  0.000000  0.000089   \n",
      "3     0.697281  0.256253  0.168376    0.168376   False  0.000439  0.000089   \n",
      "4     0.725246  0.246115  0.143770    0.143770   False  0.000439  0.000178   \n",
      "...        ...       ...       ...         ...     ...       ...       ...   \n",
      "1358 -0.104036  0.093151  0.733202    0.733202   False  0.000000  0.000089   \n",
      "1359  0.689236  0.213386  0.135685    0.135685   False  0.000439  0.000000   \n",
      "1360  0.767120  0.178039  0.069057    0.069057   False  0.000439  0.000000   \n",
      "1361 -0.110936  0.098535  0.723784    0.723784   False  0.000000  0.000089   \n",
      "1362  0.036431  0.773918  0.966968    0.966968   False  0.000439  0.000445   \n",
      "\n",
      "      N_case  N_ctrl  \n",
      "0       1139    5614  \n",
      "1       1139    5614  \n",
      "2       1139    5614  \n",
      "3       1139    5614  \n",
      "4       1139    5614  \n",
      "...      ...     ...  \n",
      "1358    1139    5614  \n",
      "1359    1139    5614  \n",
      "1360    1139    5614  \n",
      "1361    1139    5614  \n",
      "1362    1139    5614  \n",
      "\n",
      "[1363 rows x 19 columns]         CHR       POS                                           MarkerID  \\\n",
      "0     chr20     96058                                    chr20:96058:C:T   \n",
      "1     chr20     96300  chr20:96300:TGAGACTACTATGCCACCATCTGAGGCCACTACT...   \n",
      "2     chr20    145458                                chr20:145458:CAAG:C   \n",
      "3     chr20    145465                                   chr20:145465:A:T   \n",
      "4     chr20    145514                               chr20:145514:GCAAA:G   \n",
      "...     ...       ...                                                ...   \n",
      "1423  chr20  64097962                              chr20:64097962:TACA:T   \n",
      "1424  chr20  64098440                                 chr20:64098440:C:T   \n",
      "1425  chr20  64105880                              chr20:64105880:AGGC:A   \n",
      "1426  chr20  64106408                                 chr20:64106408:G:A   \n",
      "1427  chr20  64219792                  chr20:64219792:CCAGCAGCAGCAGCTG:C   \n",
      "\n",
      "                                    Allele1 Allele2  AC_Allele2  AF_Allele2  \\\n",
      "0                                         C       T           3    0.000219   \n",
      "1     TGAGACTACTATGCCACCATCTGAGGCCACTACTCCC       T           1    0.000073   \n",
      "2                                      CAAG       C           6    0.000438   \n",
      "3                                         A       T           3    0.000219   \n",
      "4                                     GCAAA       G        2403    0.175581   \n",
      "...                                     ...     ...         ...         ...   \n",
      "1423                                   TACA       T           6    0.000438   \n",
      "1424                                      C       T           1    0.000073   \n",
      "1425                                   AGGC       A           3    0.000219   \n",
      "1426                                      G       A           2    0.000146   \n",
      "1427                       CCAGCAGCAGCAGCTG       C           1    0.000073   \n",
      "\n",
      "      MissingRate      BETA        SE     Tstat         var   p.value  \\\n",
      "0        0.000000  2.524220  1.398530  1.290570    0.511274  0.071090   \n",
      "1        0.000000 -1.419760  2.242460 -0.282336    0.198862  0.526651   \n",
      "2        0.000000  1.684980  1.008780  1.655780    0.982670  0.094857   \n",
      "3        0.000000  0.348479  1.356970  0.189249    0.543071  0.797329   \n",
      "4        0.000292  0.022186  0.054348  7.511490  338.562000  0.683103   \n",
      "...           ...       ...       ...       ...         ...       ...   \n",
      "1423     0.000000 -0.683510  0.942409 -0.769602    1.125960  0.468280   \n",
      "1424     0.000000  4.147930  2.343680  0.755151    0.182055  0.076755   \n",
      "1425     0.000000  0.262851  1.296420  0.156393    0.594987  0.839330   \n",
      "1426     0.000000  0.830961  1.617060  0.317780    0.382424  0.607343   \n",
      "1427     0.000146  2.566940  2.070960  0.598510    0.233161  0.215164   \n",
      "\n",
      "      p.value.NA  Is.SPA   AF_case   AF_ctrl  N_case  N_ctrl  \n",
      "0       0.071090   False  0.000572  0.000098    1747    5096  \n",
      "1       0.526651   False  0.000000  0.000098    1747    5096  \n",
      "2       0.094857   False  0.000859  0.000294    1747    5096  \n",
      "3       0.797329   False  0.000286  0.000196    1747    5096  \n",
      "4       0.683103   False  0.177447  0.174941    1747    5096  \n",
      "...          ...     ...       ...       ...     ...     ...  \n",
      "1423    0.468280   False  0.000286  0.000491    1747    5096  \n",
      "1424    0.076755   False  0.000286  0.000000    1747    5096  \n",
      "1425    0.839330   False  0.000286  0.000196    1747    5096  \n",
      "1426    0.607343   False  0.000286  0.000098    1747    5096  \n",
      "1427    0.215164   False  0.000286  0.000000    1747    5096  \n",
      "\n",
      "[1428 rows x 19 columns]          CHR       POS                       MarkerID Allele1       Allele2  \\\n",
      "0      chr20     96004                chr20:96004:G:A       G             A   \n",
      "1      chr20     96013                chr20:96013:G:T       G             T   \n",
      "2      chr20     96058                chr20:96058:C:T       C             T   \n",
      "3      chr20     96081                chr20:96081:C:G       C             G   \n",
      "4      chr20     96111               chr20:96111:CT:C      CT             C   \n",
      "...      ...       ...                            ...     ...           ...   \n",
      "15436  chr20  64273466  chr20:64273466:C:CGGAGGGAAGAA       C  CGGAGGGAAGAA   \n",
      "15437  chr20  64273471          chr20:64273471:GGAA:G    GGAA             G   \n",
      "15438  chr20  64273476        chr20:64273476:AAGAAG:A  AAGAAG             A   \n",
      "15439  chr20  64273480          chr20:64273480:AGAG:A    AGAG             A   \n",
      "15440  chr20  64273491            chr20:64273491:C:CG       C            CG   \n",
      "\n",
      "       AC_Allele2  AF_Allele2  MissingRate      BETA        SE     Tstat  \\\n",
      "0              10    0.000012     0.000010 -1.138060  1.191660 -0.801413   \n",
      "1              51    0.000063     0.000007  0.026146  0.535463  0.091191   \n",
      "2              11    0.000014     0.000002 -1.139440  1.062950 -1.008480   \n",
      "3               1    0.000001     0.000000 -1.100780  3.598530 -0.085007   \n",
      "4              78    0.000097     0.000000  0.093206  0.447003  0.466468   \n",
      "...           ...         ...          ...       ...       ...       ...   \n",
      "15436           1    0.000001     0.000042 -1.083740  3.924020 -0.070382   \n",
      "15437           2    0.000002     0.000020  6.622130  3.660420  0.859138   \n",
      "15438           3    0.000004     0.000007 -1.111280  2.116480 -0.248082   \n",
      "15439          12    0.000015     0.000010  1.295870  1.096930  1.076960   \n",
      "15440           1    0.000001     0.000035 -1.138680  3.141540 -0.115376   \n",
      "\n",
      "            var   p.value  p.value.NA  Is.SPA   AF_case   AF_ctrl  N_case  \\\n",
      "0      0.704193  0.339570    0.339570   False  0.000000  0.000013   29311   \n",
      "1      3.487720  0.961055    0.961055   False  0.000068  0.000063   29311   \n",
      "2      0.885068  0.283736    0.283736   False  0.000000  0.000015   29311   \n",
      "3      0.077224  0.759682    0.759682   False  0.000000  0.000001   29311   \n",
      "4      5.004720  0.834829    0.834829   False  0.000102  0.000096   29311   \n",
      "...         ...       ...         ...     ...       ...       ...     ...   \n",
      "15436  0.064944  0.782410    0.782410   False  0.000000  0.000001   29311   \n",
      "15437  0.129737  0.070433    0.017068   False  0.000017  0.000001   29311   \n",
      "15438  0.223240  0.599542    0.599542   False  0.000000  0.000004   29311   \n",
      "15439  0.831073  0.237462    0.237462   False  0.000034  0.000013   29311   \n",
      "15440  0.101325  0.717009    0.717009   False  0.000000  0.000001   29311   \n",
      "\n",
      "       N_ctrl  \n",
      "0      373064  \n",
      "1      373064  \n",
      "2      373064  \n",
      "3      373064  \n",
      "4      373064  \n",
      "...       ...  \n",
      "15436  373064  \n",
      "15437  373064  \n",
      "15438  373064  \n",
      "15439  373064  \n",
      "15440  373064  \n",
      "\n",
      "[15441 rows x 19 columns]\n"
     ]
    },
    {
     "data": {
      "image/png": "[encoded data removed]",
      "text/plain": [
       "<Figure size 1440x1440 with 1 Axes>"
      ]
     },
     "metadata": {
      "needs_background": "light"
     },
     "output_type": "display_data"
    }
   ],
   "source": [
    "plt.rcParams['figure.figsize'] = [20, 20]\n",
    "\n",
    "assocs_afr = pd.read_csv(\"14_11_data/saige_variant_chr20/AFR.txt\", sep='\\t')\n",
    "assocs_sas = pd.read_csv(\"14_11_data/saige_variant_chr20/SAS.txt\", sep='\\t')\n",
    "assocs_eur = pd.read_csv(\"14_11_data/saige_variant_chr20/EUR.txt\", sep='\\t')\n",
    "\n",
    "fig, ax = plt.subplots()\n",
    "\n",
    "print(assocs_afr, assocs_sas, assocs_eur)\n",
    "\n",
    "#ax.scatter([-math.log(p) for p in np.linspace(0, 1, num=len(assocs_afr[\"p.value\"])+1)[1:]],\n",
    "#           [-math.log(p) for p in assocs_afr[\"p.value\"].sort_values()], label=\"AFR\",s=10)\n",
    "\n",
    "#ax.scatter([-math.log(p) for p in np.linspace(0, 1, num=len(assocs_sas[\"p.value\"])+1)[1:]],\n",
    "#           [-math.log(p) for p in assocs_sas[\"p.value\"].sort_values()], label=\"SAS\",s=10)\n",
    "\n",
    "ax.scatter([-math.log10(p) for p in np.linspace(0, 1, num=len(assocs_eur[assocs_eur[\"AC_Allele2\"] > 20][\"p.value\"])+1)[1:]],\n",
    "           [-math.log10(p) for p in assocs_eur[assocs_eur[\"AC_Allele2\"] > 20][\"p.value\"].sort_values()], label=\"EUR\",s=10)\n",
    "\n",
    "ax.axline((0, 0), slope=1)\n",
    "ax.set_aspect('equal', adjustable='box')\n",
    "\n",
    "ax.legend()\n",
    "\n",
    "plt.show()\n"
   ]
  },
  {
   "cell_type": "code",
   "execution_count": 12,
   "id": "d5c31730",
   "metadata": {},
   "outputs": [
    {
     "name": "stderr",
     "output_type": "stream",
     "text": [
      "/tmp/ipykernel_190974/2816642777.py:1: SettingWithCopyWarning: \n",
      "A value is trying to be set on a copy of a slice from a DataFrame\n",
      "\n",
      "See the caveats in the documentation: https://pandas.pydata.org/pandas-docs/stable/user_guide/indexing.html#returning-a-view-versus-a-copy\n",
      "  gene_associations[\"Region\"][1:4] = [1]*3\n"
     ]
    }
   ],
   "source": [
    "gene_associations[\"Region\"][1:4] = [1]*3"
   ]
  },
  {
   "cell_type": "code",
   "execution_count": 28,
   "id": "6b5cf2e2",
   "metadata": {},
   "outputs": [
    {
     "data": {
      "text/html": [
       "<div>\n",
       "<style scoped>\n",
       "    .dataframe tbody tr th:only-of-type {\n",
       "        vertical-align: middle;\n",
       "    }\n",
       "\n",
       "    .dataframe tbody tr th {\n",
       "        vertical-align: top;\n",
       "    }\n",
       "\n",
       "    .dataframe thead th {\n",
       "        text-align: right;\n",
       "    }\n",
       "</style>\n",
       "<table border=\"1\" class=\"dataframe\">\n",
       "  <thead>\n",
       "    <tr style=\"text-align: right;\">\n",
       "      <th></th>\n",
       "      <th>Gene Name</th>\n",
       "      <th>Gene Id</th>\n",
       "      <th>P‑Value SKATO</th>\n",
       "      <th>P‑Value Burden</th>\n",
       "      <th>P‑Value SKAT</th>\n",
       "      <th>BETA Burden</th>\n",
       "      <th>Burden Set</th>\n",
       "      <th>Chrom : Position</th>\n",
       "      <th>Chrom</th>\n",
       "      <th>Position</th>\n",
       "      <th>Details</th>\n",
       "    </tr>\n",
       "  </thead>\n",
       "  <tbody>\n",
       "    <tr>\n",
       "      <th>7</th>\n",
       "      <td>KRTAP10-8</td>\n",
       "      <td>ENSG00000187766</td>\n",
       "      <td>0.000106</td>\n",
       "      <td>0.000237</td>\n",
       "      <td>0.000104</td>\n",
       "      <td>0.078679</td>\n",
       "      <td>pLoF</td>\n",
       "      <td>2.104461e+10</td>\n",
       "      <td>21</td>\n",
       "      <td>44612022.0</td>\n",
       "      <td>NaN</td>\n",
       "    </tr>\n",
       "    <tr>\n",
       "      <th>47</th>\n",
       "      <td>C2CD2</td>\n",
       "      <td>ENSG00000157617</td>\n",
       "      <td>0.001400</td>\n",
       "      <td>0.002338</td>\n",
       "      <td>0.001748</td>\n",
       "      <td>-0.020249</td>\n",
       "      <td>pLoF</td>\n",
       "      <td>2.104189e+10</td>\n",
       "      <td>21</td>\n",
       "      <td>41889081.0</td>\n",
       "      <td>NaN</td>\n",
       "    </tr>\n",
       "    <tr>\n",
       "      <th>43</th>\n",
       "      <td>ADNP</td>\n",
       "      <td>ENSG00000101126</td>\n",
       "      <td>0.001239</td>\n",
       "      <td>0.003616</td>\n",
       "      <td>0.001158</td>\n",
       "      <td>0.041304</td>\n",
       "      <td>pLoF</td>\n",
       "      <td>2.005089e+10</td>\n",
       "      <td>20</td>\n",
       "      <td>50890832.0</td>\n",
       "      <td>NaN</td>\n",
       "    </tr>\n",
       "    <tr>\n",
       "      <th>174</th>\n",
       "      <td>MYL9</td>\n",
       "      <td>ENSG00000101335</td>\n",
       "      <td>0.007048</td>\n",
       "      <td>0.003738</td>\n",
       "      <td>0.060981</td>\n",
       "      <td>-0.050653</td>\n",
       "      <td>pLoF</td>\n",
       "      <td>2.003654e+10</td>\n",
       "      <td>20</td>\n",
       "      <td>36544791.0</td>\n",
       "      <td>NaN</td>\n",
       "    </tr>\n",
       "    <tr>\n",
       "      <th>171</th>\n",
       "      <td>ARFGEF2</td>\n",
       "      <td>ENSG00000124198</td>\n",
       "      <td>0.006989</td>\n",
       "      <td>0.003879</td>\n",
       "      <td>0.093231</td>\n",
       "      <td>0.030322</td>\n",
       "      <td>pLoF</td>\n",
       "      <td>2.004892e+10</td>\n",
       "      <td>20</td>\n",
       "      <td>48921762.0</td>\n",
       "      <td>NaN</td>\n",
       "    </tr>\n",
       "    <tr>\n",
       "      <th>...</th>\n",
       "      <td>...</td>\n",
       "      <td>...</td>\n",
       "      <td>...</td>\n",
       "      <td>...</td>\n",
       "      <td>...</td>\n",
       "      <td>...</td>\n",
       "      <td>...</td>\n",
       "      <td>...</td>\n",
       "      <td>...</td>\n",
       "      <td>...</td>\n",
       "      <td>...</td>\n",
       "    </tr>\n",
       "    <tr>\n",
       "      <th>13764</th>\n",
       "      <td>KRTAP6-1</td>\n",
       "      <td>ENSG00000184724</td>\n",
       "      <td>0.756549</td>\n",
       "      <td>NaN</td>\n",
       "      <td>NaN</td>\n",
       "      <td>NaN</td>\n",
       "      <td>pLoF</td>\n",
       "      <td>2.103061e+10</td>\n",
       "      <td>21</td>\n",
       "      <td>30613507.0</td>\n",
       "      <td>NaN</td>\n",
       "    </tr>\n",
       "    <tr>\n",
       "      <th>14488</th>\n",
       "      <td>KRTAP10-7</td>\n",
       "      <td>ENSG00000272804</td>\n",
       "      <td>0.793099</td>\n",
       "      <td>NaN</td>\n",
       "      <td>NaN</td>\n",
       "      <td>NaN</td>\n",
       "      <td>pLoF</td>\n",
       "      <td>2.104460e+10</td>\n",
       "      <td>21</td>\n",
       "      <td>44600515.0</td>\n",
       "      <td>NaN</td>\n",
       "    </tr>\n",
       "    <tr>\n",
       "      <th>15228</th>\n",
       "      <td>SPINT3</td>\n",
       "      <td>ENSG00000101446</td>\n",
       "      <td>0.828757</td>\n",
       "      <td>NaN</td>\n",
       "      <td>NaN</td>\n",
       "      <td>NaN</td>\n",
       "      <td>pLoF</td>\n",
       "      <td>2.004551e+10</td>\n",
       "      <td>20</td>\n",
       "      <td>45512583.0</td>\n",
       "      <td>NaN</td>\n",
       "    </tr>\n",
       "    <tr>\n",
       "      <th>15752</th>\n",
       "      <td>SSTR4</td>\n",
       "      <td>ENSG00000132671</td>\n",
       "      <td>0.856414</td>\n",
       "      <td>NaN</td>\n",
       "      <td>NaN</td>\n",
       "      <td>NaN</td>\n",
       "      <td>pLoF</td>\n",
       "      <td>2.002304e+10</td>\n",
       "      <td>20</td>\n",
       "      <td>23035400.0</td>\n",
       "      <td>NaN</td>\n",
       "    </tr>\n",
       "    <tr>\n",
       "      <th>15809</th>\n",
       "      <td>KRTAP27-1</td>\n",
       "      <td>ENSG00000206107</td>\n",
       "      <td>0.859577</td>\n",
       "      <td>NaN</td>\n",
       "      <td>NaN</td>\n",
       "      <td>NaN</td>\n",
       "      <td>pLoF</td>\n",
       "      <td>2.103034e+10</td>\n",
       "      <td>21</td>\n",
       "      <td>30336966.0</td>\n",
       "      <td>NaN</td>\n",
       "    </tr>\n",
       "  </tbody>\n",
       "</table>\n",
       "<p>710 rows × 11 columns</p>\n",
       "</div>"
      ],
      "text/plain": [
       "       Gene Name          Gene Id  P‑Value SKATO  P‑Value Burden  \\\n",
       "7      KRTAP10-8  ENSG00000187766       0.000106        0.000237   \n",
       "47         C2CD2  ENSG00000157617       0.001400        0.002338   \n",
       "43          ADNP  ENSG00000101126       0.001239        0.003616   \n",
       "174         MYL9  ENSG00000101335       0.007048        0.003738   \n",
       "171      ARFGEF2  ENSG00000124198       0.006989        0.003879   \n",
       "...          ...              ...            ...             ...   \n",
       "13764   KRTAP6-1  ENSG00000184724       0.756549             NaN   \n",
       "14488  KRTAP10-7  ENSG00000272804       0.793099             NaN   \n",
       "15228     SPINT3  ENSG00000101446       0.828757             NaN   \n",
       "15752      SSTR4  ENSG00000132671       0.856414             NaN   \n",
       "15809  KRTAP27-1  ENSG00000206107       0.859577             NaN   \n",
       "\n",
       "       P‑Value SKAT  BETA Burden Burden Set  Chrom : Position Chrom  \\\n",
       "7          0.000104     0.078679       pLoF      2.104461e+10    21   \n",
       "47         0.001748    -0.020249       pLoF      2.104189e+10    21   \n",
       "43         0.001158     0.041304       pLoF      2.005089e+10    20   \n",
       "174        0.060981    -0.050653       pLoF      2.003654e+10    20   \n",
       "171        0.093231     0.030322       pLoF      2.004892e+10    20   \n",
       "...             ...          ...        ...               ...   ...   \n",
       "13764           NaN          NaN       pLoF      2.103061e+10    21   \n",
       "14488           NaN          NaN       pLoF      2.104460e+10    21   \n",
       "15228           NaN          NaN       pLoF      2.004551e+10    20   \n",
       "15752           NaN          NaN       pLoF      2.002304e+10    20   \n",
       "15809           NaN          NaN       pLoF      2.103034e+10    21   \n",
       "\n",
       "         Position  Details  \n",
       "7      44612022.0      NaN  \n",
       "47     41889081.0      NaN  \n",
       "43     50890832.0      NaN  \n",
       "174    36544791.0      NaN  \n",
       "171    48921762.0      NaN  \n",
       "...           ...      ...  \n",
       "13764  30613507.0      NaN  \n",
       "14488  44600515.0      NaN  \n",
       "15228  45512583.0      NaN  \n",
       "15752  23035400.0      NaN  \n",
       "15809  30336966.0      NaN  \n",
       "\n",
       "[710 rows x 11 columns]"
      ]
     },
     "execution_count": 28,
     "metadata": {},
     "output_type": "execute_result"
    }
   ],
   "source": [
    "gene_bass[(gene_bass[\"Chrom\"] == \"20\") | (gene_bass[\"Chrom\"] == \"21\")].sort_values(by=\"P‑Value Burden\")"
   ]
  },
  {
   "cell_type": "code",
   "execution_count": null,
   "id": "aade0264",
   "metadata": {},
   "outputs": [],
   "source": []
  },
  {
   "cell_type": "code",
   "execution_count": null,
   "id": "95130c42",
   "metadata": {},
   "outputs": [],
   "source": []
  },
  {
   "cell_type": "code",
   "execution_count": null,
   "id": "4f599247",
   "metadata": {},
   "outputs": [],
   "source": []
  },
  {
   "cell_type": "code",
   "execution_count": null,
   "id": "7c7d5951",
   "metadata": {},
   "outputs": [],
   "source": []
  },
  {
   "cell_type": "code",
   "execution_count": null,
   "id": "aa873cb3",
   "metadata": {},
   "outputs": [],
   "source": []
  },
  {
   "cell_type": "code",
   "execution_count": null,
   "id": "b248308a",
   "metadata": {},
   "outputs": [],
   "source": []
  },
  {
   "cell_type": "code",
   "execution_count": null,
   "id": "f97467fc",
   "metadata": {},
   "outputs": [],
   "source": []
  },
  {
   "cell_type": "code",
   "execution_count": null,
   "id": "d1216f9e",
   "metadata": {},
   "outputs": [],
   "source": []
  },
  {
   "cell_type": "code",
   "execution_count": 18,
   "id": "4eff7047",
   "metadata": {},
   "outputs": [
    {
     "data": {
      "text/html": [
       "<div>\n",
       "<style scoped>\n",
       "    .dataframe tbody tr th:only-of-type {\n",
       "        vertical-align: middle;\n",
       "    }\n",
       "\n",
       "    .dataframe tbody tr th {\n",
       "        vertical-align: top;\n",
       "    }\n",
       "\n",
       "    .dataframe thead th {\n",
       "        text-align: right;\n",
       "    }\n",
       "</style>\n",
       "<table border=\"1\" class=\"dataframe\">\n",
       "  <thead>\n",
       "    <tr style=\"text-align: right;\">\n",
       "      <th></th>\n",
       "      <th>Region</th>\n",
       "      <th>Group</th>\n",
       "      <th>max_MAF</th>\n",
       "      <th>Pvalue</th>\n",
       "      <th>Pvalue_Burden</th>\n",
       "      <th>Pvalue_SKAT</th>\n",
       "      <th>BETA_Burden</th>\n",
       "      <th>SE_Burden</th>\n",
       "      <th>MAC</th>\n",
       "      <th>MAC_case</th>\n",
       "      <th>MAC_control</th>\n",
       "      <th>Number_rare</th>\n",
       "      <th>Number_ultra_rare</th>\n",
       "    </tr>\n",
       "  </thead>\n",
       "  <tbody>\n",
       "    <tr>\n",
       "      <th>6481</th>\n",
       "      <td>ADNP</td>\n",
       "      <td>pLoF</td>\n",
       "      <td>0.01</td>\n",
       "      <td>0.000338</td>\n",
       "      <td>0.000168</td>\n",
       "      <td>0.000529</td>\n",
       "      <td>0.050083</td>\n",
       "      <td>0.013308</td>\n",
       "      <td>48.0</td>\n",
       "      <td>26.0</td>\n",
       "      <td>22.0</td>\n",
       "      <td>1.0</td>\n",
       "      <td>11.0</td>\n",
       "    </tr>\n",
       "    <tr>\n",
       "      <th>5908</th>\n",
       "      <td>SLC12A5</td>\n",
       "      <td>pLoF</td>\n",
       "      <td>0.01</td>\n",
       "      <td>0.000486</td>\n",
       "      <td>0.000286</td>\n",
       "      <td>0.001489</td>\n",
       "      <td>0.067383</td>\n",
       "      <td>0.018575</td>\n",
       "      <td>27.0</td>\n",
       "      <td>15.0</td>\n",
       "      <td>12.0</td>\n",
       "      <td>1.0</td>\n",
       "      <td>13.0</td>\n",
       "    </tr>\n",
       "    <tr>\n",
       "      <th>2449</th>\n",
       "      <td>NXT1</td>\n",
       "      <td>pLoF</td>\n",
       "      <td>0.01</td>\n",
       "      <td>0.000415</td>\n",
       "      <td>0.000415</td>\n",
       "      <td>0.000415</td>\n",
       "      <td>0.132810</td>\n",
       "      <td>0.037621</td>\n",
       "      <td>5.0</td>\n",
       "      <td>5.0</td>\n",
       "      <td>0.0</td>\n",
       "      <td>0.0</td>\n",
       "      <td>4.0</td>\n",
       "    </tr>\n",
       "    <tr>\n",
       "      <th>3648</th>\n",
       "      <td>ITCH</td>\n",
       "      <td>pLoF</td>\n",
       "      <td>0.01</td>\n",
       "      <td>0.001263</td>\n",
       "      <td>0.001263</td>\n",
       "      <td>0.001263</td>\n",
       "      <td>0.049650</td>\n",
       "      <td>0.015399</td>\n",
       "      <td>36.0</td>\n",
       "      <td>20.0</td>\n",
       "      <td>16.0</td>\n",
       "      <td>0.0</td>\n",
       "      <td>22.0</td>\n",
       "    </tr>\n",
       "    <tr>\n",
       "      <th>6866</th>\n",
       "      <td>BMP7</td>\n",
       "      <td>pLoF</td>\n",
       "      <td>0.01</td>\n",
       "      <td>0.001414</td>\n",
       "      <td>0.001414</td>\n",
       "      <td>0.001414</td>\n",
       "      <td>0.085477</td>\n",
       "      <td>0.026780</td>\n",
       "      <td>13.0</td>\n",
       "      <td>8.0</td>\n",
       "      <td>5.0</td>\n",
       "      <td>0.0</td>\n",
       "      <td>10.0</td>\n",
       "    </tr>\n",
       "    <tr>\n",
       "      <th>...</th>\n",
       "      <td>...</td>\n",
       "      <td>...</td>\n",
       "      <td>...</td>\n",
       "      <td>...</td>\n",
       "      <td>...</td>\n",
       "      <td>...</td>\n",
       "      <td>...</td>\n",
       "      <td>...</td>\n",
       "      <td>...</td>\n",
       "      <td>...</td>\n",
       "      <td>...</td>\n",
       "      <td>...</td>\n",
       "      <td>...</td>\n",
       "    </tr>\n",
       "    <tr>\n",
       "      <th>8102</th>\n",
       "      <td>ABHD16B</td>\n",
       "      <td>pLoF</td>\n",
       "      <td>0.01</td>\n",
       "      <td>1.000000</td>\n",
       "      <td>0.994878</td>\n",
       "      <td>0.955058</td>\n",
       "      <td>0.000130</td>\n",
       "      <td>0.020228</td>\n",
       "      <td>288.0</td>\n",
       "      <td>88.0</td>\n",
       "      <td>200.0</td>\n",
       "      <td>7.0</td>\n",
       "      <td>19.0</td>\n",
       "    </tr>\n",
       "    <tr>\n",
       "      <th>3994</th>\n",
       "      <td>SPAG4</td>\n",
       "      <td>pLoF</td>\n",
       "      <td>0.01</td>\n",
       "      <td>0.795947</td>\n",
       "      <td>1.000000</td>\n",
       "      <td>0.609883</td>\n",
       "      <td>-0.000022</td>\n",
       "      <td>inf</td>\n",
       "      <td>300.0</td>\n",
       "      <td>86.0</td>\n",
       "      <td>214.0</td>\n",
       "      <td>7.0</td>\n",
       "      <td>36.0</td>\n",
       "    </tr>\n",
       "    <tr>\n",
       "      <th>2167</th>\n",
       "      <td>SCP2D1</td>\n",
       "      <td>pLoF</td>\n",
       "      <td>0.01</td>\n",
       "      <td>1.000000</td>\n",
       "      <td>1.000000</td>\n",
       "      <td>1.000000</td>\n",
       "      <td>0.000073</td>\n",
       "      <td>inf</td>\n",
       "      <td>179.0</td>\n",
       "      <td>51.0</td>\n",
       "      <td>128.0</td>\n",
       "      <td>2.0</td>\n",
       "      <td>3.0</td>\n",
       "    </tr>\n",
       "    <tr>\n",
       "      <th>1984</th>\n",
       "      <td>MX2</td>\n",
       "      <td>pLoF</td>\n",
       "      <td>0.01</td>\n",
       "      <td>1.000000</td>\n",
       "      <td>1.000000</td>\n",
       "      <td>0.907502</td>\n",
       "      <td>-0.000051</td>\n",
       "      <td>inf</td>\n",
       "      <td>291.0</td>\n",
       "      <td>86.0</td>\n",
       "      <td>205.0</td>\n",
       "      <td>6.0</td>\n",
       "      <td>35.0</td>\n",
       "    </tr>\n",
       "    <tr>\n",
       "      <th>7404</th>\n",
       "      <td>MTG2</td>\n",
       "      <td>pLoF</td>\n",
       "      <td>0.01</td>\n",
       "      <td>1.000000</td>\n",
       "      <td>1.000000</td>\n",
       "      <td>0.986875</td>\n",
       "      <td>0.000003</td>\n",
       "      <td>inf</td>\n",
       "      <td>1154.0</td>\n",
       "      <td>334.0</td>\n",
       "      <td>820.0</td>\n",
       "      <td>4.0</td>\n",
       "      <td>19.0</td>\n",
       "    </tr>\n",
       "  </tbody>\n",
       "</table>\n",
       "<p>684 rows × 13 columns</p>\n",
       "</div>"
      ],
      "text/plain": [
       "       Region Group  max_MAF    Pvalue  Pvalue_Burden  Pvalue_SKAT  \\\n",
       "6481     ADNP  pLoF     0.01  0.000338       0.000168     0.000529   \n",
       "5908  SLC12A5  pLoF     0.01  0.000486       0.000286     0.001489   \n",
       "2449     NXT1  pLoF     0.01  0.000415       0.000415     0.000415   \n",
       "3648     ITCH  pLoF     0.01  0.001263       0.001263     0.001263   \n",
       "6866     BMP7  pLoF     0.01  0.001414       0.001414     0.001414   \n",
       "...       ...   ...      ...       ...            ...          ...   \n",
       "8102  ABHD16B  pLoF     0.01  1.000000       0.994878     0.955058   \n",
       "3994    SPAG4  pLoF     0.01  0.795947       1.000000     0.609883   \n",
       "2167   SCP2D1  pLoF     0.01  1.000000       1.000000     1.000000   \n",
       "1984      MX2  pLoF     0.01  1.000000       1.000000     0.907502   \n",
       "7404     MTG2  pLoF     0.01  1.000000       1.000000     0.986875   \n",
       "\n",
       "      BETA_Burden  SE_Burden     MAC  MAC_case  MAC_control  Number_rare  \\\n",
       "6481     0.050083   0.013308    48.0      26.0         22.0          1.0   \n",
       "5908     0.067383   0.018575    27.0      15.0         12.0          1.0   \n",
       "2449     0.132810   0.037621     5.0       5.0          0.0          0.0   \n",
       "3648     0.049650   0.015399    36.0      20.0         16.0          0.0   \n",
       "6866     0.085477   0.026780    13.0       8.0          5.0          0.0   \n",
       "...           ...        ...     ...       ...          ...          ...   \n",
       "8102     0.000130   0.020228   288.0      88.0        200.0          7.0   \n",
       "3994    -0.000022        inf   300.0      86.0        214.0          7.0   \n",
       "2167     0.000073        inf   179.0      51.0        128.0          2.0   \n",
       "1984    -0.000051        inf   291.0      86.0        205.0          6.0   \n",
       "7404     0.000003        inf  1154.0     334.0        820.0          4.0   \n",
       "\n",
       "      Number_ultra_rare  \n",
       "6481               11.0  \n",
       "5908               13.0  \n",
       "2449                4.0  \n",
       "3648               22.0  \n",
       "6866               10.0  \n",
       "...                 ...  \n",
       "8102               19.0  \n",
       "3994               36.0  \n",
       "2167                3.0  \n",
       "1984               35.0  \n",
       "7404               19.0  \n",
       "\n",
       "[684 rows x 13 columns]"
      ]
     },
     "execution_count": 18,
     "metadata": {},
     "output_type": "execute_result"
    }
   ],
   "source": [
    "gene_associations[(gene_associations[\"Group\"] == \"pLoF\") & (gene_associations[\"max_MAF\"] == 0.01)].sort_values(by=\"Pvalue_Burden\")"
   ]
  },
  {
   "cell_type": "code",
   "execution_count": null,
   "id": "8a375221",
   "metadata": {},
   "outputs": [],
   "source": []
  },
  {
   "cell_type": "code",
   "execution_count": null,
   "id": "e803b654",
   "metadata": {},
   "outputs": [],
   "source": []
  },
  {
   "cell_type": "code",
   "execution_count": null,
   "id": "3846f707",
   "metadata": {},
   "outputs": [],
   "source": []
  },
  {
   "cell_type": "code",
   "execution_count": null,
   "id": "da64e31e",
   "metadata": {},
   "outputs": [],
   "source": []
  },
  {
   "cell_type": "code",
   "execution_count": null,
   "id": "01146857",
   "metadata": {},
   "outputs": [],
   "source": []
  },
  {
   "cell_type": "code",
   "execution_count": null,
   "id": "dfbda945",
   "metadata": {},
   "outputs": [],
   "source": []
  },
  {
   "cell_type": "code",
   "execution_count": null,
   "id": "ec615c10",
   "metadata": {},
   "outputs": [],
   "source": []
  },
  {
   "cell_type": "code",
   "execution_count": null,
   "id": "78322a3a",
   "metadata": {},
   "outputs": [],
   "source": []
  },
  {
   "cell_type": "code",
   "execution_count": null,
   "id": "b9ef7fbe",
   "metadata": {},
   "outputs": [],
   "source": []
  },
  {
   "cell_type": "code",
   "execution_count": null,
   "id": "ce53a787",
   "metadata": {},
   "outputs": [],
   "source": []
  },
  {
   "cell_type": "code",
   "execution_count": null,
   "id": "80ebacff",
   "metadata": {},
   "outputs": [],
   "source": []
  },
  {
   "cell_type": "code",
   "execution_count": null,
   "id": "c9e6c8d2",
   "metadata": {},
   "outputs": [],
   "source": []
  },
  {
   "cell_type": "code",
   "execution_count": null,
   "id": "a181b185",
   "metadata": {},
   "outputs": [],
   "source": []
  },
  {
   "cell_type": "code",
   "execution_count": null,
   "id": "75fdb9e9",
   "metadata": {},
   "outputs": [],
   "source": []
  },
  {
   "cell_type": "code",
   "execution_count": 1,
   "id": "085ce4a0",
   "metadata": {},
   "outputs": [],
   "source": [
    "import tqdm"
   ]
  }
 ],
 "metadata": {
  "kernelspec": {
   "display_name": "Python 3 (ipykernel)",
   "language": "python",
   "name": "python3"
  },
  "language_info": {
   "codemirror_mode": {
    "name": "ipython",
    "version": 3
   },
   "file_extension": ".py",
   "mimetype": "text/x-python",
   "name": "python",
   "nbconvert_exporter": "python",
   "pygments_lexer": "ipython3",
   "version": "3.10.6"
  }
 },
 "nbformat": 4,
 "nbformat_minor": 5
}
